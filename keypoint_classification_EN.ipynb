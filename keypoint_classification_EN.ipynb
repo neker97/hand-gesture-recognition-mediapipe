{
 "cells": [
  {
   "cell_type": "code",
   "execution_count": 1,
   "metadata": {
    "id": "igMyGnjE9hEp"
   },
   "outputs": [],
   "source": [
    "import csv\n",
    "\n",
    "import numpy as np\n",
    "import tensorflow as tf\n",
    "from sklearn.model_selection import train_test_split\n",
    "\n",
    "RANDOM_SEED = 42"
   ]
  },
  {
   "cell_type": "markdown",
   "metadata": {
    "id": "t2HDvhIu9hEr"
   },
   "source": [
    "# Specify each path"
   ]
  },
  {
   "cell_type": "code",
   "execution_count": 2,
   "metadata": {
    "id": "9NvZP2Zn9hEy"
   },
   "outputs": [],
   "source": [
    "dataset = 'model/keypoint_classifier/keypoint.csv'\n",
    "model_save_path = 'model/keypoint_classifier/keypoint_classifier.hdf5'\n",
    "tflite_save_path = 'model/keypoint_classifier/keypoint_classifier.tflite'"
   ]
  },
  {
   "cell_type": "markdown",
   "metadata": {
    "id": "s5oMH7x19hEz"
   },
   "source": [
    "# Set number of classes"
   ]
  },
  {
   "cell_type": "code",
   "execution_count": 3,
   "metadata": {
    "id": "du4kodXL9hEz"
   },
   "outputs": [],
   "source": [
    "NUM_CLASSES = 7"
   ]
  },
  {
   "cell_type": "markdown",
   "metadata": {
    "id": "XjnL0uso9hEz"
   },
   "source": [
    "# Dataset reading"
   ]
  },
  {
   "cell_type": "code",
   "execution_count": 4,
   "metadata": {
    "id": "QT5ZqtEz9hE0"
   },
   "outputs": [],
   "source": [
    "X_dataset = np.loadtxt(dataset, delimiter=',', dtype='float32', usecols=list(range(1, (21 * 2) + 1)))"
   ]
  },
  {
   "cell_type": "code",
   "execution_count": 5,
   "metadata": {
    "id": "QmoKFsp49hE0"
   },
   "outputs": [],
   "source": [
    "y_dataset = np.loadtxt(dataset, delimiter=',', dtype='int32', usecols=(0))"
   ]
  },
  {
   "cell_type": "code",
   "execution_count": 6,
   "metadata": {
    "id": "xQU7JTZ_9hE0"
   },
   "outputs": [],
   "source": [
    "X_train, X_test, y_train, y_test = train_test_split(X_dataset, y_dataset, train_size=0.75, random_state=RANDOM_SEED)"
   ]
  },
  {
   "cell_type": "markdown",
   "metadata": {
    "id": "mxK_lETT9hE0"
   },
   "source": [
    "# Model building"
   ]
  },
  {
   "cell_type": "code",
   "execution_count": 7,
   "metadata": {
    "id": "vHBmUf1t9hE1"
   },
   "outputs": [
    {
     "name": "stdout",
     "output_type": "stream",
     "text": [
      "WARNING:tensorflow:Please add `keras.layers.InputLayer` instead of `keras.Input` to Sequential model. `keras.Input` is intended to be used by Functional model.\n"
     ]
    }
   ],
   "source": [
    "model = tf.keras.models.Sequential([\n",
    "    tf.keras.layers.Input((21 * 2, )),\n",
    "    tf.keras.layers.Dropout(0.2),\n",
    "    tf.keras.layers.Dense(20, activation='relu'),\n",
    "    tf.keras.layers.Dropout(0.4),\n",
    "    tf.keras.layers.Dense(10, activation='relu'),\n",
    "    tf.keras.layers.Dense(NUM_CLASSES, activation='softmax')\n",
    "])"
   ]
  },
  {
   "cell_type": "code",
   "execution_count": 8,
   "metadata": {
    "colab": {
     "base_uri": "https://localhost:8080/"
    },
    "id": "ypqky9tc9hE1",
    "outputId": "5db082bb-30e3-4110-bf63-a1ee777ecd46"
   },
   "outputs": [
    {
     "name": "stdout",
     "output_type": "stream",
     "text": [
      "Model: \"sequential\"\n",
      "_________________________________________________________________\n",
      "Layer (type)                 Output Shape              Param #   \n",
      "=================================================================\n",
      "dropout (Dropout)            (None, 42)                0         \n",
      "_________________________________________________________________\n",
      "dense (Dense)                (None, 20)                860       \n",
      "_________________________________________________________________\n",
      "dropout_1 (Dropout)          (None, 20)                0         \n",
      "_________________________________________________________________\n",
      "dense_1 (Dense)              (None, 10)                210       \n",
      "_________________________________________________________________\n",
      "dense_2 (Dense)              (None, 7)                 77        \n",
      "=================================================================\n",
      "Total params: 1,147\n",
      "Trainable params: 1,147\n",
      "Non-trainable params: 0\n",
      "_________________________________________________________________\n"
     ]
    }
   ],
   "source": [
    "model.summary()  # tf.keras.utils.plot_model(model, show_shapes=True)"
   ]
  },
  {
   "cell_type": "code",
   "execution_count": 9,
   "metadata": {
    "id": "MbMjOflQ9hE1"
   },
   "outputs": [],
   "source": [
    "# Model checkpoint callback\n",
    "cp_callback = tf.keras.callbacks.ModelCheckpoint(\n",
    "    model_save_path, verbose=1, save_weights_only=False)\n",
    "# Callback for early stopping\n",
    "es_callback = tf.keras.callbacks.EarlyStopping(patience=20, verbose=1)"
   ]
  },
  {
   "cell_type": "code",
   "execution_count": 10,
   "metadata": {
    "id": "c3Dac0M_9hE2"
   },
   "outputs": [],
   "source": [
    "# Model compilation\n",
    "model.compile(\n",
    "    optimizer='adam',\n",
    "    loss='sparse_categorical_crossentropy',\n",
    "    metrics=['accuracy']\n",
    ")"
   ]
  },
  {
   "cell_type": "markdown",
   "metadata": {
    "id": "7XI0j1Iu9hE2"
   },
   "source": [
    "# Model training"
   ]
  },
  {
   "cell_type": "code",
   "execution_count": 11,
   "metadata": {
    "colab": {
     "base_uri": "https://localhost:8080/"
    },
    "id": "WirBl-JE9hE3",
    "outputId": "71b30ca2-8294-4d9d-8aa2-800d90d399de",
    "scrolled": true
   },
   "outputs": [
    {
     "name": "stdout",
     "output_type": "stream",
     "text": [
      "Epoch 1/1000\n",
      "39/39 [==============================] - 1s 4ms/step - loss: 1.9883 - accuracy: 0.1984 - val_loss: 1.8730 - val_accuracy: 0.4127\n",
      "\n",
      "Epoch 00001: saving model to model/keypoint_classifier\\keypoint_classifier.hdf5\n",
      "Epoch 2/1000\n",
      "39/39 [==============================] - 0s 1ms/step - loss: 1.8513 - accuracy: 0.2930 - val_loss: 1.7751 - val_accuracy: 0.3470\n",
      "\n",
      "Epoch 00002: saving model to model/keypoint_classifier\\keypoint_classifier.hdf5\n",
      "Epoch 3/1000\n",
      "39/39 [==============================] - 0s 1ms/step - loss: 1.7448 - accuracy: 0.3291 - val_loss: 1.6582 - val_accuracy: 0.3729\n",
      "\n",
      "Epoch 00003: saving model to model/keypoint_classifier\\keypoint_classifier.hdf5\n",
      "Epoch 4/1000\n",
      "39/39 [==============================] - 0s 1ms/step - loss: 1.6482 - accuracy: 0.3388 - val_loss: 1.5173 - val_accuracy: 0.4620\n",
      "\n",
      "Epoch 00004: saving model to model/keypoint_classifier\\keypoint_classifier.hdf5\n",
      "Epoch 5/1000\n",
      "39/39 [==============================] - 0s 1ms/step - loss: 1.5549 - accuracy: 0.3781 - val_loss: 1.4014 - val_accuracy: 0.5018\n",
      "\n",
      "Epoch 00005: saving model to model/keypoint_classifier\\keypoint_classifier.hdf5\n",
      "Epoch 6/1000\n",
      "39/39 [==============================] - 0s 1ms/step - loss: 1.4711 - accuracy: 0.4082 - val_loss: 1.2980 - val_accuracy: 0.5590\n",
      "\n",
      "Epoch 00006: saving model to model/keypoint_classifier\\keypoint_classifier.hdf5\n",
      "Epoch 7/1000\n",
      "39/39 [==============================] - 0s 1ms/step - loss: 1.4026 - accuracy: 0.4480 - val_loss: 1.2024 - val_accuracy: 0.6422\n",
      "\n",
      "Epoch 00007: saving model to model/keypoint_classifier\\keypoint_classifier.hdf5\n",
      "Epoch 8/1000\n",
      "39/39 [==============================] - 0s 1ms/step - loss: 1.3412 - accuracy: 0.4594 - val_loss: 1.1231 - val_accuracy: 0.6699\n",
      "\n",
      "Epoch 00008: saving model to model/keypoint_classifier\\keypoint_classifier.hdf5\n",
      "Epoch 9/1000\n",
      "39/39 [==============================] - 0s 1ms/step - loss: 1.2764 - accuracy: 0.4958 - val_loss: 1.0496 - val_accuracy: 0.6940\n",
      "\n",
      "Epoch 00009: saving model to model/keypoint_classifier\\keypoint_classifier.hdf5\n",
      "Epoch 10/1000\n",
      "39/39 [==============================] - 0s 1ms/step - loss: 1.2361 - accuracy: 0.5159 - val_loss: 0.9962 - val_accuracy: 0.7084\n",
      "\n",
      "Epoch 00010: saving model to model/keypoint_classifier\\keypoint_classifier.hdf5\n",
      "Epoch 11/1000\n",
      "39/39 [==============================] - 0s 1ms/step - loss: 1.2124 - accuracy: 0.5191 - val_loss: 0.9536 - val_accuracy: 0.7253\n",
      "\n",
      "Epoch 00011: saving model to model/keypoint_classifier\\keypoint_classifier.hdf5\n",
      "Epoch 12/1000\n",
      "39/39 [==============================] - 0s 1ms/step - loss: 1.1701 - accuracy: 0.5311 - val_loss: 0.9188 - val_accuracy: 0.7307\n",
      "\n",
      "Epoch 00012: saving model to model/keypoint_classifier\\keypoint_classifier.hdf5\n",
      "Epoch 13/1000\n",
      "39/39 [==============================] - 0s 1ms/step - loss: 1.1429 - accuracy: 0.5390 - val_loss: 0.8847 - val_accuracy: 0.7259\n",
      "\n",
      "Epoch 00013: saving model to model/keypoint_classifier\\keypoint_classifier.hdf5\n",
      "Epoch 14/1000\n",
      "39/39 [==============================] - 0s 1ms/step - loss: 1.1204 - accuracy: 0.5438 - val_loss: 0.8530 - val_accuracy: 0.7458\n",
      "\n",
      "Epoch 00014: saving model to model/keypoint_classifier\\keypoint_classifier.hdf5\n",
      "Epoch 15/1000\n",
      "39/39 [==============================] - 0s 1ms/step - loss: 1.1060 - accuracy: 0.5500 - val_loss: 0.8257 - val_accuracy: 0.7464\n",
      "\n",
      "Epoch 00015: saving model to model/keypoint_classifier\\keypoint_classifier.hdf5\n",
      "Epoch 16/1000\n",
      "39/39 [==============================] - 0s 949us/step - loss: 1.1096 - accuracy: 0.5528 - val_loss: 0.8098 - val_accuracy: 0.7476\n",
      "\n",
      "Epoch 00016: saving model to model/keypoint_classifier\\keypoint_classifier.hdf5\n",
      "Epoch 17/1000\n",
      "39/39 [==============================] - 0s 1ms/step - loss: 1.0677 - accuracy: 0.5687 - val_loss: 0.7936 - val_accuracy: 0.7566\n",
      "\n",
      "Epoch 00017: saving model to model/keypoint_classifier\\keypoint_classifier.hdf5\n",
      "Epoch 18/1000\n",
      "39/39 [==============================] - 0s 1ms/step - loss: 1.0527 - accuracy: 0.5685 - val_loss: 0.7722 - val_accuracy: 0.7608\n",
      "\n",
      "Epoch 00018: saving model to model/keypoint_classifier\\keypoint_classifier.hdf5\n",
      "Epoch 19/1000\n",
      "39/39 [==============================] - 0s 931us/step - loss: 1.0269 - accuracy: 0.5729 - val_loss: 0.7564 - val_accuracy: 0.7687\n",
      "\n",
      "Epoch 00019: saving model to model/keypoint_classifier\\keypoint_classifier.hdf5\n",
      "Epoch 20/1000\n",
      "39/39 [==============================] - 0s 932us/step - loss: 1.0175 - accuracy: 0.5839 - val_loss: 0.7353 - val_accuracy: 0.7735\n",
      "\n",
      "Epoch 00020: saving model to model/keypoint_classifier\\keypoint_classifier.hdf5\n",
      "Epoch 21/1000\n",
      "39/39 [==============================] - 0s 1ms/step - loss: 1.0112 - accuracy: 0.5898 - val_loss: 0.7206 - val_accuracy: 0.7825\n",
      "\n",
      "Epoch 00021: saving model to model/keypoint_classifier\\keypoint_classifier.hdf5\n",
      "Epoch 22/1000\n",
      "39/39 [==============================] - 0s 953us/step - loss: 0.9963 - accuracy: 0.6018 - val_loss: 0.7005 - val_accuracy: 0.8193\n",
      "\n",
      "Epoch 00022: saving model to model/keypoint_classifier\\keypoint_classifier.hdf5\n",
      "Epoch 23/1000\n",
      "39/39 [==============================] - 0s 943us/step - loss: 0.9874 - accuracy: 0.6010 - val_loss: 0.6868 - val_accuracy: 0.8295\n",
      "\n",
      "Epoch 00023: saving model to model/keypoint_classifier\\keypoint_classifier.hdf5\n",
      "Epoch 24/1000\n",
      "39/39 [==============================] - 0s 796us/step - loss: 0.9649 - accuracy: 0.6151 - val_loss: 0.6726 - val_accuracy: 0.8398\n",
      "\n",
      "Epoch 00024: saving model to model/keypoint_classifier\\keypoint_classifier.hdf5\n",
      "Epoch 25/1000\n",
      "39/39 [==============================] - 0s 1ms/step - loss: 0.9443 - accuracy: 0.6187 - val_loss: 0.6539 - val_accuracy: 0.8331\n",
      "\n",
      "Epoch 00025: saving model to model/keypoint_classifier\\keypoint_classifier.hdf5\n",
      "Epoch 26/1000\n",
      "39/39 [==============================] - 0s 938us/step - loss: 0.9374 - accuracy: 0.6243 - val_loss: 0.6482 - val_accuracy: 0.8464\n",
      "\n",
      "Epoch 00026: saving model to model/keypoint_classifier\\keypoint_classifier.hdf5\n",
      "Epoch 27/1000\n",
      "39/39 [==============================] - 0s 1ms/step - loss: 0.9236 - accuracy: 0.6309 - val_loss: 0.6306 - val_accuracy: 0.8494\n",
      "\n",
      "Epoch 00027: saving model to model/keypoint_classifier\\keypoint_classifier.hdf5\n",
      "Epoch 28/1000\n",
      "39/39 [==============================] - 0s 1ms/step - loss: 0.9393 - accuracy: 0.6339 - val_loss: 0.6197 - val_accuracy: 0.8596\n",
      "\n",
      "Epoch 00028: saving model to model/keypoint_classifier\\keypoint_classifier.hdf5\n",
      "Epoch 29/1000\n",
      "39/39 [==============================] - 0s 1ms/step - loss: 0.9028 - accuracy: 0.6440 - val_loss: 0.6018 - val_accuracy: 0.8729\n",
      "\n",
      "Epoch 00029: saving model to model/keypoint_classifier\\keypoint_classifier.hdf5\n",
      "Epoch 30/1000\n",
      "39/39 [==============================] - 0s 1ms/step - loss: 0.9003 - accuracy: 0.6468 - val_loss: 0.5933 - val_accuracy: 0.8687\n",
      "\n",
      "Epoch 00030: saving model to model/keypoint_classifier\\keypoint_classifier.hdf5\n",
      "Epoch 31/1000\n",
      "39/39 [==============================] - 0s 946us/step - loss: 0.9124 - accuracy: 0.6345 - val_loss: 0.5856 - val_accuracy: 0.8747\n",
      "\n",
      "Epoch 00031: saving model to model/keypoint_classifier\\keypoint_classifier.hdf5\n",
      "Epoch 32/1000\n",
      "39/39 [==============================] - 0s 1ms/step - loss: 0.8801 - accuracy: 0.6540 - val_loss: 0.5720 - val_accuracy: 0.8753\n",
      "\n",
      "Epoch 00032: saving model to model/keypoint_classifier\\keypoint_classifier.hdf5\n",
      "Epoch 33/1000\n",
      "39/39 [==============================] - 0s 1ms/step - loss: 0.8838 - accuracy: 0.6556 - val_loss: 0.5587 - val_accuracy: 0.8867\n",
      "\n",
      "Epoch 00033: saving model to model/keypoint_classifier\\keypoint_classifier.hdf5\n",
      "Epoch 34/1000\n",
      "39/39 [==============================] - 0s 1ms/step - loss: 0.8670 - accuracy: 0.6624 - val_loss: 0.5474 - val_accuracy: 0.8922\n",
      "\n",
      "Epoch 00034: saving model to model/keypoint_classifier\\keypoint_classifier.hdf5\n",
      "Epoch 35/1000\n",
      "39/39 [==============================] - 0s 1ms/step - loss: 0.8685 - accuracy: 0.6602 - val_loss: 0.5316 - val_accuracy: 0.8886\n",
      "\n",
      "Epoch 00035: saving model to model/keypoint_classifier\\keypoint_classifier.hdf5\n",
      "Epoch 36/1000\n",
      "39/39 [==============================] - 0s 1ms/step - loss: 0.8630 - accuracy: 0.6606 - val_loss: 0.5231 - val_accuracy: 0.8982\n",
      "\n",
      "Epoch 00036: saving model to model/keypoint_classifier\\keypoint_classifier.hdf5\n",
      "Epoch 37/1000\n",
      "39/39 [==============================] - 0s 1ms/step - loss: 0.8578 - accuracy: 0.6627 - val_loss: 0.5128 - val_accuracy: 0.8898\n"
     ]
    },
    {
     "name": "stdout",
     "output_type": "stream",
     "text": [
      "\n",
      "Epoch 00037: saving model to model/keypoint_classifier\\keypoint_classifier.hdf5\n",
      "Epoch 38/1000\n",
      "39/39 [==============================] - 0s 1ms/step - loss: 0.8243 - accuracy: 0.6819 - val_loss: 0.4954 - val_accuracy: 0.9000\n",
      "\n",
      "Epoch 00038: saving model to model/keypoint_classifier\\keypoint_classifier.hdf5\n",
      "Epoch 39/1000\n",
      "39/39 [==============================] - 0s 1ms/step - loss: 0.8088 - accuracy: 0.6841 - val_loss: 0.4844 - val_accuracy: 0.9054\n",
      "\n",
      "Epoch 00039: saving model to model/keypoint_classifier\\keypoint_classifier.hdf5\n",
      "Epoch 40/1000\n",
      "39/39 [==============================] - 0s 1ms/step - loss: 0.8173 - accuracy: 0.6853 - val_loss: 0.4804 - val_accuracy: 0.9018\n",
      "\n",
      "Epoch 00040: saving model to model/keypoint_classifier\\keypoint_classifier.hdf5\n",
      "Epoch 41/1000\n",
      "39/39 [==============================] - 0s 898us/step - loss: 0.8147 - accuracy: 0.6867 - val_loss: 0.4762 - val_accuracy: 0.8958\n",
      "\n",
      "Epoch 00041: saving model to model/keypoint_classifier\\keypoint_classifier.hdf5\n",
      "Epoch 42/1000\n",
      "39/39 [==============================] - 0s 1ms/step - loss: 0.7979 - accuracy: 0.6938 - val_loss: 0.4645 - val_accuracy: 0.9078\n",
      "\n",
      "Epoch 00042: saving model to model/keypoint_classifier\\keypoint_classifier.hdf5\n",
      "Epoch 43/1000\n",
      "39/39 [==============================] - 0s 942us/step - loss: 0.7792 - accuracy: 0.6962 - val_loss: 0.4457 - val_accuracy: 0.9084\n",
      "\n",
      "Epoch 00043: saving model to model/keypoint_classifier\\keypoint_classifier.hdf5\n",
      "Epoch 44/1000\n",
      "39/39 [==============================] - 0s 883us/step - loss: 0.7877 - accuracy: 0.6930 - val_loss: 0.4455 - val_accuracy: 0.9078\n",
      "\n",
      "Epoch 00044: saving model to model/keypoint_classifier\\keypoint_classifier.hdf5\n",
      "Epoch 45/1000\n",
      "39/39 [==============================] - 0s 1ms/step - loss: 0.7956 - accuracy: 0.6906 - val_loss: 0.4424 - val_accuracy: 0.9114\n",
      "\n",
      "Epoch 00045: saving model to model/keypoint_classifier\\keypoint_classifier.hdf5\n",
      "Epoch 46/1000\n",
      "39/39 [==============================] - 0s 1ms/step - loss: 0.7720 - accuracy: 0.7098 - val_loss: 0.4372 - val_accuracy: 0.9054\n",
      "\n",
      "Epoch 00046: saving model to model/keypoint_classifier\\keypoint_classifier.hdf5\n",
      "Epoch 47/1000\n",
      "39/39 [==============================] - 0s 1ms/step - loss: 0.7639 - accuracy: 0.7082 - val_loss: 0.4308 - val_accuracy: 0.9072\n",
      "\n",
      "Epoch 00047: saving model to model/keypoint_classifier\\keypoint_classifier.hdf5\n",
      "Epoch 48/1000\n",
      "39/39 [==============================] - 0s 1ms/step - loss: 0.7731 - accuracy: 0.6952 - val_loss: 0.4187 - val_accuracy: 0.9223\n",
      "\n",
      "Epoch 00048: saving model to model/keypoint_classifier\\keypoint_classifier.hdf5\n",
      "Epoch 49/1000\n",
      "39/39 [==============================] - 0s 942us/step - loss: 0.7708 - accuracy: 0.6960 - val_loss: 0.4164 - val_accuracy: 0.9199\n",
      "\n",
      "Epoch 00049: saving model to model/keypoint_classifier\\keypoint_classifier.hdf5\n",
      "Epoch 50/1000\n",
      "39/39 [==============================] - 0s 1ms/step - loss: 0.7647 - accuracy: 0.6984 - val_loss: 0.4051 - val_accuracy: 0.9193\n",
      "\n",
      "Epoch 00050: saving model to model/keypoint_classifier\\keypoint_classifier.hdf5\n",
      "Epoch 51/1000\n",
      "39/39 [==============================] - 0s 1ms/step - loss: 0.7418 - accuracy: 0.7203 - val_loss: 0.4055 - val_accuracy: 0.9108\n",
      "\n",
      "Epoch 00051: saving model to model/keypoint_classifier\\keypoint_classifier.hdf5\n",
      "Epoch 52/1000\n",
      "39/39 [==============================] - 0s 1ms/step - loss: 0.7597 - accuracy: 0.7116 - val_loss: 0.3956 - val_accuracy: 0.9187\n",
      "\n",
      "Epoch 00052: saving model to model/keypoint_classifier\\keypoint_classifier.hdf5\n",
      "Epoch 53/1000\n",
      "39/39 [==============================] - 0s 1ms/step - loss: 0.7397 - accuracy: 0.7120 - val_loss: 0.4015 - val_accuracy: 0.9139\n",
      "\n",
      "Epoch 00053: saving model to model/keypoint_classifier\\keypoint_classifier.hdf5\n",
      "Epoch 54/1000\n",
      "39/39 [==============================] - 0s 1ms/step - loss: 0.7459 - accuracy: 0.7096 - val_loss: 0.3928 - val_accuracy: 0.9199\n",
      "\n",
      "Epoch 00054: saving model to model/keypoint_classifier\\keypoint_classifier.hdf5\n",
      "Epoch 55/1000\n",
      "39/39 [==============================] - 0s 1ms/step - loss: 0.7517 - accuracy: 0.7147 - val_loss: 0.3893 - val_accuracy: 0.9229\n",
      "\n",
      "Epoch 00055: saving model to model/keypoint_classifier\\keypoint_classifier.hdf5\n",
      "Epoch 56/1000\n",
      "39/39 [==============================] - 0s 1ms/step - loss: 0.7273 - accuracy: 0.7243 - val_loss: 0.3820 - val_accuracy: 0.9325\n",
      "\n",
      "Epoch 00056: saving model to model/keypoint_classifier\\keypoint_classifier.hdf5\n",
      "Epoch 57/1000\n",
      "39/39 [==============================] - 0s 1ms/step - loss: 0.7274 - accuracy: 0.7147 - val_loss: 0.3831 - val_accuracy: 0.9229\n",
      "\n",
      "Epoch 00057: saving model to model/keypoint_classifier\\keypoint_classifier.hdf5\n",
      "Epoch 58/1000\n",
      "39/39 [==============================] - 0s 1ms/step - loss: 0.7355 - accuracy: 0.7163 - val_loss: 0.3787 - val_accuracy: 0.9289\n",
      "\n",
      "Epoch 00058: saving model to model/keypoint_classifier\\keypoint_classifier.hdf5\n",
      "Epoch 59/1000\n",
      "39/39 [==============================] - 0s 1ms/step - loss: 0.7318 - accuracy: 0.7223 - val_loss: 0.3771 - val_accuracy: 0.9373\n",
      "\n",
      "Epoch 00059: saving model to model/keypoint_classifier\\keypoint_classifier.hdf5\n",
      "Epoch 60/1000\n",
      "39/39 [==============================] - 0s 1ms/step - loss: 0.7204 - accuracy: 0.7279 - val_loss: 0.3807 - val_accuracy: 0.9223\n",
      "\n",
      "Epoch 00060: saving model to model/keypoint_classifier\\keypoint_classifier.hdf5\n",
      "Epoch 61/1000\n",
      "39/39 [==============================] - 0s 1ms/step - loss: 0.7042 - accuracy: 0.7311 - val_loss: 0.3711 - val_accuracy: 0.9277\n",
      "\n",
      "Epoch 00061: saving model to model/keypoint_classifier\\keypoint_classifier.hdf5\n",
      "Epoch 62/1000\n",
      "39/39 [==============================] - 0s 1ms/step - loss: 0.7153 - accuracy: 0.7265 - val_loss: 0.3744 - val_accuracy: 0.9253\n",
      "\n",
      "Epoch 00062: saving model to model/keypoint_classifier\\keypoint_classifier.hdf5\n",
      "Epoch 63/1000\n",
      "39/39 [==============================] - 0s 1ms/step - loss: 0.7274 - accuracy: 0.7169 - val_loss: 0.3662 - val_accuracy: 0.9361\n",
      "\n",
      "Epoch 00063: saving model to model/keypoint_classifier\\keypoint_classifier.hdf5\n",
      "Epoch 64/1000\n",
      "39/39 [==============================] - 0s 1ms/step - loss: 0.7117 - accuracy: 0.7257 - val_loss: 0.3673 - val_accuracy: 0.9181\n",
      "\n",
      "Epoch 00064: saving model to model/keypoint_classifier\\keypoint_classifier.hdf5\n",
      "Epoch 65/1000\n",
      "39/39 [==============================] - 0s 1ms/step - loss: 0.7085 - accuracy: 0.7243 - val_loss: 0.3616 - val_accuracy: 0.9253\n",
      "\n",
      "Epoch 00065: saving model to model/keypoint_classifier\\keypoint_classifier.hdf5\n",
      "Epoch 66/1000\n",
      "39/39 [==============================] - 0s 1ms/step - loss: 0.7069 - accuracy: 0.7315 - val_loss: 0.3607 - val_accuracy: 0.9307\n",
      "\n",
      "Epoch 00066: saving model to model/keypoint_classifier\\keypoint_classifier.hdf5\n",
      "Epoch 67/1000\n",
      "39/39 [==============================] - 0s 1ms/step - loss: 0.7009 - accuracy: 0.7265 - val_loss: 0.3597 - val_accuracy: 0.9247\n",
      "\n",
      "Epoch 00067: saving model to model/keypoint_classifier\\keypoint_classifier.hdf5\n",
      "Epoch 68/1000\n",
      "39/39 [==============================] - 0s 1ms/step - loss: 0.6952 - accuracy: 0.7363 - val_loss: 0.3568 - val_accuracy: 0.9295\n",
      "\n",
      "Epoch 00068: saving model to model/keypoint_classifier\\keypoint_classifier.hdf5\n",
      "Epoch 69/1000\n",
      "39/39 [==============================] - 0s 1ms/step - loss: 0.7080 - accuracy: 0.7321 - val_loss: 0.3584 - val_accuracy: 0.9235\n",
      "\n",
      "Epoch 00069: saving model to model/keypoint_classifier\\keypoint_classifier.hdf5\n",
      "Epoch 70/1000\n",
      "39/39 [==============================] - 0s 1ms/step - loss: 0.6910 - accuracy: 0.7323 - val_loss: 0.3548 - val_accuracy: 0.9313\n",
      "\n",
      "Epoch 00070: saving model to model/keypoint_classifier\\keypoint_classifier.hdf5\n",
      "Epoch 71/1000\n",
      "39/39 [==============================] - 0s 1ms/step - loss: 0.6894 - accuracy: 0.7394 - val_loss: 0.3580 - val_accuracy: 0.9181\n",
      "\n",
      "Epoch 00071: saving model to model/keypoint_classifier\\keypoint_classifier.hdf5\n",
      "Epoch 72/1000\n",
      "39/39 [==============================] - 0s 1ms/step - loss: 0.6882 - accuracy: 0.7361 - val_loss: 0.3534 - val_accuracy: 0.9283\n",
      "\n",
      "Epoch 00072: saving model to model/keypoint_classifier\\keypoint_classifier.hdf5\n",
      "Epoch 73/1000\n",
      "39/39 [==============================] - 0s 1ms/step - loss: 0.6931 - accuracy: 0.7301 - val_loss: 0.3469 - val_accuracy: 0.9319\n",
      "\n",
      "Epoch 00073: saving model to model/keypoint_classifier\\keypoint_classifier.hdf5\n",
      "Epoch 74/1000\n"
     ]
    },
    {
     "name": "stdout",
     "output_type": "stream",
     "text": [
      "39/39 [==============================] - 0s 1ms/step - loss: 0.6865 - accuracy: 0.7380 - val_loss: 0.3431 - val_accuracy: 0.9349\n",
      "\n",
      "Epoch 00074: saving model to model/keypoint_classifier\\keypoint_classifier.hdf5\n",
      "Epoch 75/1000\n",
      "39/39 [==============================] - 0s 1ms/step - loss: 0.6837 - accuracy: 0.7402 - val_loss: 0.3430 - val_accuracy: 0.9289\n",
      "\n",
      "Epoch 00075: saving model to model/keypoint_classifier\\keypoint_classifier.hdf5\n",
      "Epoch 76/1000\n",
      "39/39 [==============================] - 0s 2ms/step - loss: 0.6929 - accuracy: 0.7402 - val_loss: 0.3438 - val_accuracy: 0.9325\n",
      "\n",
      "Epoch 00076: saving model to model/keypoint_classifier\\keypoint_classifier.hdf5\n",
      "Epoch 77/1000\n",
      "39/39 [==============================] - 0s 2ms/step - loss: 0.6810 - accuracy: 0.7361 - val_loss: 0.3397 - val_accuracy: 0.9277\n",
      "\n",
      "Epoch 00077: saving model to model/keypoint_classifier\\keypoint_classifier.hdf5\n",
      "Epoch 78/1000\n",
      "39/39 [==============================] - 0s 1ms/step - loss: 0.6800 - accuracy: 0.7380 - val_loss: 0.3407 - val_accuracy: 0.9392\n",
      "\n",
      "Epoch 00078: saving model to model/keypoint_classifier\\keypoint_classifier.hdf5\n",
      "Epoch 79/1000\n",
      "39/39 [==============================] - 0s 1ms/step - loss: 0.6615 - accuracy: 0.7512 - val_loss: 0.3387 - val_accuracy: 0.9247\n",
      "\n",
      "Epoch 00079: saving model to model/keypoint_classifier\\keypoint_classifier.hdf5\n",
      "Epoch 80/1000\n",
      "39/39 [==============================] - 0s 1ms/step - loss: 0.6664 - accuracy: 0.7398 - val_loss: 0.3324 - val_accuracy: 0.9337\n",
      "\n",
      "Epoch 00080: saving model to model/keypoint_classifier\\keypoint_classifier.hdf5\n",
      "Epoch 81/1000\n",
      "39/39 [==============================] - 0s 1ms/step - loss: 0.6675 - accuracy: 0.7504 - val_loss: 0.3383 - val_accuracy: 0.9271\n",
      "\n",
      "Epoch 00081: saving model to model/keypoint_classifier\\keypoint_classifier.hdf5\n",
      "Epoch 82/1000\n",
      "39/39 [==============================] - 0s 1ms/step - loss: 0.6847 - accuracy: 0.7373 - val_loss: 0.3361 - val_accuracy: 0.9380\n",
      "\n",
      "Epoch 00082: saving model to model/keypoint_classifier\\keypoint_classifier.hdf5\n",
      "Epoch 83/1000\n",
      "39/39 [==============================] - 0s 1ms/step - loss: 0.6687 - accuracy: 0.7512 - val_loss: 0.3332 - val_accuracy: 0.9392\n",
      "\n",
      "Epoch 00083: saving model to model/keypoint_classifier\\keypoint_classifier.hdf5\n",
      "Epoch 84/1000\n",
      "39/39 [==============================] - 0s 1ms/step - loss: 0.6635 - accuracy: 0.7500 - val_loss: 0.3316 - val_accuracy: 0.9349\n",
      "\n",
      "Epoch 00084: saving model to model/keypoint_classifier\\keypoint_classifier.hdf5\n",
      "Epoch 85/1000\n",
      "39/39 [==============================] - 0s 1ms/step - loss: 0.6751 - accuracy: 0.7444 - val_loss: 0.3303 - val_accuracy: 0.9355\n",
      "\n",
      "Epoch 00085: saving model to model/keypoint_classifier\\keypoint_classifier.hdf5\n",
      "Epoch 86/1000\n",
      "39/39 [==============================] - 0s 1ms/step - loss: 0.6693 - accuracy: 0.7402 - val_loss: 0.3321 - val_accuracy: 0.9319\n",
      "\n",
      "Epoch 00086: saving model to model/keypoint_classifier\\keypoint_classifier.hdf5\n",
      "Epoch 87/1000\n",
      "39/39 [==============================] - 0s 2ms/step - loss: 0.6602 - accuracy: 0.7490 - val_loss: 0.3362 - val_accuracy: 0.9247\n",
      "\n",
      "Epoch 00087: saving model to model/keypoint_classifier\\keypoint_classifier.hdf5\n",
      "Epoch 88/1000\n",
      "39/39 [==============================] - 0s 1ms/step - loss: 0.6671 - accuracy: 0.7420 - val_loss: 0.3390 - val_accuracy: 0.9301\n",
      "\n",
      "Epoch 00088: saving model to model/keypoint_classifier\\keypoint_classifier.hdf5\n",
      "Epoch 89/1000\n",
      "39/39 [==============================] - 0s 1ms/step - loss: 0.6584 - accuracy: 0.7598 - val_loss: 0.3336 - val_accuracy: 0.9241\n",
      "\n",
      "Epoch 00089: saving model to model/keypoint_classifier\\keypoint_classifier.hdf5\n",
      "Epoch 90/1000\n",
      "39/39 [==============================] - 0s 1ms/step - loss: 0.6560 - accuracy: 0.7548 - val_loss: 0.3287 - val_accuracy: 0.9337\n",
      "\n",
      "Epoch 00090: saving model to model/keypoint_classifier\\keypoint_classifier.hdf5\n",
      "Epoch 91/1000\n",
      "39/39 [==============================] - 0s 1ms/step - loss: 0.6602 - accuracy: 0.7470 - val_loss: 0.3365 - val_accuracy: 0.9253\n",
      "\n",
      "Epoch 00091: saving model to model/keypoint_classifier\\keypoint_classifier.hdf5\n",
      "Epoch 92/1000\n",
      "39/39 [==============================] - 0s 1ms/step - loss: 0.6688 - accuracy: 0.7486 - val_loss: 0.3324 - val_accuracy: 0.9277\n",
      "\n",
      "Epoch 00092: saving model to model/keypoint_classifier\\keypoint_classifier.hdf5\n",
      "Epoch 93/1000\n",
      "39/39 [==============================] - 0s 2ms/step - loss: 0.6756 - accuracy: 0.7444 - val_loss: 0.3328 - val_accuracy: 0.9259\n",
      "\n",
      "Epoch 00093: saving model to model/keypoint_classifier\\keypoint_classifier.hdf5\n",
      "Epoch 94/1000\n",
      "39/39 [==============================] - 0s 2ms/step - loss: 0.6650 - accuracy: 0.7440 - val_loss: 0.3355 - val_accuracy: 0.9235\n",
      "\n",
      "Epoch 00094: saving model to model/keypoint_classifier\\keypoint_classifier.hdf5\n",
      "Epoch 95/1000\n",
      "39/39 [==============================] - 0s 1ms/step - loss: 0.6608 - accuracy: 0.7494 - val_loss: 0.3316 - val_accuracy: 0.9301\n",
      "\n",
      "Epoch 00095: saving model to model/keypoint_classifier\\keypoint_classifier.hdf5\n",
      "Epoch 96/1000\n",
      "39/39 [==============================] - 0s 1ms/step - loss: 0.6644 - accuracy: 0.7484 - val_loss: 0.3249 - val_accuracy: 0.9325\n",
      "\n",
      "Epoch 00096: saving model to model/keypoint_classifier\\keypoint_classifier.hdf5\n",
      "Epoch 97/1000\n",
      "39/39 [==============================] - 0s 1ms/step - loss: 0.6552 - accuracy: 0.7448 - val_loss: 0.3271 - val_accuracy: 0.9349\n",
      "\n",
      "Epoch 00097: saving model to model/keypoint_classifier\\keypoint_classifier.hdf5\n",
      "Epoch 98/1000\n",
      "39/39 [==============================] - 0s 1ms/step - loss: 0.6518 - accuracy: 0.7480 - val_loss: 0.3287 - val_accuracy: 0.9205\n",
      "\n",
      "Epoch 00098: saving model to model/keypoint_classifier\\keypoint_classifier.hdf5\n",
      "Epoch 99/1000\n",
      "39/39 [==============================] - 0s 1ms/step - loss: 0.6649 - accuracy: 0.7512 - val_loss: 0.3283 - val_accuracy: 0.9355\n",
      "\n",
      "Epoch 00099: saving model to model/keypoint_classifier\\keypoint_classifier.hdf5\n",
      "Epoch 100/1000\n",
      "39/39 [==============================] - 0s 1ms/step - loss: 0.6658 - accuracy: 0.7542 - val_loss: 0.3291 - val_accuracy: 0.9271\n",
      "\n",
      "Epoch 00100: saving model to model/keypoint_classifier\\keypoint_classifier.hdf5\n",
      "Epoch 101/1000\n",
      "39/39 [==============================] - 0s 2ms/step - loss: 0.6499 - accuracy: 0.7586 - val_loss: 0.3284 - val_accuracy: 0.9283\n",
      "\n",
      "Epoch 00101: saving model to model/keypoint_classifier\\keypoint_classifier.hdf5\n",
      "Epoch 102/1000\n",
      "39/39 [==============================] - 0s 1ms/step - loss: 0.6538 - accuracy: 0.7500 - val_loss: 0.3252 - val_accuracy: 0.9349\n",
      "\n",
      "Epoch 00102: saving model to model/keypoint_classifier\\keypoint_classifier.hdf5\n",
      "Epoch 103/1000\n",
      "39/39 [==============================] - 0s 1ms/step - loss: 0.6431 - accuracy: 0.7502 - val_loss: 0.3266 - val_accuracy: 0.9235\n",
      "\n",
      "Epoch 00103: saving model to model/keypoint_classifier\\keypoint_classifier.hdf5\n",
      "Epoch 104/1000\n",
      "39/39 [==============================] - 0s 1ms/step - loss: 0.6490 - accuracy: 0.7538 - val_loss: 0.3237 - val_accuracy: 0.9259\n",
      "\n",
      "Epoch 00104: saving model to model/keypoint_classifier\\keypoint_classifier.hdf5\n",
      "Epoch 105/1000\n",
      "39/39 [==============================] - 0s 1ms/step - loss: 0.6354 - accuracy: 0.7635 - val_loss: 0.3188 - val_accuracy: 0.9337\n",
      "\n",
      "Epoch 00105: saving model to model/keypoint_classifier\\keypoint_classifier.hdf5\n",
      "Epoch 106/1000\n",
      "39/39 [==============================] - 0s 1ms/step - loss: 0.6518 - accuracy: 0.7502 - val_loss: 0.3192 - val_accuracy: 0.9355\n",
      "\n",
      "Epoch 00106: saving model to model/keypoint_classifier\\keypoint_classifier.hdf5\n",
      "Epoch 107/1000\n",
      "39/39 [==============================] - 0s 1ms/step - loss: 0.6370 - accuracy: 0.7620 - val_loss: 0.3165 - val_accuracy: 0.9271\n",
      "\n",
      "Epoch 00107: saving model to model/keypoint_classifier\\keypoint_classifier.hdf5\n",
      "Epoch 108/1000\n",
      "39/39 [==============================] - 0s 1ms/step - loss: 0.6403 - accuracy: 0.7596 - val_loss: 0.3199 - val_accuracy: 0.9277\n",
      "\n",
      "Epoch 00108: saving model to model/keypoint_classifier\\keypoint_classifier.hdf5\n",
      "Epoch 109/1000\n",
      "39/39 [==============================] - 0s 1ms/step - loss: 0.6511 - accuracy: 0.7598 - val_loss: 0.3210 - val_accuracy: 0.9295\n",
      "\n",
      "Epoch 00109: saving model to model/keypoint_classifier\\keypoint_classifier.hdf5\n",
      "Epoch 110/1000\n",
      "39/39 [==============================] - 0s 1ms/step - loss: 0.6202 - accuracy: 0.7657 - val_loss: 0.3223 - val_accuracy: 0.9235\n"
     ]
    },
    {
     "name": "stdout",
     "output_type": "stream",
     "text": [
      "\n",
      "Epoch 00110: saving model to model/keypoint_classifier\\keypoint_classifier.hdf5\n",
      "Epoch 111/1000\n",
      "39/39 [==============================] - 0s 1ms/step - loss: 0.6404 - accuracy: 0.7572 - val_loss: 0.3158 - val_accuracy: 0.9428\n",
      "\n",
      "Epoch 00111: saving model to model/keypoint_classifier\\keypoint_classifier.hdf5\n",
      "Epoch 112/1000\n",
      "39/39 [==============================] - 0s 1ms/step - loss: 0.6313 - accuracy: 0.7645 - val_loss: 0.3190 - val_accuracy: 0.9337\n",
      "\n",
      "Epoch 00112: saving model to model/keypoint_classifier\\keypoint_classifier.hdf5\n",
      "Epoch 113/1000\n",
      "39/39 [==============================] - 0s 1ms/step - loss: 0.6474 - accuracy: 0.7604 - val_loss: 0.3190 - val_accuracy: 0.9277\n",
      "\n",
      "Epoch 00113: saving model to model/keypoint_classifier\\keypoint_classifier.hdf5\n",
      "Epoch 114/1000\n",
      "39/39 [==============================] - 0s 1ms/step - loss: 0.6501 - accuracy: 0.7570 - val_loss: 0.3150 - val_accuracy: 0.9355\n",
      "\n",
      "Epoch 00114: saving model to model/keypoint_classifier\\keypoint_classifier.hdf5\n",
      "Epoch 115/1000\n",
      "39/39 [==============================] - 0s 1ms/step - loss: 0.6248 - accuracy: 0.7627 - val_loss: 0.3149 - val_accuracy: 0.9331\n",
      "\n",
      "Epoch 00115: saving model to model/keypoint_classifier\\keypoint_classifier.hdf5\n",
      "Epoch 116/1000\n",
      "39/39 [==============================] - 0s 1ms/step - loss: 0.6182 - accuracy: 0.7622 - val_loss: 0.3156 - val_accuracy: 0.9313\n",
      "\n",
      "Epoch 00116: saving model to model/keypoint_classifier\\keypoint_classifier.hdf5\n",
      "Epoch 117/1000\n",
      "39/39 [==============================] - 0s 1ms/step - loss: 0.6289 - accuracy: 0.7643 - val_loss: 0.3128 - val_accuracy: 0.9319\n",
      "\n",
      "Epoch 00117: saving model to model/keypoint_classifier\\keypoint_classifier.hdf5\n",
      "Epoch 118/1000\n",
      "39/39 [==============================] - 0s 1ms/step - loss: 0.6292 - accuracy: 0.7596 - val_loss: 0.3136 - val_accuracy: 0.9283\n",
      "\n",
      "Epoch 00118: saving model to model/keypoint_classifier\\keypoint_classifier.hdf5\n",
      "Epoch 119/1000\n",
      "39/39 [==============================] - 0s 1ms/step - loss: 0.6480 - accuracy: 0.7534 - val_loss: 0.3196 - val_accuracy: 0.9259\n",
      "\n",
      "Epoch 00119: saving model to model/keypoint_classifier\\keypoint_classifier.hdf5\n",
      "Epoch 120/1000\n",
      "39/39 [==============================] - 0s 1ms/step - loss: 0.6211 - accuracy: 0.7635 - val_loss: 0.3136 - val_accuracy: 0.9259\n",
      "\n",
      "Epoch 00120: saving model to model/keypoint_classifier\\keypoint_classifier.hdf5\n",
      "Epoch 121/1000\n",
      "39/39 [==============================] - 0s 2ms/step - loss: 0.6143 - accuracy: 0.7685 - val_loss: 0.3095 - val_accuracy: 0.9386\n",
      "\n",
      "Epoch 00121: saving model to model/keypoint_classifier\\keypoint_classifier.hdf5\n",
      "Epoch 122/1000\n",
      "39/39 [==============================] - 0s 1ms/step - loss: 0.6206 - accuracy: 0.7675 - val_loss: 0.3085 - val_accuracy: 0.9343\n",
      "\n",
      "Epoch 00122: saving model to model/keypoint_classifier\\keypoint_classifier.hdf5\n",
      "Epoch 123/1000\n",
      "39/39 [==============================] - 0s 1ms/step - loss: 0.6176 - accuracy: 0.7633 - val_loss: 0.3107 - val_accuracy: 0.9301\n",
      "\n",
      "Epoch 00123: saving model to model/keypoint_classifier\\keypoint_classifier.hdf5\n",
      "Epoch 124/1000\n",
      "39/39 [==============================] - 0s 1ms/step - loss: 0.6402 - accuracy: 0.7602 - val_loss: 0.3059 - val_accuracy: 0.9416\n",
      "\n",
      "Epoch 00124: saving model to model/keypoint_classifier\\keypoint_classifier.hdf5\n",
      "Epoch 125/1000\n",
      "39/39 [==============================] - 0s 1ms/step - loss: 0.6584 - accuracy: 0.7480 - val_loss: 0.3176 - val_accuracy: 0.9325\n",
      "\n",
      "Epoch 00125: saving model to model/keypoint_classifier\\keypoint_classifier.hdf5\n",
      "Epoch 126/1000\n",
      "39/39 [==============================] - 0s 1ms/step - loss: 0.6316 - accuracy: 0.7647 - val_loss: 0.3160 - val_accuracy: 0.9319\n",
      "\n",
      "Epoch 00126: saving model to model/keypoint_classifier\\keypoint_classifier.hdf5\n",
      "Epoch 127/1000\n",
      "39/39 [==============================] - 0s 1ms/step - loss: 0.6074 - accuracy: 0.7669 - val_loss: 0.3125 - val_accuracy: 0.9349\n",
      "\n",
      "Epoch 00127: saving model to model/keypoint_classifier\\keypoint_classifier.hdf5\n",
      "Epoch 128/1000\n",
      "39/39 [==============================] - 0s 1ms/step - loss: 0.6290 - accuracy: 0.7635 - val_loss: 0.3156 - val_accuracy: 0.9283\n",
      "\n",
      "Epoch 00128: saving model to model/keypoint_classifier\\keypoint_classifier.hdf5\n",
      "Epoch 129/1000\n",
      "39/39 [==============================] - 0s 1ms/step - loss: 0.6305 - accuracy: 0.7614 - val_loss: 0.3048 - val_accuracy: 0.9380\n",
      "\n",
      "Epoch 00129: saving model to model/keypoint_classifier\\keypoint_classifier.hdf5\n",
      "Epoch 130/1000\n",
      "39/39 [==============================] - 0s 1ms/step - loss: 0.6267 - accuracy: 0.7705 - val_loss: 0.3091 - val_accuracy: 0.9301\n",
      "\n",
      "Epoch 00130: saving model to model/keypoint_classifier\\keypoint_classifier.hdf5\n",
      "Epoch 131/1000\n",
      "39/39 [==============================] - ETA: 0s - loss: 0.6021 - accuracy: 0.78 - 0s 939us/step - loss: 0.6296 - accuracy: 0.7622 - val_loss: 0.3049 - val_accuracy: 0.9373\n",
      "\n",
      "Epoch 00131: saving model to model/keypoint_classifier\\keypoint_classifier.hdf5\n",
      "Epoch 132/1000\n",
      "39/39 [==============================] - 0s 1ms/step - loss: 0.6436 - accuracy: 0.7584 - val_loss: 0.3146 - val_accuracy: 0.9271\n",
      "\n",
      "Epoch 00132: saving model to model/keypoint_classifier\\keypoint_classifier.hdf5\n",
      "Epoch 133/1000\n",
      "39/39 [==============================] - 0s 1ms/step - loss: 0.6207 - accuracy: 0.7671 - val_loss: 0.3133 - val_accuracy: 0.9301\n",
      "\n",
      "Epoch 00133: saving model to model/keypoint_classifier\\keypoint_classifier.hdf5\n",
      "Epoch 134/1000\n",
      "39/39 [==============================] - 0s 1ms/step - loss: 0.6351 - accuracy: 0.7616 - val_loss: 0.3167 - val_accuracy: 0.9271\n",
      "\n",
      "Epoch 00134: saving model to model/keypoint_classifier\\keypoint_classifier.hdf5\n",
      "Epoch 135/1000\n",
      "39/39 [==============================] - 0s 1ms/step - loss: 0.6249 - accuracy: 0.7624 - val_loss: 0.3110 - val_accuracy: 0.9313\n",
      "\n",
      "Epoch 00135: saving model to model/keypoint_classifier\\keypoint_classifier.hdf5\n",
      "Epoch 136/1000\n",
      "39/39 [==============================] - 0s 1ms/step - loss: 0.6194 - accuracy: 0.7689 - val_loss: 0.3117 - val_accuracy: 0.9319\n",
      "\n",
      "Epoch 00136: saving model to model/keypoint_classifier\\keypoint_classifier.hdf5\n",
      "Epoch 137/1000\n",
      "39/39 [==============================] - 0s 1ms/step - loss: 0.6217 - accuracy: 0.7651 - val_loss: 0.3114 - val_accuracy: 0.9235\n",
      "\n",
      "Epoch 00137: saving model to model/keypoint_classifier\\keypoint_classifier.hdf5\n",
      "Epoch 138/1000\n",
      "39/39 [==============================] - 0s 1ms/step - loss: 0.6168 - accuracy: 0.7711 - val_loss: 0.3081 - val_accuracy: 0.9235\n",
      "\n",
      "Epoch 00138: saving model to model/keypoint_classifier\\keypoint_classifier.hdf5\n",
      "Epoch 139/1000\n",
      "39/39 [==============================] - 0s 1ms/step - loss: 0.6175 - accuracy: 0.7695 - val_loss: 0.3015 - val_accuracy: 0.9319\n",
      "\n",
      "Epoch 00139: saving model to model/keypoint_classifier\\keypoint_classifier.hdf5\n",
      "Epoch 140/1000\n",
      "39/39 [==============================] - 0s 1ms/step - loss: 0.6204 - accuracy: 0.7677 - val_loss: 0.3121 - val_accuracy: 0.9265\n",
      "\n",
      "Epoch 00140: saving model to model/keypoint_classifier\\keypoint_classifier.hdf5\n",
      "Epoch 141/1000\n",
      "39/39 [==============================] - 0s 1ms/step - loss: 0.6092 - accuracy: 0.7701 - val_loss: 0.3082 - val_accuracy: 0.9331\n",
      "\n",
      "Epoch 00141: saving model to model/keypoint_classifier\\keypoint_classifier.hdf5\n",
      "Epoch 142/1000\n",
      "39/39 [==============================] - 0s 1ms/step - loss: 0.6235 - accuracy: 0.7775 - val_loss: 0.3129 - val_accuracy: 0.9235\n",
      "\n",
      "Epoch 00142: saving model to model/keypoint_classifier\\keypoint_classifier.hdf5\n",
      "Epoch 143/1000\n",
      "39/39 [==============================] - 0s 1ms/step - loss: 0.6238 - accuracy: 0.7729 - val_loss: 0.3085 - val_accuracy: 0.9319\n",
      "\n",
      "Epoch 00143: saving model to model/keypoint_classifier\\keypoint_classifier.hdf5\n",
      "Epoch 144/1000\n",
      "39/39 [==============================] - 0s 1ms/step - loss: 0.6194 - accuracy: 0.7719 - val_loss: 0.3052 - val_accuracy: 0.9301\n",
      "\n",
      "Epoch 00144: saving model to model/keypoint_classifier\\keypoint_classifier.hdf5\n",
      "Epoch 145/1000\n",
      "39/39 [==============================] - 0s 1ms/step - loss: 0.6133 - accuracy: 0.7733 - val_loss: 0.3066 - val_accuracy: 0.9253\n",
      "\n",
      "Epoch 00145: saving model to model/keypoint_classifier\\keypoint_classifier.hdf5\n",
      "Epoch 146/1000\n",
      "39/39 [==============================] - 0s 1ms/step - loss: 0.6043 - accuracy: 0.7729 - val_loss: 0.3057 - val_accuracy: 0.9355\n",
      "\n",
      "Epoch 00146: saving model to model/keypoint_classifier\\keypoint_classifier.hdf5\n",
      "Epoch 147/1000\n"
     ]
    },
    {
     "name": "stdout",
     "output_type": "stream",
     "text": [
      "39/39 [==============================] - 0s 1ms/step - loss: 0.6218 - accuracy: 0.7707 - val_loss: 0.3056 - val_accuracy: 0.9349\n",
      "\n",
      "Epoch 00147: saving model to model/keypoint_classifier\\keypoint_classifier.hdf5\n",
      "Epoch 148/1000\n",
      "39/39 [==============================] - 0s 1ms/step - loss: 0.6229 - accuracy: 0.7675 - val_loss: 0.3036 - val_accuracy: 0.9331\n",
      "\n",
      "Epoch 00148: saving model to model/keypoint_classifier\\keypoint_classifier.hdf5\n",
      "Epoch 149/1000\n",
      "39/39 [==============================] - 0s 941us/step - loss: 0.6300 - accuracy: 0.7651 - val_loss: 0.3092 - val_accuracy: 0.9307\n",
      "\n",
      "Epoch 00149: saving model to model/keypoint_classifier\\keypoint_classifier.hdf5\n",
      "Epoch 150/1000\n",
      "39/39 [==============================] - 0s 893us/step - loss: 0.6212 - accuracy: 0.7703 - val_loss: 0.3060 - val_accuracy: 0.9343\n",
      "\n",
      "Epoch 00150: saving model to model/keypoint_classifier\\keypoint_classifier.hdf5\n",
      "Epoch 151/1000\n",
      "39/39 [==============================] - 0s 1ms/step - loss: 0.6089 - accuracy: 0.7759 - val_loss: 0.3022 - val_accuracy: 0.9361\n",
      "\n",
      "Epoch 00151: saving model to model/keypoint_classifier\\keypoint_classifier.hdf5\n",
      "Epoch 152/1000\n",
      "39/39 [==============================] - 0s 979us/step - loss: 0.5953 - accuracy: 0.7745 - val_loss: 0.3007 - val_accuracy: 0.9343\n",
      "\n",
      "Epoch 00152: saving model to model/keypoint_classifier\\keypoint_classifier.hdf5\n",
      "Epoch 153/1000\n",
      "39/39 [==============================] - 0s 1ms/step - loss: 0.6060 - accuracy: 0.7735 - val_loss: 0.3031 - val_accuracy: 0.9373\n",
      "\n",
      "Epoch 00153: saving model to model/keypoint_classifier\\keypoint_classifier.hdf5\n",
      "Epoch 154/1000\n",
      "39/39 [==============================] - 0s 1ms/step - loss: 0.6158 - accuracy: 0.7703 - val_loss: 0.3016 - val_accuracy: 0.9398\n",
      "\n",
      "Epoch 00154: saving model to model/keypoint_classifier\\keypoint_classifier.hdf5\n",
      "Epoch 155/1000\n",
      "39/39 [==============================] - 0s 1ms/step - loss: 0.6163 - accuracy: 0.7675 - val_loss: 0.3051 - val_accuracy: 0.9355\n",
      "\n",
      "Epoch 00155: saving model to model/keypoint_classifier\\keypoint_classifier.hdf5\n",
      "Epoch 156/1000\n",
      "39/39 [==============================] - 0s 1ms/step - loss: 0.6325 - accuracy: 0.7606 - val_loss: 0.3129 - val_accuracy: 0.9211\n",
      "\n",
      "Epoch 00156: saving model to model/keypoint_classifier\\keypoint_classifier.hdf5\n",
      "Epoch 157/1000\n",
      "39/39 [==============================] - 0s 1ms/step - loss: 0.5956 - accuracy: 0.7755 - val_loss: 0.3051 - val_accuracy: 0.9398\n",
      "\n",
      "Epoch 00157: saving model to model/keypoint_classifier\\keypoint_classifier.hdf5\n",
      "Epoch 158/1000\n",
      "39/39 [==============================] - 0s 1ms/step - loss: 0.5952 - accuracy: 0.7773 - val_loss: 0.2980 - val_accuracy: 0.9355\n",
      "\n",
      "Epoch 00158: saving model to model/keypoint_classifier\\keypoint_classifier.hdf5\n",
      "Epoch 159/1000\n",
      "39/39 [==============================] - 0s 1ms/step - loss: 0.6121 - accuracy: 0.7685 - val_loss: 0.3062 - val_accuracy: 0.9235\n",
      "\n",
      "Epoch 00159: saving model to model/keypoint_classifier\\keypoint_classifier.hdf5\n",
      "Epoch 160/1000\n",
      "39/39 [==============================] - 0s 1ms/step - loss: 0.6015 - accuracy: 0.7823 - val_loss: 0.3013 - val_accuracy: 0.9271\n",
      "\n",
      "Epoch 00160: saving model to model/keypoint_classifier\\keypoint_classifier.hdf5\n",
      "Epoch 161/1000\n",
      "39/39 [==============================] - 0s 1ms/step - loss: 0.6276 - accuracy: 0.7655 - val_loss: 0.3081 - val_accuracy: 0.9337\n",
      "\n",
      "Epoch 00161: saving model to model/keypoint_classifier\\keypoint_classifier.hdf5\n",
      "Epoch 162/1000\n",
      "39/39 [==============================] - 0s 989us/step - loss: 0.6198 - accuracy: 0.7645 - val_loss: 0.3107 - val_accuracy: 0.9295\n",
      "\n",
      "Epoch 00162: saving model to model/keypoint_classifier\\keypoint_classifier.hdf5\n",
      "Epoch 163/1000\n",
      "39/39 [==============================] - 0s 920us/step - loss: 0.6188 - accuracy: 0.7753 - val_loss: 0.3013 - val_accuracy: 0.9313\n",
      "\n",
      "Epoch 00163: saving model to model/keypoint_classifier\\keypoint_classifier.hdf5\n",
      "Epoch 164/1000\n",
      "39/39 [==============================] - 0s 887us/step - loss: 0.6151 - accuracy: 0.7685 - val_loss: 0.3102 - val_accuracy: 0.9271\n",
      "\n",
      "Epoch 00164: saving model to model/keypoint_classifier\\keypoint_classifier.hdf5\n",
      "Epoch 165/1000\n",
      "39/39 [==============================] - 0s 1ms/step - loss: 0.6003 - accuracy: 0.7731 - val_loss: 0.3030 - val_accuracy: 0.9404\n",
      "\n",
      "Epoch 00165: saving model to model/keypoint_classifier\\keypoint_classifier.hdf5\n",
      "Epoch 166/1000\n",
      "39/39 [==============================] - 0s 1ms/step - loss: 0.6160 - accuracy: 0.7691 - val_loss: 0.3056 - val_accuracy: 0.9343\n",
      "\n",
      "Epoch 00166: saving model to model/keypoint_classifier\\keypoint_classifier.hdf5\n",
      "Epoch 167/1000\n",
      "39/39 [==============================] - 0s 1ms/step - loss: 0.6148 - accuracy: 0.7643 - val_loss: 0.3048 - val_accuracy: 0.9343\n",
      "\n",
      "Epoch 00167: saving model to model/keypoint_classifier\\keypoint_classifier.hdf5\n",
      "Epoch 168/1000\n",
      "39/39 [==============================] - 0s 1ms/step - loss: 0.6157 - accuracy: 0.7624 - val_loss: 0.2987 - val_accuracy: 0.9337\n",
      "\n",
      "Epoch 00168: saving model to model/keypoint_classifier\\keypoint_classifier.hdf5\n",
      "Epoch 169/1000\n",
      "39/39 [==============================] - 0s 1ms/step - loss: 0.5991 - accuracy: 0.7775 - val_loss: 0.3000 - val_accuracy: 0.9380\n",
      "\n",
      "Epoch 00169: saving model to model/keypoint_classifier\\keypoint_classifier.hdf5\n",
      "Epoch 170/1000\n",
      "39/39 [==============================] - 0s 1ms/step - loss: 0.5994 - accuracy: 0.7797 - val_loss: 0.3008 - val_accuracy: 0.9404\n",
      "\n",
      "Epoch 00170: saving model to model/keypoint_classifier\\keypoint_classifier.hdf5\n",
      "Epoch 171/1000\n",
      "39/39 [==============================] - 0s 1ms/step - loss: 0.6183 - accuracy: 0.7681 - val_loss: 0.3054 - val_accuracy: 0.9325\n",
      "\n",
      "Epoch 00171: saving model to model/keypoint_classifier\\keypoint_classifier.hdf5\n",
      "Epoch 172/1000\n",
      "39/39 [==============================] - 0s 1ms/step - loss: 0.6033 - accuracy: 0.7783 - val_loss: 0.3046 - val_accuracy: 0.9380\n",
      "\n",
      "Epoch 00172: saving model to model/keypoint_classifier\\keypoint_classifier.hdf5\n",
      "Epoch 173/1000\n",
      "39/39 [==============================] - 0s 1ms/step - loss: 0.6152 - accuracy: 0.7681 - val_loss: 0.3001 - val_accuracy: 0.9386\n",
      "\n",
      "Epoch 00173: saving model to model/keypoint_classifier\\keypoint_classifier.hdf5\n",
      "Epoch 174/1000\n",
      "39/39 [==============================] - 0s 1ms/step - loss: 0.6074 - accuracy: 0.7687 - val_loss: 0.3036 - val_accuracy: 0.9349\n",
      "\n",
      "Epoch 00174: saving model to model/keypoint_classifier\\keypoint_classifier.hdf5\n",
      "Epoch 175/1000\n",
      "39/39 [==============================] - 0s 1ms/step - loss: 0.6065 - accuracy: 0.7725 - val_loss: 0.3051 - val_accuracy: 0.9367\n",
      "\n",
      "Epoch 00175: saving model to model/keypoint_classifier\\keypoint_classifier.hdf5\n",
      "Epoch 176/1000\n",
      "39/39 [==============================] - 0s 986us/step - loss: 0.6210 - accuracy: 0.7707 - val_loss: 0.2970 - val_accuracy: 0.9343\n",
      "\n",
      "Epoch 00176: saving model to model/keypoint_classifier\\keypoint_classifier.hdf5\n",
      "Epoch 177/1000\n",
      "39/39 [==============================] - 0s 1ms/step - loss: 0.6059 - accuracy: 0.7765 - val_loss: 0.3014 - val_accuracy: 0.9331\n",
      "\n",
      "Epoch 00177: saving model to model/keypoint_classifier\\keypoint_classifier.hdf5\n",
      "Epoch 178/1000\n",
      "39/39 [==============================] - 0s 970us/step - loss: 0.6103 - accuracy: 0.7741 - val_loss: 0.3034 - val_accuracy: 0.9337\n",
      "\n",
      "Epoch 00178: saving model to model/keypoint_classifier\\keypoint_classifier.hdf5\n",
      "Epoch 179/1000\n",
      "39/39 [==============================] - 0s 1ms/step - loss: 0.5953 - accuracy: 0.7809 - val_loss: 0.3021 - val_accuracy: 0.9325\n",
      "\n",
      "Epoch 00179: saving model to model/keypoint_classifier\\keypoint_classifier.hdf5\n",
      "Epoch 180/1000\n",
      "39/39 [==============================] - 0s 962us/step - loss: 0.5920 - accuracy: 0.7787 - val_loss: 0.3018 - val_accuracy: 0.9398\n",
      "\n",
      "Epoch 00180: saving model to model/keypoint_classifier\\keypoint_classifier.hdf5\n",
      "Epoch 181/1000\n",
      "39/39 [==============================] - 0s 1ms/step - loss: 0.6017 - accuracy: 0.7727 - val_loss: 0.2940 - val_accuracy: 0.9361\n",
      "\n",
      "Epoch 00181: saving model to model/keypoint_classifier\\keypoint_classifier.hdf5\n",
      "Epoch 182/1000\n",
      "39/39 [==============================] - 0s 936us/step - loss: 0.6010 - accuracy: 0.7769 - val_loss: 0.3034 - val_accuracy: 0.9349\n",
      "\n",
      "Epoch 00182: saving model to model/keypoint_classifier\\keypoint_classifier.hdf5\n",
      "Epoch 183/1000\n"
     ]
    },
    {
     "name": "stdout",
     "output_type": "stream",
     "text": [
      "39/39 [==============================] - 0s 1ms/step - loss: 0.5909 - accuracy: 0.7763 - val_loss: 0.3034 - val_accuracy: 0.9331\n",
      "\n",
      "Epoch 00183: saving model to model/keypoint_classifier\\keypoint_classifier.hdf5\n",
      "Epoch 184/1000\n",
      "39/39 [==============================] - 0s 1ms/step - loss: 0.5973 - accuracy: 0.7807 - val_loss: 0.2972 - val_accuracy: 0.9367\n",
      "\n",
      "Epoch 00184: saving model to model/keypoint_classifier\\keypoint_classifier.hdf5\n",
      "Epoch 185/1000\n",
      "39/39 [==============================] - 0s 1ms/step - loss: 0.6041 - accuracy: 0.7729 - val_loss: 0.3026 - val_accuracy: 0.9337\n",
      "\n",
      "Epoch 00185: saving model to model/keypoint_classifier\\keypoint_classifier.hdf5\n",
      "Epoch 186/1000\n",
      "39/39 [==============================] - 0s 1ms/step - loss: 0.5899 - accuracy: 0.7835 - val_loss: 0.3000 - val_accuracy: 0.9386\n",
      "\n",
      "Epoch 00186: saving model to model/keypoint_classifier\\keypoint_classifier.hdf5\n",
      "Epoch 187/1000\n",
      "39/39 [==============================] - 0s 1ms/step - loss: 0.6158 - accuracy: 0.7701 - val_loss: 0.3017 - val_accuracy: 0.9325\n",
      "\n",
      "Epoch 00187: saving model to model/keypoint_classifier\\keypoint_classifier.hdf5\n",
      "Epoch 188/1000\n",
      "39/39 [==============================] - 0s 960us/step - loss: 0.5881 - accuracy: 0.7783 - val_loss: 0.3037 - val_accuracy: 0.9367\n",
      "\n",
      "Epoch 00188: saving model to model/keypoint_classifier\\keypoint_classifier.hdf5\n",
      "Epoch 189/1000\n",
      "39/39 [==============================] - 0s 1ms/step - loss: 0.5967 - accuracy: 0.7733 - val_loss: 0.2986 - val_accuracy: 0.9355\n",
      "\n",
      "Epoch 00189: saving model to model/keypoint_classifier\\keypoint_classifier.hdf5\n",
      "Epoch 190/1000\n",
      "39/39 [==============================] - 0s 1ms/step - loss: 0.5978 - accuracy: 0.7807 - val_loss: 0.2989 - val_accuracy: 0.9313\n",
      "\n",
      "Epoch 00190: saving model to model/keypoint_classifier\\keypoint_classifier.hdf5\n",
      "Epoch 191/1000\n",
      "39/39 [==============================] - 0s 1ms/step - loss: 0.6029 - accuracy: 0.7759 - val_loss: 0.2938 - val_accuracy: 0.9361\n",
      "\n",
      "Epoch 00191: saving model to model/keypoint_classifier\\keypoint_classifier.hdf5\n",
      "Epoch 192/1000\n",
      "39/39 [==============================] - 0s 1ms/step - loss: 0.6012 - accuracy: 0.7723 - val_loss: 0.2929 - val_accuracy: 0.9355\n",
      "\n",
      "Epoch 00192: saving model to model/keypoint_classifier\\keypoint_classifier.hdf5\n",
      "Epoch 193/1000\n",
      "39/39 [==============================] - 0s 1ms/step - loss: 0.5988 - accuracy: 0.7807 - val_loss: 0.2929 - val_accuracy: 0.9398\n",
      "\n",
      "Epoch 00193: saving model to model/keypoint_classifier\\keypoint_classifier.hdf5\n",
      "Epoch 194/1000\n",
      "39/39 [==============================] - 0s 1ms/step - loss: 0.6045 - accuracy: 0.7755 - val_loss: 0.2963 - val_accuracy: 0.9319\n",
      "\n",
      "Epoch 00194: saving model to model/keypoint_classifier\\keypoint_classifier.hdf5\n",
      "Epoch 195/1000\n",
      "39/39 [==============================] - 0s 1ms/step - loss: 0.5961 - accuracy: 0.7787 - val_loss: 0.2930 - val_accuracy: 0.9398\n",
      "\n",
      "Epoch 00195: saving model to model/keypoint_classifier\\keypoint_classifier.hdf5\n",
      "Epoch 196/1000\n",
      "39/39 [==============================] - 0s 1ms/step - loss: 0.5848 - accuracy: 0.7773 - val_loss: 0.2938 - val_accuracy: 0.9428\n",
      "\n",
      "Epoch 00196: saving model to model/keypoint_classifier\\keypoint_classifier.hdf5\n",
      "Epoch 197/1000\n",
      "39/39 [==============================] - 0s 1ms/step - loss: 0.6097 - accuracy: 0.7709 - val_loss: 0.2959 - val_accuracy: 0.9337\n",
      "\n",
      "Epoch 00197: saving model to model/keypoint_classifier\\keypoint_classifier.hdf5\n",
      "Epoch 198/1000\n",
      "39/39 [==============================] - 0s 1ms/step - loss: 0.5969 - accuracy: 0.7837 - val_loss: 0.2953 - val_accuracy: 0.9325\n",
      "\n",
      "Epoch 00198: saving model to model/keypoint_classifier\\keypoint_classifier.hdf5\n",
      "Epoch 199/1000\n",
      "39/39 [==============================] - 0s 1ms/step - loss: 0.6108 - accuracy: 0.7647 - val_loss: 0.2979 - val_accuracy: 0.9380\n",
      "\n",
      "Epoch 00199: saving model to model/keypoint_classifier\\keypoint_classifier.hdf5\n",
      "Epoch 200/1000\n",
      "39/39 [==============================] - 0s 1ms/step - loss: 0.5969 - accuracy: 0.7761 - val_loss: 0.2919 - val_accuracy: 0.9398\n",
      "\n",
      "Epoch 00200: saving model to model/keypoint_classifier\\keypoint_classifier.hdf5\n",
      "Epoch 201/1000\n",
      "39/39 [==============================] - 0s 1ms/step - loss: 0.6100 - accuracy: 0.7751 - val_loss: 0.2859 - val_accuracy: 0.9434\n",
      "\n",
      "Epoch 00201: saving model to model/keypoint_classifier\\keypoint_classifier.hdf5\n",
      "Epoch 202/1000\n",
      "39/39 [==============================] - 0s 1ms/step - loss: 0.6151 - accuracy: 0.7735 - val_loss: 0.2966 - val_accuracy: 0.9434\n",
      "\n",
      "Epoch 00202: saving model to model/keypoint_classifier\\keypoint_classifier.hdf5\n",
      "Epoch 203/1000\n",
      "39/39 [==============================] - 0s 1ms/step - loss: 0.6265 - accuracy: 0.7641 - val_loss: 0.3022 - val_accuracy: 0.9355\n",
      "\n",
      "Epoch 00203: saving model to model/keypoint_classifier\\keypoint_classifier.hdf5\n",
      "Epoch 204/1000\n",
      "39/39 [==============================] - 0s 1ms/step - loss: 0.6066 - accuracy: 0.7683 - val_loss: 0.2969 - val_accuracy: 0.9367\n",
      "\n",
      "Epoch 00204: saving model to model/keypoint_classifier\\keypoint_classifier.hdf5\n",
      "Epoch 205/1000\n",
      "39/39 [==============================] - 0s 1ms/step - loss: 0.5835 - accuracy: 0.7888 - val_loss: 0.2988 - val_accuracy: 0.9367\n",
      "\n",
      "Epoch 00205: saving model to model/keypoint_classifier\\keypoint_classifier.hdf5\n",
      "Epoch 206/1000\n",
      "39/39 [==============================] - 0s 999us/step - loss: 0.5918 - accuracy: 0.7745 - val_loss: 0.2942 - val_accuracy: 0.9373\n",
      "\n",
      "Epoch 00206: saving model to model/keypoint_classifier\\keypoint_classifier.hdf5\n",
      "Epoch 207/1000\n",
      "39/39 [==============================] - 0s 1ms/step - loss: 0.5992 - accuracy: 0.7773 - val_loss: 0.3056 - val_accuracy: 0.9386\n",
      "\n",
      "Epoch 00207: saving model to model/keypoint_classifier\\keypoint_classifier.hdf5\n",
      "Epoch 208/1000\n",
      "39/39 [==============================] - 0s 907us/step - loss: 0.5924 - accuracy: 0.7821 - val_loss: 0.2996 - val_accuracy: 0.9283\n",
      "\n",
      "Epoch 00208: saving model to model/keypoint_classifier\\keypoint_classifier.hdf5\n",
      "Epoch 209/1000\n",
      "39/39 [==============================] - 0s 1ms/step - loss: 0.5935 - accuracy: 0.7751 - val_loss: 0.2981 - val_accuracy: 0.9295\n",
      "\n",
      "Epoch 00209: saving model to model/keypoint_classifier\\keypoint_classifier.hdf5\n",
      "Epoch 210/1000\n",
      "39/39 [==============================] - 0s 1ms/step - loss: 0.6023 - accuracy: 0.7731 - val_loss: 0.3011 - val_accuracy: 0.9271\n",
      "\n",
      "Epoch 00210: saving model to model/keypoint_classifier\\keypoint_classifier.hdf5\n",
      "Epoch 211/1000\n",
      "39/39 [==============================] - 0s 983us/step - loss: 0.6002 - accuracy: 0.7783 - val_loss: 0.2996 - val_accuracy: 0.9295\n",
      "\n",
      "Epoch 00211: saving model to model/keypoint_classifier\\keypoint_classifier.hdf5\n",
      "Epoch 212/1000\n",
      "39/39 [==============================] - 0s 919us/step - loss: 0.5917 - accuracy: 0.7773 - val_loss: 0.2982 - val_accuracy: 0.9373\n",
      "\n",
      "Epoch 00212: saving model to model/keypoint_classifier\\keypoint_classifier.hdf5\n",
      "Epoch 213/1000\n",
      "39/39 [==============================] - 0s 945us/step - loss: 0.5957 - accuracy: 0.7727 - val_loss: 0.2982 - val_accuracy: 0.9331\n",
      "\n",
      "Epoch 00213: saving model to model/keypoint_classifier\\keypoint_classifier.hdf5\n",
      "Epoch 214/1000\n",
      "39/39 [==============================] - 0s 1ms/step - loss: 0.6021 - accuracy: 0.7735 - val_loss: 0.3013 - val_accuracy: 0.9355\n",
      "\n",
      "Epoch 00214: saving model to model/keypoint_classifier\\keypoint_classifier.hdf5\n",
      "Epoch 215/1000\n",
      "39/39 [==============================] - 0s 1ms/step - loss: 0.5888 - accuracy: 0.7799 - val_loss: 0.2983 - val_accuracy: 0.9349\n",
      "\n",
      "Epoch 00215: saving model to model/keypoint_classifier\\keypoint_classifier.hdf5\n",
      "Epoch 216/1000\n",
      "39/39 [==============================] - 0s 1ms/step - loss: 0.5876 - accuracy: 0.7761 - val_loss: 0.2889 - val_accuracy: 0.9398\n",
      "\n",
      "Epoch 00216: saving model to model/keypoint_classifier\\keypoint_classifier.hdf5\n",
      "Epoch 217/1000\n",
      "39/39 [==============================] - 0s 1ms/step - loss: 0.5873 - accuracy: 0.7793 - val_loss: 0.2963 - val_accuracy: 0.9355\n",
      "\n",
      "Epoch 00217: saving model to model/keypoint_classifier\\keypoint_classifier.hdf5\n",
      "Epoch 218/1000\n",
      "39/39 [==============================] - 0s 891us/step - loss: 0.5944 - accuracy: 0.7779 - val_loss: 0.3001 - val_accuracy: 0.9307\n",
      "\n",
      "Epoch 00218: saving model to model/keypoint_classifier\\keypoint_classifier.hdf5\n",
      "Epoch 219/1000\n"
     ]
    },
    {
     "name": "stdout",
     "output_type": "stream",
     "text": [
      "39/39 [==============================] - 0s 1ms/step - loss: 0.5857 - accuracy: 0.7801 - val_loss: 0.2948 - val_accuracy: 0.9349\n",
      "\n",
      "Epoch 00219: saving model to model/keypoint_classifier\\keypoint_classifier.hdf5\n",
      "Epoch 220/1000\n",
      "39/39 [==============================] - 0s 1ms/step - loss: 0.6101 - accuracy: 0.7791 - val_loss: 0.2981 - val_accuracy: 0.9380\n",
      "\n",
      "Epoch 00220: saving model to model/keypoint_classifier\\keypoint_classifier.hdf5\n",
      "Epoch 221/1000\n",
      "39/39 [==============================] - 0s 996us/step - loss: 0.5778 - accuracy: 0.7869 - val_loss: 0.2878 - val_accuracy: 0.9380\n",
      "\n",
      "Epoch 00221: saving model to model/keypoint_classifier\\keypoint_classifier.hdf5\n",
      "Epoch 00221: early stopping\n"
     ]
    },
    {
     "data": {
      "text/plain": [
       "<tensorflow.python.keras.callbacks.History at 0x1c832dc1cd0>"
      ]
     },
     "execution_count": 11,
     "metadata": {},
     "output_type": "execute_result"
    }
   ],
   "source": [
    "model.fit(\n",
    "    X_train,\n",
    "    y_train,\n",
    "    epochs=1000,\n",
    "    batch_size=128,\n",
    "    validation_data=(X_test, y_test),\n",
    "    callbacks=[cp_callback, es_callback]\n",
    ")"
   ]
  },
  {
   "cell_type": "code",
   "execution_count": 12,
   "metadata": {
    "colab": {
     "base_uri": "https://localhost:8080/"
    },
    "id": "pxvb2Y299hE3",
    "outputId": "59eb3185-2e37-4b9e-bc9d-ab1b8ac29b7f"
   },
   "outputs": [
    {
     "name": "stdout",
     "output_type": "stream",
     "text": [
      "13/13 [==============================] - 0s 674us/step - loss: 0.2878 - accuracy: 0.9380\n"
     ]
    }
   ],
   "source": [
    "# Model evaluation\n",
    "val_loss, val_acc = model.evaluate(X_test, y_test, batch_size=128)"
   ]
  },
  {
   "cell_type": "code",
   "execution_count": 13,
   "metadata": {
    "id": "RBkmDeUW9hE4"
   },
   "outputs": [],
   "source": [
    "# Loading the saved model\n",
    "model = tf.keras.models.load_model(model_save_path)"
   ]
  },
  {
   "cell_type": "code",
   "execution_count": 14,
   "metadata": {
    "colab": {
     "base_uri": "https://localhost:8080/"
    },
    "id": "tFz9Tb0I9hE4",
    "outputId": "1c3b3528-54ae-4ee2-ab04-77429211cbef"
   },
   "outputs": [
    {
     "name": "stdout",
     "output_type": "stream",
     "text": [
      "[2.2853570e-02 8.7526584e-01 9.5567152e-02 5.7637814e-14 3.6300818e-20\n",
      " 6.3046576e-03 8.8413117e-06]\n",
      "1\n"
     ]
    }
   ],
   "source": [
    "# Inference test\n",
    "predict_result = model.predict(np.array([X_test[0]]))\n",
    "print(np.squeeze(predict_result))\n",
    "print(np.argmax(np.squeeze(predict_result)))"
   ]
  },
  {
   "cell_type": "markdown",
   "metadata": {
    "id": "S3U4yNWx9hE4"
   },
   "source": [
    "# Confusion matrix"
   ]
  },
  {
   "cell_type": "code",
   "execution_count": 15,
   "metadata": {
    "colab": {
     "base_uri": "https://localhost:8080/",
     "height": 582
    },
    "id": "AP1V6SCk9hE5",
    "outputId": "08e41a80-7a4a-4619-8125-ecc371368d19"
   },
   "outputs": [
    {
     "data": {
      "image/png": "[encoded data removed]",
      "text/plain": [
       "<Figure size 504x432 with 2 Axes>"
      ]
     },
     "metadata": {
      "needs_background": "light"
     },
     "output_type": "display_data"
    },
    {
     "name": "stdout",
     "output_type": "stream",
     "text": [
      "Classification Report\n",
      "              precision    recall  f1-score   support\n",
      "\n",
      "           0       0.98      0.92      0.95       407\n",
      "           1       0.96      0.87      0.92       383\n",
      "           2       0.85      0.96      0.90       339\n",
      "           3       0.90      1.00      0.95        81\n",
      "           4       0.99      0.99      0.99       262\n",
      "           5       0.98      0.98      0.98       122\n",
      "           6       0.86      0.95      0.91        66\n",
      "\n",
      "    accuracy                           0.94      1660\n",
      "   macro avg       0.93      0.95      0.94      1660\n",
      "weighted avg       0.94      0.94      0.94      1660\n",
      "\n"
     ]
    }
   ],
   "source": [
    "import pandas as pd\n",
    "import seaborn as sns\n",
    "import matplotlib.pyplot as plt\n",
    "from sklearn.metrics import confusion_matrix, classification_report\n",
    "\n",
    "def print_confusion_matrix(y_true, y_pred, report=True):\n",
    "    labels = sorted(list(set(y_true)))\n",
    "    cmx_data = confusion_matrix(y_true, y_pred, labels=labels)\n",
    "    \n",
    "    df_cmx = pd.DataFrame(cmx_data, index=labels, columns=labels)\n",
    " \n",
    "    fig, ax = plt.subplots(figsize=(7, 6))\n",
    "    sns.heatmap(df_cmx, annot=True, fmt='g' ,square=False)\n",
    "    ax.set_ylim(len(set(y_true)), 0)\n",
    "    plt.show()\n",
    "    \n",
    "    if report:\n",
    "        print('Classification Report')\n",
    "        print(classification_report(y_test, y_pred))\n",
    "\n",
    "Y_pred = model.predict(X_test)\n",
    "y_pred = np.argmax(Y_pred, axis=1)\n",
    "\n",
    "print_confusion_matrix(y_test, y_pred)"
   ]
  },
  {
   "cell_type": "markdown",
   "metadata": {
    "id": "FNP6aqzc9hE5"
   },
   "source": [
    "# Convert to model for Tensorflow-Lite"
   ]
  },
  {
   "cell_type": "code",
   "execution_count": 16,
   "metadata": {
    "id": "ODjnYyld9hE6"
   },
   "outputs": [],
   "source": [
    "# Save as a model dedicated to inference\n",
    "model.save(model_save_path, include_optimizer=False)"
   ]
  },
  {
   "cell_type": "code",
   "execution_count": 17,
   "metadata": {
    "colab": {
     "base_uri": "https://localhost:8080/"
    },
    "id": "zRfuK8Y59hE6",
    "outputId": "a4ca585c-b5d5-4244-8291-8674063209bb"
   },
   "outputs": [
    {
     "name": "stdout",
     "output_type": "stream",
     "text": [
      "INFO:tensorflow:Assets written to: C:\\Users\\offic\\AppData\\Local\\Temp\\tmpoeyb2h3l\\assets\n"
     ]
    },
    {
     "data": {
      "text/plain": [
       "6496"
      ]
     },
     "execution_count": 17,
     "metadata": {},
     "output_type": "execute_result"
    }
   ],
   "source": [
    "# Transform model (quantization)\n",
    "\n",
    "converter = tf.lite.TFLiteConverter.from_keras_model(model)\n",
    "converter.optimizations = [tf.lite.Optimize.DEFAULT]\n",
    "tflite_quantized_model = converter.convert()\n",
    "\n",
    "open(tflite_save_path, 'wb').write(tflite_quantized_model)"
   ]
  },
  {
   "cell_type": "markdown",
   "metadata": {
    "id": "CHBPBXdx9hE6"
   },
   "source": [
    "# Inference test"
   ]
  },
  {
   "cell_type": "code",
   "execution_count": 18,
   "metadata": {
    "id": "mGAzLocO9hE7"
   },
   "outputs": [],
   "source": [
    "interpreter = tf.lite.Interpreter(model_path=tflite_save_path)\n",
    "interpreter.allocate_tensors()"
   ]
  },
  {
   "cell_type": "code",
   "execution_count": 19,
   "metadata": {
    "id": "oQuDK8YS9hE7"
   },
   "outputs": [],
   "source": [
    "# Get I / O tensor\n",
    "input_details = interpreter.get_input_details()\n",
    "output_details = interpreter.get_output_details()"
   ]
  },
  {
   "cell_type": "code",
   "execution_count": 20,
   "metadata": {
    "id": "2_ixAf_l9hE7"
   },
   "outputs": [],
   "source": [
    "interpreter.set_tensor(input_details[0]['index'], np.array([X_test[0]]))"
   ]
  },
  {
   "cell_type": "code",
   "execution_count": 21,
   "metadata": {
    "colab": {
     "base_uri": "https://localhost:8080/"
    },
    "id": "s4FoAnuc9hE7",
    "outputId": "91f18257-8d8b-4ef3-c558-e9b5f94fabbf",
    "scrolled": true
   },
   "outputs": [
    {
     "name": "stdout",
     "output_type": "stream",
     "text": [
      "Wall time: 0 ns\n"
     ]
    }
   ],
   "source": [
    "%%time\n",
    "# Inference implementation\n",
    "interpreter.invoke()\n",
    "tflite_results = interpreter.get_tensor(output_details[0]['index'])"
   ]
  },
  {
   "cell_type": "code",
   "execution_count": 22,
   "metadata": {
    "colab": {
     "base_uri": "https://localhost:8080/"
    },
    "id": "vONjp19J9hE8",
    "outputId": "77205e24-fd00-42c4-f7b6-e06e527c2cba"
   },
   "outputs": [
    {
     "name": "stdout",
     "output_type": "stream",
     "text": [
      "[2.2853570e-02 8.7526584e-01 9.5567100e-02 5.7637597e-14 3.6300818e-20\n",
      " 6.3046576e-03 8.8413035e-06]\n",
      "1\n"
     ]
    }
   ],
   "source": [
    "print(np.squeeze(tflite_results))\n",
    "print(np.argmax(np.squeeze(tflite_results)))"
   ]
  }
 ],
 "metadata": {
  "accelerator": "GPU",
  "colab": {
   "collapsed_sections": [],
   "name": "keypoint_classification_EN.ipynb",
   "provenance": [],
   "toc_visible": true
  },
  "kernelspec": {
   "display_name": "Python 3",
   "language": "python",
   "name": "python3"
  },
  "language_info": {
   "codemirror_mode": {
    "name": "ipython",
    "version": 3
   },
   "file_extension": ".py",
   "mimetype": "text/x-python",
   "name": "python",
   "nbconvert_exporter": "python",
   "pygments_lexer": "ipython3",
   "version": "3.9.5"
  }
 },
 "nbformat": 4,
 "nbformat_minor": 1
}
