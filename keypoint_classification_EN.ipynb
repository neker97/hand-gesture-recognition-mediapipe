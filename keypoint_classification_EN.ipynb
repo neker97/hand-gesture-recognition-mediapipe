{
 "cells": [
  {
   "cell_type": "code",
   "execution_count": 1,
   "metadata": {
    "id": "igMyGnjE9hEp"
   },
   "outputs": [],
   "source": [
    "import csv\n",
    "\n",
    "import numpy as np\n",
    "import tensorflow as tf\n",
    "from sklearn.model_selection import train_test_split\n",
    "\n",
    "RANDOM_SEED = 42"
   ]
  },
  {
   "cell_type": "markdown",
   "metadata": {
    "id": "t2HDvhIu9hEr"
   },
   "source": [
    "# Specify each path"
   ]
  },
  {
   "cell_type": "code",
   "execution_count": 2,
   "metadata": {
    "id": "9NvZP2Zn9hEy"
   },
   "outputs": [],
   "source": [
    "dataset = 'model/keypoint_classifier/keypoint.csv'\n",
    "model_save_path = 'model/keypoint_classifier/keypoint_classifier.hdf5'\n",
    "tflite_save_path = 'model/keypoint_classifier/keypoint_classifier.tflite'"
   ]
  },
  {
   "cell_type": "markdown",
   "metadata": {
    "id": "s5oMH7x19hEz"
   },
   "source": [
    "# Set number of classes"
   ]
  },
  {
   "cell_type": "code",
   "execution_count": 3,
   "metadata": {
    "id": "du4kodXL9hEz"
   },
   "outputs": [],
   "source": [
    "NUM_CLASSES = 7"
   ]
  },
  {
   "cell_type": "markdown",
   "metadata": {
    "id": "XjnL0uso9hEz"
   },
   "source": [
    "# Dataset reading"
   ]
  },
  {
   "cell_type": "code",
   "execution_count": 4,
   "metadata": {
    "id": "QT5ZqtEz9hE0"
   },
   "outputs": [],
   "source": [
    "X_dataset = np.loadtxt(dataset, delimiter=',', dtype='float32', usecols=list(range(1, (21 * 2) + 1)))"
   ]
  },
  {
   "cell_type": "code",
   "execution_count": 5,
   "metadata": {
    "id": "QmoKFsp49hE0"
   },
   "outputs": [],
   "source": [
    "y_dataset = np.loadtxt(dataset, delimiter=',', dtype='int32', usecols=(0))"
   ]
  },
  {
   "cell_type": "code",
   "execution_count": 6,
   "metadata": {
    "id": "xQU7JTZ_9hE0"
   },
   "outputs": [],
   "source": [
    "X_train, X_test, y_train, y_test = train_test_split(X_dataset, y_dataset, train_size=0.75, random_state=RANDOM_SEED)"
   ]
  },
  {
   "cell_type": "markdown",
   "metadata": {
    "id": "mxK_lETT9hE0"
   },
   "source": [
    "# Model building"
   ]
  },
  {
   "cell_type": "code",
   "execution_count": 7,
   "metadata": {
    "id": "vHBmUf1t9hE1"
   },
   "outputs": [
    {
     "name": "stdout",
     "output_type": "stream",
     "text": [
      "WARNING:tensorflow:Please add `keras.layers.InputLayer` instead of `keras.Input` to Sequential model. `keras.Input` is intended to be used by Functional model.\n"
     ]
    }
   ],
   "source": [
    "model = tf.keras.models.Sequential([\n",
    "    tf.keras.layers.Input((21 * 2, )),\n",
    "    tf.keras.layers.Dropout(0.2),\n",
    "    tf.keras.layers.Dense(20, activation='relu'),\n",
    "    tf.keras.layers.Dropout(0.4),\n",
    "    tf.keras.layers.Dense(10, activation='relu'),\n",
    "    tf.keras.layers.Dense(NUM_CLASSES, activation='softmax')\n",
    "])"
   ]
  },
  {
   "cell_type": "code",
   "execution_count": 8,
   "metadata": {
    "colab": {
     "base_uri": "https://localhost:8080/"
    },
    "id": "ypqky9tc9hE1",
    "outputId": "5db082bb-30e3-4110-bf63-a1ee777ecd46"
   },
   "outputs": [
    {
     "name": "stdout",
     "output_type": "stream",
     "text": [
      "Model: \"sequential\"\n",
      "_________________________________________________________________\n",
      "Layer (type)                 Output Shape              Param #   \n",
      "=================================================================\n",
      "dropout (Dropout)            (None, 42)                0         \n",
      "_________________________________________________________________\n",
      "dense (Dense)                (None, 20)                860       \n",
      "_________________________________________________________________\n",
      "dropout_1 (Dropout)          (None, 20)                0         \n",
      "_________________________________________________________________\n",
      "dense_1 (Dense)              (None, 10)                210       \n",
      "_________________________________________________________________\n",
      "dense_2 (Dense)              (None, 7)                 77        \n",
      "=================================================================\n",
      "Total params: 1,147\n",
      "Trainable params: 1,147\n",
      "Non-trainable params: 0\n",
      "_________________________________________________________________\n"
     ]
    }
   ],
   "source": [
    "model.summary()  # tf.keras.utils.plot_model(model, show_shapes=True)"
   ]
  },
  {
   "cell_type": "code",
   "execution_count": 9,
   "metadata": {
    "id": "MbMjOflQ9hE1"
   },
   "outputs": [],
   "source": [
    "# Model checkpoint callback\n",
    "cp_callback = tf.keras.callbacks.ModelCheckpoint(\n",
    "    model_save_path, verbose=1, save_weights_only=False)\n",
    "# Callback for early stopping\n",
    "es_callback = tf.keras.callbacks.EarlyStopping(patience=20, verbose=1)"
   ]
  },
  {
   "cell_type": "code",
   "execution_count": 10,
   "metadata": {
    "id": "c3Dac0M_9hE2"
   },
   "outputs": [],
   "source": [
    "# Model compilation\n",
    "model.compile(\n",
    "    optimizer='adam',\n",
    "    loss='sparse_categorical_crossentropy',\n",
    "    metrics=['accuracy']\n",
    ")"
   ]
  },
  {
   "cell_type": "markdown",
   "metadata": {
    "id": "7XI0j1Iu9hE2"
   },
   "source": [
    "# Model training"
   ]
  },
  {
   "cell_type": "code",
   "execution_count": 11,
   "metadata": {
    "colab": {
     "base_uri": "https://localhost:8080/"
    },
    "id": "WirBl-JE9hE3",
    "outputId": "71b30ca2-8294-4d9d-8aa2-800d90d399de",
    "scrolled": true
   },
   "outputs": [
    {
     "name": "stdout",
     "output_type": "stream",
     "text": [
      "Epoch 1/1000\n",
      "39/39 [==============================] - 1s 4ms/step - loss: 1.8590 - accuracy: 0.2285 - val_loss: 1.7329 - val_accuracy: 0.2590\n",
      "\n",
      "Epoch 00001: saving model to model/keypoint_classifier\\keypoint_classifier.hdf5\n",
      "Epoch 2/1000\n",
      "39/39 [==============================] - 0s 1ms/step - loss: 1.7457 - accuracy: 0.2803 - val_loss: 1.6455 - val_accuracy: 0.3446\n",
      "\n",
      "Epoch 00002: saving model to model/keypoint_classifier\\keypoint_classifier.hdf5\n",
      "Epoch 3/1000\n",
      "39/39 [==============================] - 0s 1ms/step - loss: 1.6535 - accuracy: 0.3199 - val_loss: 1.5296 - val_accuracy: 0.4849\n",
      "\n",
      "Epoch 00003: saving model to model/keypoint_classifier\\keypoint_classifier.hdf5\n",
      "Epoch 4/1000\n",
      "39/39 [==============================] - 0s 1ms/step - loss: 1.5670 - accuracy: 0.3631 - val_loss: 1.3697 - val_accuracy: 0.5837\n",
      "\n",
      "Epoch 00004: saving model to model/keypoint_classifier\\keypoint_classifier.hdf5\n",
      "Epoch 5/1000\n",
      "39/39 [==============================] - 0s 1ms/step - loss: 1.4633 - accuracy: 0.4040 - val_loss: 1.2366 - val_accuracy: 0.6169\n",
      "\n",
      "Epoch 00005: saving model to model/keypoint_classifier\\keypoint_classifier.hdf5\n",
      "Epoch 6/1000\n",
      "39/39 [==============================] - 0s 1ms/step - loss: 1.3686 - accuracy: 0.4448 - val_loss: 1.1308 - val_accuracy: 0.6705\n",
      "\n",
      "Epoch 00006: saving model to model/keypoint_classifier\\keypoint_classifier.hdf5\n",
      "Epoch 7/1000\n",
      "39/39 [==============================] - 0s 1ms/step - loss: 1.3005 - accuracy: 0.4707 - val_loss: 1.0450 - val_accuracy: 0.6982\n",
      "\n",
      "Epoch 00007: saving model to model/keypoint_classifier\\keypoint_classifier.hdf5\n",
      "Epoch 8/1000\n",
      "39/39 [==============================] - 0s 1ms/step - loss: 1.2394 - accuracy: 0.4930 - val_loss: 0.9583 - val_accuracy: 0.7193\n",
      "\n",
      "Epoch 00008: saving model to model/keypoint_classifier\\keypoint_classifier.hdf5\n",
      "Epoch 9/1000\n",
      "39/39 [==============================] - 0s 1ms/step - loss: 1.1788 - accuracy: 0.5263 - val_loss: 0.8868 - val_accuracy: 0.7428\n",
      "\n",
      "Epoch 00009: saving model to model/keypoint_classifier\\keypoint_classifier.hdf5\n",
      "Epoch 10/1000\n",
      "39/39 [==============================] - 0s 1ms/step - loss: 1.1446 - accuracy: 0.5331 - val_loss: 0.8306 - val_accuracy: 0.7530\n",
      "\n",
      "Epoch 00010: saving model to model/keypoint_classifier\\keypoint_classifier.hdf5\n",
      "Epoch 11/1000\n",
      "39/39 [==============================] - 0s 1ms/step - loss: 1.1033 - accuracy: 0.5508 - val_loss: 0.7879 - val_accuracy: 0.7639\n",
      "\n",
      "Epoch 00011: saving model to model/keypoint_classifier\\keypoint_classifier.hdf5\n",
      "Epoch 12/1000\n",
      "39/39 [==============================] - 0s 1ms/step - loss: 1.0890 - accuracy: 0.5504 - val_loss: 0.7447 - val_accuracy: 0.7855\n",
      "\n",
      "Epoch 00012: saving model to model/keypoint_classifier\\keypoint_classifier.hdf5\n",
      "Epoch 13/1000\n",
      "39/39 [==============================] - 0s 1ms/step - loss: 1.0434 - accuracy: 0.5769 - val_loss: 0.7141 - val_accuracy: 0.8042\n",
      "\n",
      "Epoch 00013: saving model to model/keypoint_classifier\\keypoint_classifier.hdf5\n",
      "Epoch 14/1000\n",
      "39/39 [==============================] - 0s 1ms/step - loss: 1.0211 - accuracy: 0.5803 - val_loss: 0.6926 - val_accuracy: 0.8006\n",
      "\n",
      "Epoch 00014: saving model to model/keypoint_classifier\\keypoint_classifier.hdf5\n",
      "Epoch 15/1000\n",
      "39/39 [==============================] - 0s 1ms/step - loss: 1.0070 - accuracy: 0.5906 - val_loss: 0.6648 - val_accuracy: 0.8127\n",
      "\n",
      "Epoch 00015: saving model to model/keypoint_classifier\\keypoint_classifier.hdf5\n",
      "Epoch 16/1000\n",
      "39/39 [==============================] - 0s 1ms/step - loss: 0.9773 - accuracy: 0.6030 - val_loss: 0.6379 - val_accuracy: 0.8325\n",
      "\n",
      "Epoch 00016: saving model to model/keypoint_classifier\\keypoint_classifier.hdf5\n",
      "Epoch 17/1000\n",
      "39/39 [==============================] - 0s 1ms/step - loss: 0.9618 - accuracy: 0.6159 - val_loss: 0.6206 - val_accuracy: 0.8373\n",
      "\n",
      "Epoch 00017: saving model to model/keypoint_classifier\\keypoint_classifier.hdf5\n",
      "Epoch 18/1000\n",
      "39/39 [==============================] - 0s 1ms/step - loss: 0.9479 - accuracy: 0.6133 - val_loss: 0.6010 - val_accuracy: 0.8488\n",
      "\n",
      "Epoch 00018: saving model to model/keypoint_classifier\\keypoint_classifier.hdf5\n",
      "Epoch 19/1000\n",
      "39/39 [==============================] - 0s 1ms/step - loss: 0.9372 - accuracy: 0.6217 - val_loss: 0.5914 - val_accuracy: 0.8482\n",
      "\n",
      "Epoch 00019: saving model to model/keypoint_classifier\\keypoint_classifier.hdf5\n",
      "Epoch 20/1000\n",
      "39/39 [==============================] - 0s 1ms/step - loss: 0.9310 - accuracy: 0.6285 - val_loss: 0.5665 - val_accuracy: 0.8560\n",
      "\n",
      "Epoch 00020: saving model to model/keypoint_classifier\\keypoint_classifier.hdf5\n",
      "Epoch 21/1000\n",
      "39/39 [==============================] - 0s 1ms/step - loss: 0.9241 - accuracy: 0.6275 - val_loss: 0.5623 - val_accuracy: 0.8566\n",
      "\n",
      "Epoch 00021: saving model to model/keypoint_classifier\\keypoint_classifier.hdf5\n",
      "Epoch 22/1000\n",
      "39/39 [==============================] - 0s 1ms/step - loss: 0.9044 - accuracy: 0.6462 - val_loss: 0.5494 - val_accuracy: 0.8602\n",
      "\n",
      "Epoch 00022: saving model to model/keypoint_classifier\\keypoint_classifier.hdf5\n",
      "Epoch 23/1000\n",
      "39/39 [==============================] - 0s 1ms/step - loss: 0.8948 - accuracy: 0.6396 - val_loss: 0.5419 - val_accuracy: 0.8711\n",
      "\n",
      "Epoch 00023: saving model to model/keypoint_classifier\\keypoint_classifier.hdf5\n",
      "Epoch 24/1000\n",
      "39/39 [==============================] - 0s 1ms/step - loss: 0.8933 - accuracy: 0.6402 - val_loss: 0.5299 - val_accuracy: 0.8681\n",
      "\n",
      "Epoch 00024: saving model to model/keypoint_classifier\\keypoint_classifier.hdf5\n",
      "Epoch 25/1000\n",
      "39/39 [==============================] - 0s 1ms/step - loss: 0.8849 - accuracy: 0.6440 - val_loss: 0.5229 - val_accuracy: 0.8753\n",
      "\n",
      "Epoch 00025: saving model to model/keypoint_classifier\\keypoint_classifier.hdf5\n",
      "Epoch 26/1000\n",
      "39/39 [==============================] - 0s 1ms/step - loss: 0.8739 - accuracy: 0.6504 - val_loss: 0.5112 - val_accuracy: 0.8795\n",
      "\n",
      "Epoch 00026: saving model to model/keypoint_classifier\\keypoint_classifier.hdf5\n",
      "Epoch 27/1000\n",
      "39/39 [==============================] - 0s 1ms/step - loss: 0.8549 - accuracy: 0.6677 - val_loss: 0.5056 - val_accuracy: 0.8795\n",
      "\n",
      "Epoch 00027: saving model to model/keypoint_classifier\\keypoint_classifier.hdf5\n",
      "Epoch 28/1000\n",
      "39/39 [==============================] - 0s 1ms/step - loss: 0.8275 - accuracy: 0.6705 - val_loss: 0.4876 - val_accuracy: 0.8807\n",
      "\n",
      "Epoch 00028: saving model to model/keypoint_classifier\\keypoint_classifier.hdf5\n",
      "Epoch 29/1000\n",
      "39/39 [==============================] - 0s 1ms/step - loss: 0.8532 - accuracy: 0.6582 - val_loss: 0.4893 - val_accuracy: 0.8855\n",
      "\n",
      "Epoch 00029: saving model to model/keypoint_classifier\\keypoint_classifier.hdf5\n",
      "Epoch 30/1000\n",
      "39/39 [==============================] - 0s 1ms/step - loss: 0.8518 - accuracy: 0.6488 - val_loss: 0.4830 - val_accuracy: 0.8777\n",
      "\n",
      "Epoch 00030: saving model to model/keypoint_classifier\\keypoint_classifier.hdf5\n",
      "Epoch 31/1000\n",
      "39/39 [==============================] - 0s 1ms/step - loss: 0.8213 - accuracy: 0.6757 - val_loss: 0.4671 - val_accuracy: 0.8952\n",
      "\n",
      "Epoch 00031: saving model to model/keypoint_classifier\\keypoint_classifier.hdf5\n",
      "Epoch 32/1000\n",
      "39/39 [==============================] - 0s 1ms/step - loss: 0.8174 - accuracy: 0.6815 - val_loss: 0.4655 - val_accuracy: 0.8898\n",
      "\n",
      "Epoch 00032: saving model to model/keypoint_classifier\\keypoint_classifier.hdf5\n",
      "Epoch 33/1000\n",
      "39/39 [==============================] - 0s 1ms/step - loss: 0.7975 - accuracy: 0.6815 - val_loss: 0.4509 - val_accuracy: 0.8988\n",
      "\n",
      "Epoch 00033: saving model to model/keypoint_classifier\\keypoint_classifier.hdf5\n",
      "Epoch 34/1000\n",
      "39/39 [==============================] - 0s 1ms/step - loss: 0.8109 - accuracy: 0.6833 - val_loss: 0.4530 - val_accuracy: 0.9036\n",
      "\n",
      "Epoch 00034: saving model to model/keypoint_classifier\\keypoint_classifier.hdf5\n",
      "Epoch 35/1000\n",
      "39/39 [==============================] - 0s 1ms/step - loss: 0.7914 - accuracy: 0.6944 - val_loss: 0.4378 - val_accuracy: 0.9030\n",
      "\n",
      "Epoch 00035: saving model to model/keypoint_classifier\\keypoint_classifier.hdf5\n",
      "Epoch 36/1000\n",
      "39/39 [==============================] - 0s 1ms/step - loss: 0.7898 - accuracy: 0.6930 - val_loss: 0.4368 - val_accuracy: 0.9030\n",
      "\n",
      "Epoch 00036: saving model to model/keypoint_classifier\\keypoint_classifier.hdf5\n",
      "Epoch 37/1000\n",
      "39/39 [==============================] - 0s 1ms/step - loss: 0.7949 - accuracy: 0.6869 - val_loss: 0.4314 - val_accuracy: 0.9078\n"
     ]
    },
    {
     "name": "stdout",
     "output_type": "stream",
     "text": [
      "\n",
      "Epoch 00037: saving model to model/keypoint_classifier\\keypoint_classifier.hdf5\n",
      "Epoch 38/1000\n",
      "39/39 [==============================] - 0s 1ms/step - loss: 0.7824 - accuracy: 0.6916 - val_loss: 0.4254 - val_accuracy: 0.9108\n",
      "\n",
      "Epoch 00038: saving model to model/keypoint_classifier\\keypoint_classifier.hdf5\n",
      "Epoch 39/1000\n",
      "39/39 [==============================] - 0s 1ms/step - loss: 0.7816 - accuracy: 0.6900 - val_loss: 0.4255 - val_accuracy: 0.9084\n",
      "\n",
      "Epoch 00039: saving model to model/keypoint_classifier\\keypoint_classifier.hdf5\n",
      "Epoch 40/1000\n",
      "39/39 [==============================] - 0s 1ms/step - loss: 0.7734 - accuracy: 0.7006 - val_loss: 0.4128 - val_accuracy: 0.9114\n",
      "\n",
      "Epoch 00040: saving model to model/keypoint_classifier\\keypoint_classifier.hdf5\n",
      "Epoch 41/1000\n",
      "39/39 [==============================] - 0s 1ms/step - loss: 0.7761 - accuracy: 0.7058 - val_loss: 0.4105 - val_accuracy: 0.9096\n",
      "\n",
      "Epoch 00041: saving model to model/keypoint_classifier\\keypoint_classifier.hdf5\n",
      "Epoch 42/1000\n",
      "39/39 [==============================] - 0s 1ms/step - loss: 0.7797 - accuracy: 0.6988 - val_loss: 0.4126 - val_accuracy: 0.9120\n",
      "\n",
      "Epoch 00042: saving model to model/keypoint_classifier\\keypoint_classifier.hdf5\n",
      "Epoch 43/1000\n",
      "39/39 [==============================] - 0s 1ms/step - loss: 0.7611 - accuracy: 0.6976 - val_loss: 0.4015 - val_accuracy: 0.9157\n",
      "\n",
      "Epoch 00043: saving model to model/keypoint_classifier\\keypoint_classifier.hdf5\n",
      "Epoch 44/1000\n",
      "39/39 [==============================] - 0s 1ms/step - loss: 0.7425 - accuracy: 0.7155 - val_loss: 0.3978 - val_accuracy: 0.9127\n",
      "\n",
      "Epoch 00044: saving model to model/keypoint_classifier\\keypoint_classifier.hdf5\n",
      "Epoch 45/1000\n",
      "39/39 [==============================] - 0s 1ms/step - loss: 0.7449 - accuracy: 0.7122 - val_loss: 0.3943 - val_accuracy: 0.9108\n",
      "\n",
      "Epoch 00045: saving model to model/keypoint_classifier\\keypoint_classifier.hdf5\n",
      "Epoch 46/1000\n",
      "39/39 [==============================] - 0s 1ms/step - loss: 0.7563 - accuracy: 0.7054 - val_loss: 0.3931 - val_accuracy: 0.9114\n",
      "\n",
      "Epoch 00046: saving model to model/keypoint_classifier\\keypoint_classifier.hdf5\n",
      "Epoch 47/1000\n",
      "39/39 [==============================] - 0s 1ms/step - loss: 0.7494 - accuracy: 0.7092 - val_loss: 0.3873 - val_accuracy: 0.9163\n",
      "\n",
      "Epoch 00047: saving model to model/keypoint_classifier\\keypoint_classifier.hdf5\n",
      "Epoch 48/1000\n",
      "39/39 [==============================] - 0s 1ms/step - loss: 0.7421 - accuracy: 0.7155 - val_loss: 0.3788 - val_accuracy: 0.9223\n",
      "\n",
      "Epoch 00048: saving model to model/keypoint_classifier\\keypoint_classifier.hdf5\n",
      "Epoch 49/1000\n",
      "39/39 [==============================] - 0s 1ms/step - loss: 0.7491 - accuracy: 0.7159 - val_loss: 0.3813 - val_accuracy: 0.9169\n",
      "\n",
      "Epoch 00049: saving model to model/keypoint_classifier\\keypoint_classifier.hdf5\n",
      "Epoch 50/1000\n",
      "39/39 [==============================] - 0s 1ms/step - loss: 0.7320 - accuracy: 0.7175 - val_loss: 0.3795 - val_accuracy: 0.9181\n",
      "\n",
      "Epoch 00050: saving model to model/keypoint_classifier\\keypoint_classifier.hdf5\n",
      "Epoch 51/1000\n",
      "39/39 [==============================] - 0s 1ms/step - loss: 0.6986 - accuracy: 0.7293 - val_loss: 0.3695 - val_accuracy: 0.9181\n",
      "\n",
      "Epoch 00051: saving model to model/keypoint_classifier\\keypoint_classifier.hdf5\n",
      "Epoch 52/1000\n",
      "39/39 [==============================] - 0s 1ms/step - loss: 0.7268 - accuracy: 0.7277 - val_loss: 0.3724 - val_accuracy: 0.9217\n",
      "\n",
      "Epoch 00052: saving model to model/keypoint_classifier\\keypoint_classifier.hdf5\n",
      "Epoch 53/1000\n",
      "39/39 [==============================] - 0s 1ms/step - loss: 0.7266 - accuracy: 0.7225 - val_loss: 0.3717 - val_accuracy: 0.9217\n",
      "\n",
      "Epoch 00053: saving model to model/keypoint_classifier\\keypoint_classifier.hdf5\n",
      "Epoch 54/1000\n",
      "39/39 [==============================] - 0s 1ms/step - loss: 0.7181 - accuracy: 0.7215 - val_loss: 0.3710 - val_accuracy: 0.9120\n",
      "\n",
      "Epoch 00054: saving model to model/keypoint_classifier\\keypoint_classifier.hdf5\n",
      "Epoch 55/1000\n",
      "39/39 [==============================] - 0s 1ms/step - loss: 0.7191 - accuracy: 0.7211 - val_loss: 0.3607 - val_accuracy: 0.9199\n",
      "\n",
      "Epoch 00055: saving model to model/keypoint_classifier\\keypoint_classifier.hdf5\n",
      "Epoch 56/1000\n",
      "39/39 [==============================] - 0s 1ms/step - loss: 0.7136 - accuracy: 0.7325 - val_loss: 0.3644 - val_accuracy: 0.9163\n",
      "\n",
      "Epoch 00056: saving model to model/keypoint_classifier\\keypoint_classifier.hdf5\n",
      "Epoch 57/1000\n",
      "39/39 [==============================] - 0s 1ms/step - loss: 0.7091 - accuracy: 0.7307 - val_loss: 0.3564 - val_accuracy: 0.9181\n",
      "\n",
      "Epoch 00057: saving model to model/keypoint_classifier\\keypoint_classifier.hdf5\n",
      "Epoch 58/1000\n",
      "39/39 [==============================] - 0s 1ms/step - loss: 0.7190 - accuracy: 0.7247 - val_loss: 0.3591 - val_accuracy: 0.9229\n",
      "\n",
      "Epoch 00058: saving model to model/keypoint_classifier\\keypoint_classifier.hdf5\n",
      "Epoch 59/1000\n",
      "39/39 [==============================] - 0s 1ms/step - loss: 0.7071 - accuracy: 0.7241 - val_loss: 0.3614 - val_accuracy: 0.9187\n",
      "\n",
      "Epoch 00059: saving model to model/keypoint_classifier\\keypoint_classifier.hdf5\n",
      "Epoch 60/1000\n",
      "39/39 [==============================] - 0s 1ms/step - loss: 0.7166 - accuracy: 0.7257 - val_loss: 0.3616 - val_accuracy: 0.9193\n",
      "\n",
      "Epoch 00060: saving model to model/keypoint_classifier\\keypoint_classifier.hdf5\n",
      "Epoch 61/1000\n",
      "39/39 [==============================] - 0s 1ms/step - loss: 0.6917 - accuracy: 0.7323 - val_loss: 0.3504 - val_accuracy: 0.9229\n",
      "\n",
      "Epoch 00061: saving model to model/keypoint_classifier\\keypoint_classifier.hdf5\n",
      "Epoch 62/1000\n",
      "39/39 [==============================] - 0s 1ms/step - loss: 0.7331 - accuracy: 0.7179 - val_loss: 0.3562 - val_accuracy: 0.9247\n",
      "\n",
      "Epoch 00062: saving model to model/keypoint_classifier\\keypoint_classifier.hdf5\n",
      "Epoch 63/1000\n",
      "39/39 [==============================] - 0s 1ms/step - loss: 0.7130 - accuracy: 0.7307 - val_loss: 0.3522 - val_accuracy: 0.9217\n",
      "\n",
      "Epoch 00063: saving model to model/keypoint_classifier\\keypoint_classifier.hdf5\n",
      "Epoch 64/1000\n",
      "39/39 [==============================] - 0s 1ms/step - loss: 0.6901 - accuracy: 0.7287 - val_loss: 0.3452 - val_accuracy: 0.9205\n",
      "\n",
      "Epoch 00064: saving model to model/keypoint_classifier\\keypoint_classifier.hdf5\n",
      "Epoch 65/1000\n",
      "39/39 [==============================] - 0s 1ms/step - loss: 0.7012 - accuracy: 0.7325 - val_loss: 0.3429 - val_accuracy: 0.9229\n",
      "\n",
      "Epoch 00065: saving model to model/keypoint_classifier\\keypoint_classifier.hdf5\n",
      "Epoch 66/1000\n",
      "39/39 [==============================] - 0s 1ms/step - loss: 0.6897 - accuracy: 0.7347 - val_loss: 0.3385 - val_accuracy: 0.9265\n",
      "\n",
      "Epoch 00066: saving model to model/keypoint_classifier\\keypoint_classifier.hdf5\n",
      "Epoch 67/1000\n",
      "39/39 [==============================] - 0s 1ms/step - loss: 0.6845 - accuracy: 0.7394 - val_loss: 0.3400 - val_accuracy: 0.9247\n",
      "\n",
      "Epoch 00067: saving model to model/keypoint_classifier\\keypoint_classifier.hdf5\n",
      "Epoch 68/1000\n",
      "39/39 [==============================] - 0s 1ms/step - loss: 0.6965 - accuracy: 0.7359 - val_loss: 0.3478 - val_accuracy: 0.9163\n",
      "\n",
      "Epoch 00068: saving model to model/keypoint_classifier\\keypoint_classifier.hdf5\n",
      "Epoch 69/1000\n",
      "39/39 [==============================] - 0s 1ms/step - loss: 0.6742 - accuracy: 0.7438 - val_loss: 0.3410 - val_accuracy: 0.9235\n",
      "\n",
      "Epoch 00069: saving model to model/keypoint_classifier\\keypoint_classifier.hdf5\n",
      "Epoch 70/1000\n",
      "39/39 [==============================] - 0s 1ms/step - loss: 0.6673 - accuracy: 0.7454 - val_loss: 0.3252 - val_accuracy: 0.9277\n",
      "\n",
      "Epoch 00070: saving model to model/keypoint_classifier\\keypoint_classifier.hdf5\n",
      "Epoch 71/1000\n",
      "39/39 [==============================] - 0s 1ms/step - loss: 0.6649 - accuracy: 0.7498 - val_loss: 0.3367 - val_accuracy: 0.9277\n",
      "\n",
      "Epoch 00071: saving model to model/keypoint_classifier\\keypoint_classifier.hdf5\n",
      "Epoch 72/1000\n",
      "39/39 [==============================] - 0s 1ms/step - loss: 0.6741 - accuracy: 0.7390 - val_loss: 0.3332 - val_accuracy: 0.9229\n",
      "\n",
      "Epoch 00072: saving model to model/keypoint_classifier\\keypoint_classifier.hdf5\n",
      "Epoch 73/1000\n",
      "39/39 [==============================] - 0s 1ms/step - loss: 0.6745 - accuracy: 0.7496 - val_loss: 0.3325 - val_accuracy: 0.9265\n",
      "\n",
      "Epoch 00073: saving model to model/keypoint_classifier\\keypoint_classifier.hdf5\n",
      "Epoch 74/1000\n"
     ]
    },
    {
     "name": "stdout",
     "output_type": "stream",
     "text": [
      "39/39 [==============================] - 0s 1ms/step - loss: 0.6761 - accuracy: 0.7492 - val_loss: 0.3271 - val_accuracy: 0.9283\n",
      "\n",
      "Epoch 00074: saving model to model/keypoint_classifier\\keypoint_classifier.hdf5\n",
      "Epoch 75/1000\n",
      "39/39 [==============================] - 0s 1ms/step - loss: 0.6794 - accuracy: 0.7528 - val_loss: 0.3312 - val_accuracy: 0.9295\n",
      "\n",
      "Epoch 00075: saving model to model/keypoint_classifier\\keypoint_classifier.hdf5\n",
      "Epoch 76/1000\n",
      "39/39 [==============================] - 0s 1ms/step - loss: 0.6616 - accuracy: 0.7550 - val_loss: 0.3239 - val_accuracy: 0.9265\n",
      "\n",
      "Epoch 00076: saving model to model/keypoint_classifier\\keypoint_classifier.hdf5\n",
      "Epoch 77/1000\n",
      "39/39 [==============================] - 0s 1ms/step - loss: 0.6594 - accuracy: 0.7506 - val_loss: 0.3240 - val_accuracy: 0.9283\n",
      "\n",
      "Epoch 00077: saving model to model/keypoint_classifier\\keypoint_classifier.hdf5\n",
      "Epoch 78/1000\n",
      "39/39 [==============================] - 0s 1ms/step - loss: 0.6657 - accuracy: 0.7522 - val_loss: 0.3279 - val_accuracy: 0.9283\n",
      "\n",
      "Epoch 00078: saving model to model/keypoint_classifier\\keypoint_classifier.hdf5\n",
      "Epoch 79/1000\n",
      "39/39 [==============================] - 0s 1ms/step - loss: 0.6678 - accuracy: 0.7412 - val_loss: 0.3257 - val_accuracy: 0.9301\n",
      "\n",
      "Epoch 00079: saving model to model/keypoint_classifier\\keypoint_classifier.hdf5\n",
      "Epoch 80/1000\n",
      "39/39 [==============================] - 0s 1ms/step - loss: 0.6658 - accuracy: 0.7492 - val_loss: 0.3187 - val_accuracy: 0.9283\n",
      "\n",
      "Epoch 00080: saving model to model/keypoint_classifier\\keypoint_classifier.hdf5\n",
      "Epoch 81/1000\n",
      "39/39 [==============================] - 0s 1ms/step - loss: 0.6515 - accuracy: 0.7508 - val_loss: 0.3245 - val_accuracy: 0.9259\n",
      "\n",
      "Epoch 00081: saving model to model/keypoint_classifier\\keypoint_classifier.hdf5\n",
      "Epoch 82/1000\n",
      "39/39 [==============================] - 0s 1ms/step - loss: 0.6647 - accuracy: 0.7444 - val_loss: 0.3218 - val_accuracy: 0.9331\n",
      "\n",
      "Epoch 00082: saving model to model/keypoint_classifier\\keypoint_classifier.hdf5\n",
      "Epoch 83/1000\n",
      "39/39 [==============================] - 0s 1ms/step - loss: 0.6488 - accuracy: 0.7534 - val_loss: 0.3169 - val_accuracy: 0.9313\n",
      "\n",
      "Epoch 00083: saving model to model/keypoint_classifier\\keypoint_classifier.hdf5\n",
      "Epoch 84/1000\n",
      "39/39 [==============================] - 0s 1ms/step - loss: 0.6557 - accuracy: 0.7544 - val_loss: 0.3242 - val_accuracy: 0.9319\n",
      "\n",
      "Epoch 00084: saving model to model/keypoint_classifier\\keypoint_classifier.hdf5\n",
      "Epoch 85/1000\n",
      "39/39 [==============================] - 0s 1ms/step - loss: 0.6437 - accuracy: 0.7580 - val_loss: 0.3195 - val_accuracy: 0.9271\n",
      "\n",
      "Epoch 00085: saving model to model/keypoint_classifier\\keypoint_classifier.hdf5\n",
      "Epoch 86/1000\n",
      "39/39 [==============================] - 0s 1ms/step - loss: 0.6471 - accuracy: 0.7580 - val_loss: 0.3184 - val_accuracy: 0.9259\n",
      "\n",
      "Epoch 00086: saving model to model/keypoint_classifier\\keypoint_classifier.hdf5\n",
      "Epoch 87/1000\n",
      "39/39 [==============================] - 0s 1ms/step - loss: 0.6605 - accuracy: 0.7520 - val_loss: 0.3269 - val_accuracy: 0.9331\n",
      "\n",
      "Epoch 00087: saving model to model/keypoint_classifier\\keypoint_classifier.hdf5\n",
      "Epoch 88/1000\n",
      "39/39 [==============================] - 0s 1ms/step - loss: 0.6444 - accuracy: 0.7552 - val_loss: 0.3143 - val_accuracy: 0.9319\n",
      "\n",
      "Epoch 00088: saving model to model/keypoint_classifier\\keypoint_classifier.hdf5\n",
      "Epoch 89/1000\n",
      "39/39 [==============================] - 0s 1ms/step - loss: 0.6259 - accuracy: 0.7627 - val_loss: 0.3093 - val_accuracy: 0.9325\n",
      "\n",
      "Epoch 00089: saving model to model/keypoint_classifier\\keypoint_classifier.hdf5\n",
      "Epoch 90/1000\n",
      "39/39 [==============================] - 0s 1ms/step - loss: 0.6299 - accuracy: 0.7610 - val_loss: 0.3069 - val_accuracy: 0.9313\n",
      "\n",
      "Epoch 00090: saving model to model/keypoint_classifier\\keypoint_classifier.hdf5\n",
      "Epoch 91/1000\n",
      "39/39 [==============================] - 0s 1ms/step - loss: 0.6416 - accuracy: 0.7526 - val_loss: 0.3150 - val_accuracy: 0.9331\n",
      "\n",
      "Epoch 00091: saving model to model/keypoint_classifier\\keypoint_classifier.hdf5\n",
      "Epoch 92/1000\n",
      "39/39 [==============================] - 0s 1ms/step - loss: 0.6281 - accuracy: 0.7598 - val_loss: 0.3077 - val_accuracy: 0.9361\n",
      "\n",
      "Epoch 00092: saving model to model/keypoint_classifier\\keypoint_classifier.hdf5\n",
      "Epoch 93/1000\n",
      "39/39 [==============================] - 0s 1ms/step - loss: 0.6548 - accuracy: 0.7574 - val_loss: 0.3060 - val_accuracy: 0.9319\n",
      "\n",
      "Epoch 00093: saving model to model/keypoint_classifier\\keypoint_classifier.hdf5\n",
      "Epoch 94/1000\n",
      "39/39 [==============================] - 0s 1ms/step - loss: 0.6283 - accuracy: 0.7679 - val_loss: 0.3024 - val_accuracy: 0.9355\n",
      "\n",
      "Epoch 00094: saving model to model/keypoint_classifier\\keypoint_classifier.hdf5\n",
      "Epoch 95/1000\n",
      "39/39 [==============================] - 0s 1ms/step - loss: 0.6293 - accuracy: 0.7618 - val_loss: 0.3055 - val_accuracy: 0.9343\n",
      "\n",
      "Epoch 00095: saving model to model/keypoint_classifier\\keypoint_classifier.hdf5\n",
      "Epoch 96/1000\n",
      "39/39 [==============================] - 0s 1ms/step - loss: 0.6121 - accuracy: 0.7773 - val_loss: 0.3084 - val_accuracy: 0.9307\n",
      "\n",
      "Epoch 00096: saving model to model/keypoint_classifier\\keypoint_classifier.hdf5\n",
      "Epoch 97/1000\n",
      "39/39 [==============================] - 0s 1ms/step - loss: 0.6370 - accuracy: 0.7651 - val_loss: 0.3154 - val_accuracy: 0.9343\n",
      "\n",
      "Epoch 00097: saving model to model/keypoint_classifier\\keypoint_classifier.hdf5\n",
      "Epoch 98/1000\n",
      "39/39 [==============================] - 0s 1ms/step - loss: 0.6441 - accuracy: 0.7582 - val_loss: 0.3091 - val_accuracy: 0.9349\n",
      "\n",
      "Epoch 00098: saving model to model/keypoint_classifier\\keypoint_classifier.hdf5\n",
      "Epoch 99/1000\n",
      "39/39 [==============================] - 0s 1ms/step - loss: 0.6297 - accuracy: 0.7618 - val_loss: 0.3108 - val_accuracy: 0.9343\n",
      "\n",
      "Epoch 00099: saving model to model/keypoint_classifier\\keypoint_classifier.hdf5\n",
      "Epoch 100/1000\n",
      "39/39 [==============================] - 0s 1ms/step - loss: 0.6214 - accuracy: 0.7683 - val_loss: 0.2973 - val_accuracy: 0.9349\n",
      "\n",
      "Epoch 00100: saving model to model/keypoint_classifier\\keypoint_classifier.hdf5\n",
      "Epoch 101/1000\n",
      "39/39 [==============================] - 0s 1ms/step - loss: 0.6215 - accuracy: 0.7614 - val_loss: 0.2972 - val_accuracy: 0.9337\n",
      "\n",
      "Epoch 00101: saving model to model/keypoint_classifier\\keypoint_classifier.hdf5\n",
      "Epoch 102/1000\n",
      "39/39 [==============================] - 0s 1ms/step - loss: 0.6358 - accuracy: 0.7610 - val_loss: 0.3066 - val_accuracy: 0.9331\n",
      "\n",
      "Epoch 00102: saving model to model/keypoint_classifier\\keypoint_classifier.hdf5\n",
      "Epoch 103/1000\n",
      "39/39 [==============================] - 0s 1ms/step - loss: 0.6285 - accuracy: 0.7631 - val_loss: 0.3169 - val_accuracy: 0.9241\n",
      "\n",
      "Epoch 00103: saving model to model/keypoint_classifier\\keypoint_classifier.hdf5\n",
      "Epoch 104/1000\n",
      "39/39 [==============================] - 0s 1ms/step - loss: 0.6338 - accuracy: 0.7655 - val_loss: 0.2989 - val_accuracy: 0.9361\n",
      "\n",
      "Epoch 00104: saving model to model/keypoint_classifier\\keypoint_classifier.hdf5\n",
      "Epoch 105/1000\n",
      "39/39 [==============================] - 0s 1ms/step - loss: 0.6062 - accuracy: 0.7719 - val_loss: 0.3087 - val_accuracy: 0.9295\n",
      "\n",
      "Epoch 00105: saving model to model/keypoint_classifier\\keypoint_classifier.hdf5\n",
      "Epoch 106/1000\n",
      "39/39 [==============================] - 0s 1ms/step - loss: 0.6386 - accuracy: 0.7586 - val_loss: 0.3071 - val_accuracy: 0.9331\n",
      "\n",
      "Epoch 00106: saving model to model/keypoint_classifier\\keypoint_classifier.hdf5\n",
      "Epoch 107/1000\n",
      "39/39 [==============================] - 0s 1ms/step - loss: 0.6185 - accuracy: 0.7647 - val_loss: 0.3002 - val_accuracy: 0.9404\n",
      "\n",
      "Epoch 00107: saving model to model/keypoint_classifier\\keypoint_classifier.hdf5\n",
      "Epoch 108/1000\n",
      "39/39 [==============================] - 0s 1ms/step - loss: 0.6018 - accuracy: 0.7743 - val_loss: 0.2988 - val_accuracy: 0.9380\n",
      "\n",
      "Epoch 00108: saving model to model/keypoint_classifier\\keypoint_classifier.hdf5\n",
      "Epoch 109/1000\n",
      "39/39 [==============================] - 0s 1ms/step - loss: 0.6278 - accuracy: 0.7679 - val_loss: 0.2990 - val_accuracy: 0.9301\n",
      "\n",
      "Epoch 00109: saving model to model/keypoint_classifier\\keypoint_classifier.hdf5\n",
      "Epoch 110/1000\n",
      "39/39 [==============================] - 0s 1ms/step - loss: 0.6207 - accuracy: 0.7675 - val_loss: 0.3001 - val_accuracy: 0.9367\n"
     ]
    },
    {
     "name": "stdout",
     "output_type": "stream",
     "text": [
      "\n",
      "Epoch 00110: saving model to model/keypoint_classifier\\keypoint_classifier.hdf5\n",
      "Epoch 111/1000\n",
      "39/39 [==============================] - 0s 1ms/step - loss: 0.6284 - accuracy: 0.7647 - val_loss: 0.3039 - val_accuracy: 0.9325\n",
      "\n",
      "Epoch 00111: saving model to model/keypoint_classifier\\keypoint_classifier.hdf5\n",
      "Epoch 112/1000\n",
      "39/39 [==============================] - 0s 1ms/step - loss: 0.6187 - accuracy: 0.7669 - val_loss: 0.3052 - val_accuracy: 0.9398\n",
      "\n",
      "Epoch 00112: saving model to model/keypoint_classifier\\keypoint_classifier.hdf5\n",
      "Epoch 113/1000\n",
      "39/39 [==============================] - 0s 1ms/step - loss: 0.6142 - accuracy: 0.7681 - val_loss: 0.2981 - val_accuracy: 0.9367\n",
      "\n",
      "Epoch 00113: saving model to model/keypoint_classifier\\keypoint_classifier.hdf5\n",
      "Epoch 114/1000\n",
      "39/39 [==============================] - 0s 1ms/step - loss: 0.6103 - accuracy: 0.7685 - val_loss: 0.3096 - val_accuracy: 0.9295\n",
      "\n",
      "Epoch 00114: saving model to model/keypoint_classifier\\keypoint_classifier.hdf5\n",
      "Epoch 115/1000\n",
      "39/39 [==============================] - 0s 1ms/step - loss: 0.6046 - accuracy: 0.7729 - val_loss: 0.2941 - val_accuracy: 0.9355\n",
      "\n",
      "Epoch 00115: saving model to model/keypoint_classifier\\keypoint_classifier.hdf5\n",
      "Epoch 116/1000\n",
      "39/39 [==============================] - 0s 1ms/step - loss: 0.6136 - accuracy: 0.7701 - val_loss: 0.3027 - val_accuracy: 0.9295\n",
      "\n",
      "Epoch 00116: saving model to model/keypoint_classifier\\keypoint_classifier.hdf5\n",
      "Epoch 117/1000\n",
      "39/39 [==============================] - 0s 1ms/step - loss: 0.6081 - accuracy: 0.7671 - val_loss: 0.2958 - val_accuracy: 0.9404\n",
      "\n",
      "Epoch 00117: saving model to model/keypoint_classifier\\keypoint_classifier.hdf5\n",
      "Epoch 118/1000\n",
      "39/39 [==============================] - 0s 1ms/step - loss: 0.6089 - accuracy: 0.7693 - val_loss: 0.2993 - val_accuracy: 0.9367\n",
      "\n",
      "Epoch 00118: saving model to model/keypoint_classifier\\keypoint_classifier.hdf5\n",
      "Epoch 119/1000\n",
      "39/39 [==============================] - 0s 1ms/step - loss: 0.5902 - accuracy: 0.7835 - val_loss: 0.2908 - val_accuracy: 0.9386\n",
      "\n",
      "Epoch 00119: saving model to model/keypoint_classifier\\keypoint_classifier.hdf5\n",
      "Epoch 120/1000\n",
      "39/39 [==============================] - 0s 1ms/step - loss: 0.5965 - accuracy: 0.7691 - val_loss: 0.2859 - val_accuracy: 0.9440\n",
      "\n",
      "Epoch 00120: saving model to model/keypoint_classifier\\keypoint_classifier.hdf5\n",
      "Epoch 121/1000\n",
      "39/39 [==============================] - 0s 1ms/step - loss: 0.6052 - accuracy: 0.7727 - val_loss: 0.2982 - val_accuracy: 0.9355\n",
      "\n",
      "Epoch 00121: saving model to model/keypoint_classifier\\keypoint_classifier.hdf5\n",
      "Epoch 122/1000\n",
      "39/39 [==============================] - 0s 1ms/step - loss: 0.6161 - accuracy: 0.7689 - val_loss: 0.2895 - val_accuracy: 0.9367\n",
      "\n",
      "Epoch 00122: saving model to model/keypoint_classifier\\keypoint_classifier.hdf5\n",
      "Epoch 123/1000\n",
      "39/39 [==============================] - 0s 1ms/step - loss: 0.5993 - accuracy: 0.7791 - val_loss: 0.2963 - val_accuracy: 0.9337\n",
      "\n",
      "Epoch 00123: saving model to model/keypoint_classifier\\keypoint_classifier.hdf5\n",
      "Epoch 124/1000\n",
      "39/39 [==============================] - 0s 1ms/step - loss: 0.6035 - accuracy: 0.7701 - val_loss: 0.3026 - val_accuracy: 0.9373\n",
      "\n",
      "Epoch 00124: saving model to model/keypoint_classifier\\keypoint_classifier.hdf5\n",
      "Epoch 125/1000\n",
      "39/39 [==============================] - 0s 1ms/step - loss: 0.6111 - accuracy: 0.7663 - val_loss: 0.2913 - val_accuracy: 0.9452\n",
      "\n",
      "Epoch 00125: saving model to model/keypoint_classifier\\keypoint_classifier.hdf5\n",
      "Epoch 126/1000\n",
      "39/39 [==============================] - 0s 1ms/step - loss: 0.6084 - accuracy: 0.7735 - val_loss: 0.2895 - val_accuracy: 0.9464\n",
      "\n",
      "Epoch 00126: saving model to model/keypoint_classifier\\keypoint_classifier.hdf5\n",
      "Epoch 127/1000\n",
      "39/39 [==============================] - 0s 1ms/step - loss: 0.5947 - accuracy: 0.7769 - val_loss: 0.2978 - val_accuracy: 0.9337\n",
      "\n",
      "Epoch 00127: saving model to model/keypoint_classifier\\keypoint_classifier.hdf5\n",
      "Epoch 128/1000\n",
      "39/39 [==============================] - 0s 1ms/step - loss: 0.6004 - accuracy: 0.7789 - val_loss: 0.2919 - val_accuracy: 0.9380\n",
      "\n",
      "Epoch 00128: saving model to model/keypoint_classifier\\keypoint_classifier.hdf5\n",
      "Epoch 129/1000\n",
      "39/39 [==============================] - 0s 1ms/step - loss: 0.5877 - accuracy: 0.7777 - val_loss: 0.2897 - val_accuracy: 0.9361\n",
      "\n",
      "Epoch 00129: saving model to model/keypoint_classifier\\keypoint_classifier.hdf5\n",
      "Epoch 130/1000\n",
      "39/39 [==============================] - 0s 1ms/step - loss: 0.5853 - accuracy: 0.7781 - val_loss: 0.2929 - val_accuracy: 0.9331\n",
      "\n",
      "Epoch 00130: saving model to model/keypoint_classifier\\keypoint_classifier.hdf5\n",
      "Epoch 131/1000\n",
      "39/39 [==============================] - 0s 1ms/step - loss: 0.5818 - accuracy: 0.7781 - val_loss: 0.2805 - val_accuracy: 0.9476\n",
      "\n",
      "Epoch 00131: saving model to model/keypoint_classifier\\keypoint_classifier.hdf5\n",
      "Epoch 132/1000\n",
      "39/39 [==============================] - 0s 1ms/step - loss: 0.5838 - accuracy: 0.7843 - val_loss: 0.2878 - val_accuracy: 0.9410\n",
      "\n",
      "Epoch 00132: saving model to model/keypoint_classifier\\keypoint_classifier.hdf5\n",
      "Epoch 133/1000\n",
      "39/39 [==============================] - 0s 1ms/step - loss: 0.6007 - accuracy: 0.7743 - val_loss: 0.2907 - val_accuracy: 0.9325\n",
      "\n",
      "Epoch 00133: saving model to model/keypoint_classifier\\keypoint_classifier.hdf5\n",
      "Epoch 134/1000\n",
      "39/39 [==============================] - 0s 1ms/step - loss: 0.5945 - accuracy: 0.7797 - val_loss: 0.2875 - val_accuracy: 0.9355\n",
      "\n",
      "Epoch 00134: saving model to model/keypoint_classifier\\keypoint_classifier.hdf5\n",
      "Epoch 135/1000\n",
      "39/39 [==============================] - 0s 1ms/step - loss: 0.5912 - accuracy: 0.7821 - val_loss: 0.2970 - val_accuracy: 0.9367\n",
      "\n",
      "Epoch 00135: saving model to model/keypoint_classifier\\keypoint_classifier.hdf5\n",
      "Epoch 136/1000\n",
      "39/39 [==============================] - 0s 1ms/step - loss: 0.5762 - accuracy: 0.7803 - val_loss: 0.2862 - val_accuracy: 0.9416\n",
      "\n",
      "Epoch 00136: saving model to model/keypoint_classifier\\keypoint_classifier.hdf5\n",
      "Epoch 137/1000\n",
      "39/39 [==============================] - 0s 1ms/step - loss: 0.5901 - accuracy: 0.7755 - val_loss: 0.2823 - val_accuracy: 0.9380\n",
      "\n",
      "Epoch 00137: saving model to model/keypoint_classifier\\keypoint_classifier.hdf5\n",
      "Epoch 138/1000\n",
      "39/39 [==============================] - 0s 1ms/step - loss: 0.5935 - accuracy: 0.7813 - val_loss: 0.2877 - val_accuracy: 0.9434\n",
      "\n",
      "Epoch 00138: saving model to model/keypoint_classifier\\keypoint_classifier.hdf5\n",
      "Epoch 139/1000\n",
      "39/39 [==============================] - 0s 1ms/step - loss: 0.5831 - accuracy: 0.7759 - val_loss: 0.2970 - val_accuracy: 0.9301\n",
      "\n",
      "Epoch 00139: saving model to model/keypoint_classifier\\keypoint_classifier.hdf5\n",
      "Epoch 140/1000\n",
      "39/39 [==============================] - 0s 1ms/step - loss: 0.5689 - accuracy: 0.7851 - val_loss: 0.2826 - val_accuracy: 0.9416\n",
      "\n",
      "Epoch 00140: saving model to model/keypoint_classifier\\keypoint_classifier.hdf5\n",
      "Epoch 141/1000\n",
      "39/39 [==============================] - 0s 1ms/step - loss: 0.5814 - accuracy: 0.7787 - val_loss: 0.2814 - val_accuracy: 0.9452\n",
      "\n",
      "Epoch 00141: saving model to model/keypoint_classifier\\keypoint_classifier.hdf5\n",
      "Epoch 142/1000\n",
      "39/39 [==============================] - 0s 1ms/step - loss: 0.5803 - accuracy: 0.7795 - val_loss: 0.2787 - val_accuracy: 0.9404\n",
      "\n",
      "Epoch 00142: saving model to model/keypoint_classifier\\keypoint_classifier.hdf5\n",
      "Epoch 143/1000\n",
      "39/39 [==============================] - 0s 1ms/step - loss: 0.5741 - accuracy: 0.7849 - val_loss: 0.2930 - val_accuracy: 0.9380\n",
      "\n",
      "Epoch 00143: saving model to model/keypoint_classifier\\keypoint_classifier.hdf5\n",
      "Epoch 144/1000\n",
      "39/39 [==============================] - 0s 1ms/step - loss: 0.6020 - accuracy: 0.7801 - val_loss: 0.2918 - val_accuracy: 0.9392\n",
      "\n",
      "Epoch 00144: saving model to model/keypoint_classifier\\keypoint_classifier.hdf5\n",
      "Epoch 145/1000\n",
      "39/39 [==============================] - 0s 1ms/step - loss: 0.6047 - accuracy: 0.7765 - val_loss: 0.2956 - val_accuracy: 0.9440\n",
      "\n",
      "Epoch 00145: saving model to model/keypoint_classifier\\keypoint_classifier.hdf5\n",
      "Epoch 146/1000\n",
      "39/39 [==============================] - 0s 1ms/step - loss: 0.5906 - accuracy: 0.7801 - val_loss: 0.2938 - val_accuracy: 0.9386\n",
      "\n",
      "Epoch 00146: saving model to model/keypoint_classifier\\keypoint_classifier.hdf5\n",
      "Epoch 147/1000\n"
     ]
    },
    {
     "name": "stdout",
     "output_type": "stream",
     "text": [
      "39/39 [==============================] - 0s 1ms/step - loss: 0.5821 - accuracy: 0.7829 - val_loss: 0.2936 - val_accuracy: 0.9380\n",
      "\n",
      "Epoch 00147: saving model to model/keypoint_classifier\\keypoint_classifier.hdf5\n",
      "Epoch 148/1000\n",
      "39/39 [==============================] - 0s 1ms/step - loss: 0.5906 - accuracy: 0.7789 - val_loss: 0.2907 - val_accuracy: 0.9373\n",
      "\n",
      "Epoch 00148: saving model to model/keypoint_classifier\\keypoint_classifier.hdf5\n",
      "Epoch 149/1000\n",
      "39/39 [==============================] - 0s 1ms/step - loss: 0.5839 - accuracy: 0.7795 - val_loss: 0.3009 - val_accuracy: 0.9325\n",
      "\n",
      "Epoch 00149: saving model to model/keypoint_classifier\\keypoint_classifier.hdf5\n",
      "Epoch 150/1000\n",
      "39/39 [==============================] - 0s 1ms/step - loss: 0.5934 - accuracy: 0.7753 - val_loss: 0.2857 - val_accuracy: 0.9398\n",
      "\n",
      "Epoch 00150: saving model to model/keypoint_classifier\\keypoint_classifier.hdf5\n",
      "Epoch 151/1000\n",
      "39/39 [==============================] - 0s 1ms/step - loss: 0.5840 - accuracy: 0.7779 - val_loss: 0.2809 - val_accuracy: 0.9458\n",
      "\n",
      "Epoch 00151: saving model to model/keypoint_classifier\\keypoint_classifier.hdf5\n",
      "Epoch 152/1000\n",
      "39/39 [==============================] - 0s 1ms/step - loss: 0.5763 - accuracy: 0.7853 - val_loss: 0.2844 - val_accuracy: 0.9410\n",
      "\n",
      "Epoch 00152: saving model to model/keypoint_classifier\\keypoint_classifier.hdf5\n",
      "Epoch 153/1000\n",
      "39/39 [==============================] - 0s 1ms/step - loss: 0.5663 - accuracy: 0.7910 - val_loss: 0.2868 - val_accuracy: 0.9380\n",
      "\n",
      "Epoch 00153: saving model to model/keypoint_classifier\\keypoint_classifier.hdf5\n",
      "Epoch 154/1000\n",
      "39/39 [==============================] - 0s 1ms/step - loss: 0.5781 - accuracy: 0.7843 - val_loss: 0.2919 - val_accuracy: 0.9373\n",
      "\n",
      "Epoch 00154: saving model to model/keypoint_classifier\\keypoint_classifier.hdf5\n",
      "Epoch 155/1000\n",
      "39/39 [==============================] - 0s 1ms/step - loss: 0.5864 - accuracy: 0.7831 - val_loss: 0.2812 - val_accuracy: 0.9398\n",
      "\n",
      "Epoch 00155: saving model to model/keypoint_classifier\\keypoint_classifier.hdf5\n",
      "Epoch 156/1000\n",
      "39/39 [==============================] - 0s 1ms/step - loss: 0.5890 - accuracy: 0.7793 - val_loss: 0.2826 - val_accuracy: 0.9422\n",
      "\n",
      "Epoch 00156: saving model to model/keypoint_classifier\\keypoint_classifier.hdf5\n",
      "Epoch 157/1000\n",
      "39/39 [==============================] - 0s 1ms/step - loss: 0.5654 - accuracy: 0.7928 - val_loss: 0.2859 - val_accuracy: 0.9410\n",
      "\n",
      "Epoch 00157: saving model to model/keypoint_classifier\\keypoint_classifier.hdf5\n",
      "Epoch 158/1000\n",
      "39/39 [==============================] - 0s 1ms/step - loss: 0.5787 - accuracy: 0.7803 - val_loss: 0.2967 - val_accuracy: 0.9307\n",
      "\n",
      "Epoch 00158: saving model to model/keypoint_classifier\\keypoint_classifier.hdf5\n",
      "Epoch 159/1000\n",
      "39/39 [==============================] - 0s 1ms/step - loss: 0.5736 - accuracy: 0.7865 - val_loss: 0.2898 - val_accuracy: 0.9343\n",
      "\n",
      "Epoch 00159: saving model to model/keypoint_classifier\\keypoint_classifier.hdf5\n",
      "Epoch 160/1000\n",
      "39/39 [==============================] - 0s 1ms/step - loss: 0.5673 - accuracy: 0.7876 - val_loss: 0.2857 - val_accuracy: 0.9410\n",
      "\n",
      "Epoch 00160: saving model to model/keypoint_classifier\\keypoint_classifier.hdf5\n",
      "Epoch 161/1000\n",
      "39/39 [==============================] - 0s 1ms/step - loss: 0.5712 - accuracy: 0.7882 - val_loss: 0.2950 - val_accuracy: 0.9349\n",
      "\n",
      "Epoch 00161: saving model to model/keypoint_classifier\\keypoint_classifier.hdf5\n",
      "Epoch 162/1000\n",
      "39/39 [==============================] - 0s 1ms/step - loss: 0.5706 - accuracy: 0.7791 - val_loss: 0.2939 - val_accuracy: 0.9367\n",
      "\n",
      "Epoch 00162: saving model to model/keypoint_classifier\\keypoint_classifier.hdf5\n",
      "Epoch 00162: early stopping\n"
     ]
    },
    {
     "data": {
      "text/plain": [
       "<tensorflow.python.keras.callbacks.History at 0x25231fca880>"
      ]
     },
     "execution_count": 11,
     "metadata": {},
     "output_type": "execute_result"
    }
   ],
   "source": [
    "model.fit(\n",
    "    X_train,\n",
    "    y_train,\n",
    "    epochs=1000,\n",
    "    batch_size=128,\n",
    "    validation_data=(X_test, y_test),\n",
    "    callbacks=[cp_callback, es_callback]\n",
    ")"
   ]
  },
  {
   "cell_type": "code",
   "execution_count": 12,
   "metadata": {
    "colab": {
     "base_uri": "https://localhost:8080/"
    },
    "id": "pxvb2Y299hE3",
    "outputId": "59eb3185-2e37-4b9e-bc9d-ab1b8ac29b7f"
   },
   "outputs": [
    {
     "name": "stdout",
     "output_type": "stream",
     "text": [
      "13/13 [==============================] - 0s 417us/step - loss: 0.2939 - accuracy: 0.9367\n"
     ]
    }
   ],
   "source": [
    "# Model evaluation\n",
    "val_loss, val_acc = model.evaluate(X_test, y_test, batch_size=128)"
   ]
  },
  {
   "cell_type": "code",
   "execution_count": 13,
   "metadata": {
    "id": "RBkmDeUW9hE4"
   },
   "outputs": [],
   "source": [
    "# Loading the saved model\n",
    "model = tf.keras.models.load_model(model_save_path)"
   ]
  },
  {
   "cell_type": "code",
   "execution_count": 14,
   "metadata": {
    "colab": {
     "base_uri": "https://localhost:8080/"
    },
    "id": "tFz9Tb0I9hE4",
    "outputId": "1c3b3528-54ae-4ee2-ab04-77429211cbef"
   },
   "outputs": [
    {
     "name": "stdout",
     "output_type": "stream",
     "text": [
      "[5.8788545e-02 8.9634991e-01 3.9446827e-02 1.4912331e-07 9.6540838e-09\n",
      " 5.4139025e-03 6.6937548e-07]\n",
      "1\n"
     ]
    }
   ],
   "source": [
    "# Inference test\n",
    "predict_result = model.predict(np.array([X_test[0]]))\n",
    "print(np.squeeze(predict_result))\n",
    "print(np.argmax(np.squeeze(predict_result)))"
   ]
  },
  {
   "cell_type": "markdown",
   "metadata": {
    "id": "S3U4yNWx9hE4"
   },
   "source": [
    "# Confusion matrix"
   ]
  },
  {
   "cell_type": "code",
   "execution_count": 15,
   "metadata": {
    "colab": {
     "base_uri": "https://localhost:8080/",
     "height": 582
    },
    "id": "AP1V6SCk9hE5",
    "outputId": "08e41a80-7a4a-4619-8125-ecc371368d19"
   },
   "outputs": [
    {
     "data": {
      "image/png": "[encoded data removed]",
      "text/plain": [
       "<Figure size 504x432 with 2 Axes>"
      ]
     },
     "metadata": {
      "needs_background": "light"
     },
     "output_type": "display_data"
    },
    {
     "name": "stdout",
     "output_type": "stream",
     "text": [
      "Classification Report\n",
      "              precision    recall  f1-score   support\n",
      "\n",
      "           0       0.98      0.91      0.94       407\n",
      "           1       0.95      0.87      0.91       383\n",
      "           2       0.91      0.97      0.94       339\n",
      "           3       0.83      1.00      0.91        81\n",
      "           4       1.00      1.00      1.00       262\n",
      "           5       0.97      0.98      0.97       122\n",
      "           6       0.74      0.95      0.83        66\n",
      "\n",
      "    accuracy                           0.94      1660\n",
      "   macro avg       0.91      0.95      0.93      1660\n",
      "weighted avg       0.94      0.94      0.94      1660\n",
      "\n"
     ]
    }
   ],
   "source": [
    "import pandas as pd\n",
    "import seaborn as sns\n",
    "import matplotlib.pyplot as plt\n",
    "from sklearn.metrics import confusion_matrix, classification_report\n",
    "\n",
    "def print_confusion_matrix(y_true, y_pred, report=True):\n",
    "    labels = sorted(list(set(y_true)))\n",
    "    cmx_data = confusion_matrix(y_true, y_pred, labels=labels)\n",
    "    \n",
    "    df_cmx = pd.DataFrame(cmx_data, index=labels, columns=labels)\n",
    " \n",
    "    fig, ax = plt.subplots(figsize=(7, 6))\n",
    "    sns.heatmap(df_cmx, annot=True, fmt='g' ,square=False)\n",
    "    ax.set_ylim(len(set(y_true)), 0)\n",
    "    plt.show()\n",
    "    \n",
    "    if report:\n",
    "        print('Classification Report')\n",
    "        print(classification_report(y_test, y_pred))\n",
    "\n",
    "Y_pred = model.predict(X_test)\n",
    "y_pred = np.argmax(Y_pred, axis=1)\n",
    "\n",
    "print_confusion_matrix(y_test, y_pred)"
   ]
  },
  {
   "cell_type": "markdown",
   "metadata": {
    "id": "FNP6aqzc9hE5"
   },
   "source": [
    "# Convert to model for Tensorflow-Lite"
   ]
  },
  {
   "cell_type": "code",
   "execution_count": 16,
   "metadata": {
    "id": "ODjnYyld9hE6"
   },
   "outputs": [],
   "source": [
    "# Save as a model dedicated to inference\n",
    "model.save(model_save_path, include_optimizer=False)"
   ]
  },
  {
   "cell_type": "code",
   "execution_count": 17,
   "metadata": {
    "colab": {
     "base_uri": "https://localhost:8080/"
    },
    "id": "zRfuK8Y59hE6",
    "outputId": "a4ca585c-b5d5-4244-8291-8674063209bb"
   },
   "outputs": [
    {
     "name": "stdout",
     "output_type": "stream",
     "text": [
      "INFO:tensorflow:Assets written to: C:\\Users\\offic\\AppData\\Local\\Temp\\tmpoeyb2h3l\\assets\n"
     ]
    },
    {
     "data": {
      "text/plain": [
       "6496"
      ]
     },
     "execution_count": 17,
     "metadata": {},
     "output_type": "execute_result"
    }
   ],
   "source": [
    "# Transform model (quantization)\n",
    "\n",
    "converter = tf.lite.TFLiteConverter.from_keras_model(model)\n",
    "converter.optimizations = [tf.lite.Optimize.DEFAULT]\n",
    "tflite_quantized_model = converter.convert()\n",
    "\n",
    "open(tflite_save_path, 'wb').write(tflite_quantized_model)"
   ]
  },
  {
   "cell_type": "markdown",
   "metadata": {
    "id": "CHBPBXdx9hE6"
   },
   "source": [
    "# Inference test"
   ]
  },
  {
   "cell_type": "code",
   "execution_count": 18,
   "metadata": {
    "id": "mGAzLocO9hE7"
   },
   "outputs": [],
   "source": [
    "interpreter = tf.lite.Interpreter(model_path=tflite_save_path)\n",
    "interpreter.allocate_tensors()"
   ]
  },
  {
   "cell_type": "code",
   "execution_count": 19,
   "metadata": {
    "id": "oQuDK8YS9hE7"
   },
   "outputs": [],
   "source": [
    "# Get I / O tensor\n",
    "input_details = interpreter.get_input_details()\n",
    "output_details = interpreter.get_output_details()"
   ]
  },
  {
   "cell_type": "code",
   "execution_count": 20,
   "metadata": {
    "id": "2_ixAf_l9hE7"
   },
   "outputs": [],
   "source": [
    "interpreter.set_tensor(input_details[0]['index'], np.array([X_test[0]]))"
   ]
  },
  {
   "cell_type": "code",
   "execution_count": 21,
   "metadata": {
    "colab": {
     "base_uri": "https://localhost:8080/"
    },
    "id": "s4FoAnuc9hE7",
    "outputId": "91f18257-8d8b-4ef3-c558-e9b5f94fabbf",
    "scrolled": true
   },
   "outputs": [
    {
     "name": "stdout",
     "output_type": "stream",
     "text": [
      "Wall time: 0 ns\n"
     ]
    }
   ],
   "source": [
    "%%time\n",
    "# Inference implementation\n",
    "interpreter.invoke()\n",
    "tflite_results = interpreter.get_tensor(output_details[0]['index'])"
   ]
  },
  {
   "cell_type": "code",
   "execution_count": 22,
   "metadata": {
    "colab": {
     "base_uri": "https://localhost:8080/"
    },
    "id": "vONjp19J9hE8",
    "outputId": "77205e24-fd00-42c4-f7b6-e06e527c2cba"
   },
   "outputs": [
    {
     "name": "stdout",
     "output_type": "stream",
     "text": [
      "[2.2853570e-02 8.7526584e-01 9.5567100e-02 5.7637597e-14 3.6300818e-20\n",
      " 6.3046576e-03 8.8413035e-06]\n",
      "1\n"
     ]
    }
   ],
   "source": [
    "print(np.squeeze(tflite_results))\n",
    "print(np.argmax(np.squeeze(tflite_results)))"
   ]
  }
 ],
 "metadata": {
  "accelerator": "GPU",
  "colab": {
   "collapsed_sections": [],
   "name": "keypoint_classification_EN.ipynb",
   "provenance": [],
   "toc_visible": true
  },
  "kernelspec": {
   "display_name": "Python 3",
   "language": "python",
   "name": "python3"
  },
  "language_info": {
   "codemirror_mode": {
    "name": "ipython",
    "version": 3
   },
   "file_extension": ".py",
   "mimetype": "text/x-python",
   "name": "python",
   "nbconvert_exporter": "python",
   "pygments_lexer": "ipython3",
   "version": "3.9.5"
  }
 },
 "nbformat": 4,
 "nbformat_minor": 1
}
