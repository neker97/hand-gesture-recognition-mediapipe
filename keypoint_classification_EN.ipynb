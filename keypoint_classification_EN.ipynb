{
 "cells": [
  {
   "cell_type": "code",
   "execution_count": 2,
   "metadata": {
    "id": "igMyGnjE9hEp"
   },
   "outputs": [],
   "source": [
    "import csv\n",
    "\n",
    "import numpy as np\n",
    "import tensorflow as tf\n",
    "from sklearn.model_selection import train_test_split\n",
    "\n",
    "RANDOM_SEED = 42"
   ]
  },
  {
   "cell_type": "markdown",
   "metadata": {
    "id": "t2HDvhIu9hEr"
   },
   "source": [
    "# Specify each path"
   ]
  },
  {
   "cell_type": "code",
   "execution_count": 3,
   "metadata": {
    "id": "9NvZP2Zn9hEy"
   },
   "outputs": [],
   "source": [
    "dataset = 'model/keypoint_classifier/keypoint.csv'\n",
    "model_save_path = 'model/keypoint_classifier/keypoint_classifier.hdf5'\n",
    "tflite_save_path = 'model/keypoint_classifier/keypoint_classifier.tflite'"
   ]
  },
  {
   "cell_type": "markdown",
   "metadata": {
    "id": "s5oMH7x19hEz"
   },
   "source": [
    "# Set number of classes"
   ]
  },
  {
   "cell_type": "code",
   "execution_count": 4,
   "metadata": {
    "id": "du4kodXL9hEz"
   },
   "outputs": [],
   "source": [
    "NUM_CLASSES = 6"
   ]
  },
  {
   "cell_type": "markdown",
   "metadata": {
    "id": "XjnL0uso9hEz"
   },
   "source": [
    "# Dataset reading"
   ]
  },
  {
   "cell_type": "code",
   "execution_count": 5,
   "metadata": {
    "id": "QT5ZqtEz9hE0"
   },
   "outputs": [],
   "source": [
    "X_dataset = np.loadtxt(dataset, delimiter=',', dtype='float32', usecols=list(range(1, (21 * 2) + 1)))"
   ]
  },
  {
   "cell_type": "code",
   "execution_count": 6,
   "metadata": {
    "id": "QmoKFsp49hE0"
   },
   "outputs": [],
   "source": [
    "y_dataset = np.loadtxt(dataset, delimiter=',', dtype='int32', usecols=(0))"
   ]
  },
  {
   "cell_type": "code",
   "execution_count": 7,
   "metadata": {
    "id": "xQU7JTZ_9hE0"
   },
   "outputs": [],
   "source": [
    "X_train, X_test, y_train, y_test = train_test_split(X_dataset, y_dataset, train_size=0.75, random_state=RANDOM_SEED)"
   ]
  },
  {
   "cell_type": "markdown",
   "metadata": {
    "id": "mxK_lETT9hE0"
   },
   "source": [
    "# Model building"
   ]
  },
  {
   "cell_type": "code",
   "execution_count": 8,
   "metadata": {
    "id": "vHBmUf1t9hE1"
   },
   "outputs": [
    {
     "name": "stdout",
     "output_type": "stream",
     "text": [
      "WARNING:tensorflow:Please add `keras.layers.InputLayer` instead of `keras.Input` to Sequential model. `keras.Input` is intended to be used by Functional model.\n"
     ]
    }
   ],
   "source": [
    "model = tf.keras.models.Sequential([\n",
    "    tf.keras.layers.Input((21 * 2, )),\n",
    "    tf.keras.layers.Dropout(0.2),\n",
    "    tf.keras.layers.Dense(20, activation='relu'),\n",
    "    tf.keras.layers.Dropout(0.4),\n",
    "    tf.keras.layers.Dense(10, activation='relu'),\n",
    "    tf.keras.layers.Dense(NUM_CLASSES, activation='softmax')\n",
    "])"
   ]
  },
  {
   "cell_type": "code",
   "execution_count": 9,
   "metadata": {
    "colab": {
     "base_uri": "https://localhost:8080/"
    },
    "id": "ypqky9tc9hE1",
    "outputId": "5db082bb-30e3-4110-bf63-a1ee777ecd46"
   },
   "outputs": [
    {
     "name": "stdout",
     "output_type": "stream",
     "text": [
      "Model: \"sequential\"\n",
      "_________________________________________________________________\n",
      "Layer (type)                 Output Shape              Param #   \n",
      "=================================================================\n",
      "dropout (Dropout)            (None, 42)                0         \n",
      "_________________________________________________________________\n",
      "dense (Dense)                (None, 20)                860       \n",
      "_________________________________________________________________\n",
      "dropout_1 (Dropout)          (None, 20)                0         \n",
      "_________________________________________________________________\n",
      "dense_1 (Dense)              (None, 10)                210       \n",
      "_________________________________________________________________\n",
      "dense_2 (Dense)              (None, 6)                 66        \n",
      "=================================================================\n",
      "Total params: 1,136\n",
      "Trainable params: 1,136\n",
      "Non-trainable params: 0\n",
      "_________________________________________________________________\n"
     ]
    }
   ],
   "source": [
    "model.summary()  # tf.keras.utils.plot_model(model, show_shapes=True)"
   ]
  },
  {
   "cell_type": "code",
   "execution_count": 10,
   "metadata": {
    "id": "MbMjOflQ9hE1"
   },
   "outputs": [],
   "source": [
    "# Model checkpoint callback\n",
    "cp_callback = tf.keras.callbacks.ModelCheckpoint(\n",
    "    model_save_path, verbose=1, save_weights_only=False)\n",
    "# Callback for early stopping\n",
    "es_callback = tf.keras.callbacks.EarlyStopping(patience=20, verbose=1)"
   ]
  },
  {
   "cell_type": "code",
   "execution_count": 11,
   "metadata": {
    "id": "c3Dac0M_9hE2"
   },
   "outputs": [],
   "source": [
    "# Model compilation\n",
    "model.compile(\n",
    "    optimizer='adam',\n",
    "    loss='sparse_categorical_crossentropy',\n",
    "    metrics=['accuracy']\n",
    ")"
   ]
  },
  {
   "cell_type": "markdown",
   "metadata": {
    "id": "7XI0j1Iu9hE2"
   },
   "source": [
    "# Model training"
   ]
  },
  {
   "cell_type": "code",
   "execution_count": 12,
   "metadata": {
    "colab": {
     "base_uri": "https://localhost:8080/"
    },
    "id": "WirBl-JE9hE3",
    "outputId": "71b30ca2-8294-4d9d-8aa2-800d90d399de",
    "scrolled": true
   },
   "outputs": [
    {
     "name": "stdout",
     "output_type": "stream",
     "text": [
      "Epoch 1/1000\n",
      "35/35 [==============================] - 0s 5ms/step - loss: 1.7000 - accuracy: 0.2442 - val_loss: 1.5656 - val_accuracy: 0.3265\n",
      "\n",
      "Epoch 00001: saving model to model/keypoint_classifier\\keypoint_classifier.hdf5\n",
      "Epoch 2/1000\n",
      "35/35 [==============================] - 0s 1ms/step - loss: 1.5406 - accuracy: 0.3182 - val_loss: 1.4165 - val_accuracy: 0.5690\n",
      "\n",
      "Epoch 00002: saving model to model/keypoint_classifier\\keypoint_classifier.hdf5\n",
      "Epoch 3/1000\n",
      "35/35 [==============================] - 0s 1ms/step - loss: 1.4171 - accuracy: 0.3829 - val_loss: 1.2898 - val_accuracy: 0.6352\n",
      "\n",
      "Epoch 00003: saving model to model/keypoint_classifier\\keypoint_classifier.hdf5\n",
      "Epoch 4/1000\n",
      "35/35 [==============================] - 0s 1ms/step - loss: 1.3178 - accuracy: 0.4626 - val_loss: 1.1639 - val_accuracy: 0.7145\n",
      "\n",
      "Epoch 00004: saving model to model/keypoint_classifier\\keypoint_classifier.hdf5\n",
      "Epoch 5/1000\n",
      "35/35 [==============================] - 0s 1ms/step - loss: 1.2390 - accuracy: 0.4891 - val_loss: 1.0625 - val_accuracy: 0.7199\n",
      "\n",
      "Epoch 00005: saving model to model/keypoint_classifier\\keypoint_classifier.hdf5\n",
      "Epoch 6/1000\n",
      "35/35 [==============================] - 0s 1ms/step - loss: 1.1723 - accuracy: 0.5305 - val_loss: 0.9603 - val_accuracy: 0.7172\n",
      "\n",
      "Epoch 00006: saving model to model/keypoint_classifier\\keypoint_classifier.hdf5\n",
      "Epoch 7/1000\n",
      "35/35 [==============================] - 0s 1ms/step - loss: 1.1065 - accuracy: 0.5574 - val_loss: 0.8675 - val_accuracy: 0.7664\n",
      "\n",
      "Epoch 00007: saving model to model/keypoint_classifier\\keypoint_classifier.hdf5\n",
      "Epoch 8/1000\n",
      "35/35 [==============================] - 0s 1ms/step - loss: 1.0595 - accuracy: 0.5708 - val_loss: 0.7924 - val_accuracy: 0.8115\n",
      "\n",
      "Epoch 00008: saving model to model/keypoint_classifier\\keypoint_classifier.hdf5\n",
      "Epoch 9/1000\n",
      "35/35 [==============================] - 0s 1ms/step - loss: 1.0156 - accuracy: 0.5943 - val_loss: 0.7418 - val_accuracy: 0.8231\n",
      "\n",
      "Epoch 00009: saving model to model/keypoint_classifier\\keypoint_classifier.hdf5\n",
      "Epoch 10/1000\n",
      "35/35 [==============================] - 0s 1ms/step - loss: 0.9782 - accuracy: 0.6057 - val_loss: 0.6902 - val_accuracy: 0.8408\n",
      "\n",
      "Epoch 00010: saving model to model/keypoint_classifier\\keypoint_classifier.hdf5\n",
      "Epoch 11/1000\n",
      "35/35 [==============================] - 0s 1ms/step - loss: 0.9431 - accuracy: 0.6075 - val_loss: 0.6495 - val_accuracy: 0.8525\n",
      "\n",
      "Epoch 00011: saving model to model/keypoint_classifier\\keypoint_classifier.hdf5\n",
      "Epoch 12/1000\n",
      "35/35 [==============================] - 0s 1ms/step - loss: 0.9211 - accuracy: 0.6344 - val_loss: 0.6194 - val_accuracy: 0.8531\n",
      "\n",
      "Epoch 00012: saving model to model/keypoint_classifier\\keypoint_classifier.hdf5\n",
      "Epoch 13/1000\n",
      "35/35 [==============================] - 0s 1ms/step - loss: 0.8852 - accuracy: 0.6481 - val_loss: 0.5869 - val_accuracy: 0.8682\n",
      "\n",
      "Epoch 00013: saving model to model/keypoint_classifier\\keypoint_classifier.hdf5\n",
      "Epoch 14/1000\n",
      "35/35 [==============================] - 0s 1ms/step - loss: 0.8752 - accuracy: 0.6396 - val_loss: 0.5764 - val_accuracy: 0.8702\n",
      "\n",
      "Epoch 00014: saving model to model/keypoint_classifier\\keypoint_classifier.hdf5\n",
      "Epoch 15/1000\n",
      "35/35 [==============================] - 0s 1ms/step - loss: 0.8398 - accuracy: 0.6588 - val_loss: 0.5404 - val_accuracy: 0.8798\n",
      "\n",
      "Epoch 00015: saving model to model/keypoint_classifier\\keypoint_classifier.hdf5\n",
      "Epoch 16/1000\n",
      "35/35 [==============================] - 0s 1ms/step - loss: 0.8434 - accuracy: 0.6547 - val_loss: 0.5266 - val_accuracy: 0.8887\n",
      "\n",
      "Epoch 00016: saving model to model/keypoint_classifier\\keypoint_classifier.hdf5\n",
      "Epoch 17/1000\n",
      "35/35 [==============================] - 0s 1ms/step - loss: 0.8220 - accuracy: 0.6711 - val_loss: 0.5226 - val_accuracy: 0.8832\n",
      "\n",
      "Epoch 00017: saving model to model/keypoint_classifier\\keypoint_classifier.hdf5\n",
      "Epoch 18/1000\n",
      "35/35 [==============================] - 0s 1ms/step - loss: 0.8091 - accuracy: 0.6656 - val_loss: 0.4952 - val_accuracy: 0.8921\n",
      "\n",
      "Epoch 00018: saving model to model/keypoint_classifier\\keypoint_classifier.hdf5\n",
      "Epoch 19/1000\n",
      "35/35 [==============================] - 0s 1ms/step - loss: 0.7853 - accuracy: 0.6872 - val_loss: 0.4910 - val_accuracy: 0.8975\n",
      "\n",
      "Epoch 00019: saving model to model/keypoint_classifier\\keypoint_classifier.hdf5\n",
      "Epoch 20/1000\n",
      "35/35 [==============================] - 0s 1ms/step - loss: 0.7741 - accuracy: 0.6941 - val_loss: 0.4692 - val_accuracy: 0.8955\n",
      "\n",
      "Epoch 00020: saving model to model/keypoint_classifier\\keypoint_classifier.hdf5\n",
      "Epoch 21/1000\n",
      "35/35 [==============================] - 0s 1ms/step - loss: 0.7830 - accuracy: 0.6820 - val_loss: 0.4623 - val_accuracy: 0.9037\n",
      "\n",
      "Epoch 00021: saving model to model/keypoint_classifier\\keypoint_classifier.hdf5\n",
      "Epoch 22/1000\n",
      "35/35 [==============================] - 0s 1ms/step - loss: 0.7571 - accuracy: 0.6998 - val_loss: 0.4614 - val_accuracy: 0.8887\n",
      "\n",
      "Epoch 00022: saving model to model/keypoint_classifier\\keypoint_classifier.hdf5\n",
      "Epoch 23/1000\n",
      "35/35 [==============================] - 0s 1ms/step - loss: 0.7438 - accuracy: 0.7023 - val_loss: 0.4430 - val_accuracy: 0.9037\n",
      "\n",
      "Epoch 00023: saving model to model/keypoint_classifier\\keypoint_classifier.hdf5\n",
      "Epoch 24/1000\n",
      "35/35 [==============================] - 0s 1ms/step - loss: 0.7351 - accuracy: 0.7121 - val_loss: 0.4275 - val_accuracy: 0.9092\n",
      "\n",
      "Epoch 00024: saving model to model/keypoint_classifier\\keypoint_classifier.hdf5\n",
      "Epoch 25/1000\n",
      "35/35 [==============================] - 0s 1ms/step - loss: 0.7206 - accuracy: 0.7077 - val_loss: 0.4260 - val_accuracy: 0.9064\n",
      "\n",
      "Epoch 00025: saving model to model/keypoint_classifier\\keypoint_classifier.hdf5\n",
      "Epoch 26/1000\n",
      "35/35 [==============================] - 0s 1ms/step - loss: 0.7149 - accuracy: 0.7134 - val_loss: 0.4167 - val_accuracy: 0.9105\n",
      "\n",
      "Epoch 00026: saving model to model/keypoint_classifier\\keypoint_classifier.hdf5\n",
      "Epoch 27/1000\n",
      "35/35 [==============================] - 0s 1ms/step - loss: 0.7264 - accuracy: 0.7100 - val_loss: 0.4167 - val_accuracy: 0.9133\n",
      "\n",
      "Epoch 00027: saving model to model/keypoint_classifier\\keypoint_classifier.hdf5\n",
      "Epoch 28/1000\n",
      "35/35 [==============================] - 0s 1ms/step - loss: 0.7182 - accuracy: 0.7027 - val_loss: 0.4062 - val_accuracy: 0.9146\n",
      "\n",
      "Epoch 00028: saving model to model/keypoint_classifier\\keypoint_classifier.hdf5\n",
      "Epoch 29/1000\n",
      "35/35 [==============================] - 0s 1ms/step - loss: 0.7044 - accuracy: 0.7055 - val_loss: 0.3976 - val_accuracy: 0.9139\n",
      "\n",
      "Epoch 00029: saving model to model/keypoint_classifier\\keypoint_classifier.hdf5\n",
      "Epoch 30/1000\n",
      "35/35 [==============================] - 0s 1ms/step - loss: 0.6928 - accuracy: 0.7178 - val_loss: 0.3937 - val_accuracy: 0.9194\n",
      "\n",
      "Epoch 00030: saving model to model/keypoint_classifier\\keypoint_classifier.hdf5\n",
      "Epoch 31/1000\n",
      "35/35 [==============================] - 0s 1ms/step - loss: 0.6919 - accuracy: 0.7267 - val_loss: 0.3937 - val_accuracy: 0.9160\n",
      "\n",
      "Epoch 00031: saving model to model/keypoint_classifier\\keypoint_classifier.hdf5\n",
      "Epoch 32/1000\n",
      "35/35 [==============================] - 0s 1ms/step - loss: 0.6893 - accuracy: 0.7276 - val_loss: 0.3830 - val_accuracy: 0.9208\n",
      "\n",
      "Epoch 00032: saving model to model/keypoint_classifier\\keypoint_classifier.hdf5\n",
      "Epoch 33/1000\n",
      "35/35 [==============================] - 0s 1ms/step - loss: 0.6779 - accuracy: 0.7262 - val_loss: 0.3876 - val_accuracy: 0.9221\n",
      "\n",
      "Epoch 00033: saving model to model/keypoint_classifier\\keypoint_classifier.hdf5\n",
      "Epoch 34/1000\n",
      "35/35 [==============================] - 0s 1ms/step - loss: 0.6771 - accuracy: 0.7232 - val_loss: 0.3715 - val_accuracy: 0.9296\n",
      "\n",
      "Epoch 00034: saving model to model/keypoint_classifier\\keypoint_classifier.hdf5\n",
      "Epoch 35/1000\n",
      "35/35 [==============================] - 0s 1ms/step - loss: 0.6813 - accuracy: 0.7276 - val_loss: 0.3819 - val_accuracy: 0.9167\n",
      "\n",
      "Epoch 00035: saving model to model/keypoint_classifier\\keypoint_classifier.hdf5\n",
      "Epoch 36/1000\n",
      "35/35 [==============================] - 0s 1ms/step - loss: 0.6781 - accuracy: 0.7294 - val_loss: 0.3734 - val_accuracy: 0.9228\n",
      "\n",
      "Epoch 00036: saving model to model/keypoint_classifier\\keypoint_classifier.hdf5\n",
      "Epoch 37/1000\n",
      "35/35 [==============================] - 0s 1ms/step - loss: 0.6644 - accuracy: 0.7376 - val_loss: 0.3707 - val_accuracy: 0.9235\n"
     ]
    },
    {
     "name": "stdout",
     "output_type": "stream",
     "text": [
      "\n",
      "Epoch 00037: saving model to model/keypoint_classifier\\keypoint_classifier.hdf5\n",
      "Epoch 38/1000\n",
      "35/35 [==============================] - 0s 1ms/step - loss: 0.6702 - accuracy: 0.7319 - val_loss: 0.3652 - val_accuracy: 0.9228\n",
      "\n",
      "Epoch 00038: saving model to model/keypoint_classifier\\keypoint_classifier.hdf5\n",
      "Epoch 39/1000\n",
      "35/35 [==============================] - 0s 1ms/step - loss: 0.6658 - accuracy: 0.7378 - val_loss: 0.3630 - val_accuracy: 0.9269\n",
      "\n",
      "Epoch 00039: saving model to model/keypoint_classifier\\keypoint_classifier.hdf5\n",
      "Epoch 40/1000\n",
      "35/35 [==============================] - 0s 1ms/step - loss: 0.6534 - accuracy: 0.7426 - val_loss: 0.3568 - val_accuracy: 0.9235\n",
      "\n",
      "Epoch 00040: saving model to model/keypoint_classifier\\keypoint_classifier.hdf5\n",
      "Epoch 41/1000\n",
      "35/35 [==============================] - 0s 1ms/step - loss: 0.6309 - accuracy: 0.7508 - val_loss: 0.3519 - val_accuracy: 0.9235\n",
      "\n",
      "Epoch 00041: saving model to model/keypoint_classifier\\keypoint_classifier.hdf5\n",
      "Epoch 42/1000\n",
      "35/35 [==============================] - 0s 1ms/step - loss: 0.6402 - accuracy: 0.7485 - val_loss: 0.3539 - val_accuracy: 0.9160\n",
      "\n",
      "Epoch 00042: saving model to model/keypoint_classifier\\keypoint_classifier.hdf5\n",
      "Epoch 43/1000\n",
      "35/35 [==============================] - 0s 1ms/step - loss: 0.6284 - accuracy: 0.7424 - val_loss: 0.3453 - val_accuracy: 0.9283\n",
      "\n",
      "Epoch 00043: saving model to model/keypoint_classifier\\keypoint_classifier.hdf5\n",
      "Epoch 44/1000\n",
      "35/35 [==============================] - 0s 1ms/step - loss: 0.6308 - accuracy: 0.7540 - val_loss: 0.3371 - val_accuracy: 0.9276\n",
      "\n",
      "Epoch 00044: saving model to model/keypoint_classifier\\keypoint_classifier.hdf5\n",
      "Epoch 45/1000\n",
      "35/35 [==============================] - 0s 1ms/step - loss: 0.6555 - accuracy: 0.7426 - val_loss: 0.3502 - val_accuracy: 0.9228\n",
      "\n",
      "Epoch 00045: saving model to model/keypoint_classifier\\keypoint_classifier.hdf5\n",
      "Epoch 46/1000\n",
      "35/35 [==============================] - 0s 1ms/step - loss: 0.6415 - accuracy: 0.7497 - val_loss: 0.3378 - val_accuracy: 0.9378\n",
      "\n",
      "Epoch 00046: saving model to model/keypoint_classifier\\keypoint_classifier.hdf5\n",
      "Epoch 47/1000\n",
      "35/35 [==============================] - 0s 1ms/step - loss: 0.6265 - accuracy: 0.7610 - val_loss: 0.3389 - val_accuracy: 0.9317\n",
      "\n",
      "Epoch 00047: saving model to model/keypoint_classifier\\keypoint_classifier.hdf5\n",
      "Epoch 48/1000\n",
      "35/35 [==============================] - 0s 1ms/step - loss: 0.6316 - accuracy: 0.7544 - val_loss: 0.3498 - val_accuracy: 0.9221\n",
      "\n",
      "Epoch 00048: saving model to model/keypoint_classifier\\keypoint_classifier.hdf5\n",
      "Epoch 49/1000\n",
      "35/35 [==============================] - 0s 1ms/step - loss: 0.6074 - accuracy: 0.7601 - val_loss: 0.3322 - val_accuracy: 0.9303\n",
      "\n",
      "Epoch 00049: saving model to model/keypoint_classifier\\keypoint_classifier.hdf5\n",
      "Epoch 50/1000\n",
      "35/35 [==============================] - 0s 1ms/step - loss: 0.6090 - accuracy: 0.7572 - val_loss: 0.3234 - val_accuracy: 0.9303\n",
      "\n",
      "Epoch 00050: saving model to model/keypoint_classifier\\keypoint_classifier.hdf5\n",
      "Epoch 51/1000\n",
      "35/35 [==============================] - 0s 1ms/step - loss: 0.6199 - accuracy: 0.7588 - val_loss: 0.3307 - val_accuracy: 0.9276\n",
      "\n",
      "Epoch 00051: saving model to model/keypoint_classifier\\keypoint_classifier.hdf5\n",
      "Epoch 52/1000\n",
      "35/35 [==============================] - 0s 1ms/step - loss: 0.6118 - accuracy: 0.7645 - val_loss: 0.3213 - val_accuracy: 0.9358\n",
      "\n",
      "Epoch 00052: saving model to model/keypoint_classifier\\keypoint_classifier.hdf5\n",
      "Epoch 53/1000\n",
      "35/35 [==============================] - 0s 1ms/step - loss: 0.6072 - accuracy: 0.7670 - val_loss: 0.3375 - val_accuracy: 0.9221\n",
      "\n",
      "Epoch 00053: saving model to model/keypoint_classifier\\keypoint_classifier.hdf5\n",
      "Epoch 54/1000\n",
      "35/35 [==============================] - 0s 1ms/step - loss: 0.6009 - accuracy: 0.7692 - val_loss: 0.3204 - val_accuracy: 0.9351\n",
      "\n",
      "Epoch 00054: saving model to model/keypoint_classifier\\keypoint_classifier.hdf5\n",
      "Epoch 55/1000\n",
      "35/35 [==============================] - 0s 1ms/step - loss: 0.6184 - accuracy: 0.7649 - val_loss: 0.3266 - val_accuracy: 0.9296\n",
      "\n",
      "Epoch 00055: saving model to model/keypoint_classifier\\keypoint_classifier.hdf5\n",
      "Epoch 56/1000\n",
      "35/35 [==============================] - 0s 1ms/step - loss: 0.6004 - accuracy: 0.7704 - val_loss: 0.3237 - val_accuracy: 0.9324\n",
      "\n",
      "Epoch 00056: saving model to model/keypoint_classifier\\keypoint_classifier.hdf5\n",
      "Epoch 57/1000\n",
      "35/35 [==============================] - 0s 1ms/step - loss: 0.5838 - accuracy: 0.7790 - val_loss: 0.3048 - val_accuracy: 0.9351\n",
      "\n",
      "Epoch 00057: saving model to model/keypoint_classifier\\keypoint_classifier.hdf5\n",
      "Epoch 58/1000\n",
      "35/35 [==============================] - 0s 1ms/step - loss: 0.6044 - accuracy: 0.7686 - val_loss: 0.3114 - val_accuracy: 0.9331\n",
      "\n",
      "Epoch 00058: saving model to model/keypoint_classifier\\keypoint_classifier.hdf5\n",
      "Epoch 59/1000\n",
      "35/35 [==============================] - 0s 1ms/step - loss: 0.5936 - accuracy: 0.7722 - val_loss: 0.3120 - val_accuracy: 0.9324\n",
      "\n",
      "Epoch 00059: saving model to model/keypoint_classifier\\keypoint_classifier.hdf5\n",
      "Epoch 60/1000\n",
      "35/35 [==============================] - 0s 1ms/step - loss: 0.5998 - accuracy: 0.7674 - val_loss: 0.3203 - val_accuracy: 0.9242\n",
      "\n",
      "Epoch 00060: saving model to model/keypoint_classifier\\keypoint_classifier.hdf5\n",
      "Epoch 61/1000\n",
      "35/35 [==============================] - 0s 1ms/step - loss: 0.5813 - accuracy: 0.7800 - val_loss: 0.3080 - val_accuracy: 0.9296\n",
      "\n",
      "Epoch 00061: saving model to model/keypoint_classifier\\keypoint_classifier.hdf5\n",
      "Epoch 62/1000\n",
      "35/35 [==============================] - 0s 1ms/step - loss: 0.5887 - accuracy: 0.7665 - val_loss: 0.3146 - val_accuracy: 0.9262\n",
      "\n",
      "Epoch 00062: saving model to model/keypoint_classifier\\keypoint_classifier.hdf5\n",
      "Epoch 63/1000\n",
      "35/35 [==============================] - 0s 1ms/step - loss: 0.5872 - accuracy: 0.7768 - val_loss: 0.3104 - val_accuracy: 0.9283\n",
      "\n",
      "Epoch 00063: saving model to model/keypoint_classifier\\keypoint_classifier.hdf5\n",
      "Epoch 64/1000\n",
      "35/35 [==============================] - 0s 1ms/step - loss: 0.5839 - accuracy: 0.7825 - val_loss: 0.2991 - val_accuracy: 0.9337\n",
      "\n",
      "Epoch 00064: saving model to model/keypoint_classifier\\keypoint_classifier.hdf5\n",
      "Epoch 65/1000\n",
      "35/35 [==============================] - 0s 1ms/step - loss: 0.5815 - accuracy: 0.7754 - val_loss: 0.3009 - val_accuracy: 0.9372\n",
      "\n",
      "Epoch 00065: saving model to model/keypoint_classifier\\keypoint_classifier.hdf5\n",
      "Epoch 66/1000\n",
      "35/35 [==============================] - 0s 1ms/step - loss: 0.5810 - accuracy: 0.7715 - val_loss: 0.2995 - val_accuracy: 0.9344\n",
      "\n",
      "Epoch 00066: saving model to model/keypoint_classifier\\keypoint_classifier.hdf5\n",
      "Epoch 67/1000\n",
      "35/35 [==============================] - 0s 1ms/step - loss: 0.5639 - accuracy: 0.7888 - val_loss: 0.3024 - val_accuracy: 0.9249\n",
      "\n",
      "Epoch 00067: saving model to model/keypoint_classifier\\keypoint_classifier.hdf5\n",
      "Epoch 68/1000\n",
      "35/35 [==============================] - 0s 1ms/step - loss: 0.5682 - accuracy: 0.7806 - val_loss: 0.2922 - val_accuracy: 0.9317\n",
      "\n",
      "Epoch 00068: saving model to model/keypoint_classifier\\keypoint_classifier.hdf5\n",
      "Epoch 69/1000\n",
      "35/35 [==============================] - 0s 1ms/step - loss: 0.5648 - accuracy: 0.7820 - val_loss: 0.2925 - val_accuracy: 0.9344\n",
      "\n",
      "Epoch 00069: saving model to model/keypoint_classifier\\keypoint_classifier.hdf5\n",
      "Epoch 70/1000\n",
      "35/35 [==============================] - 0s 1ms/step - loss: 0.5573 - accuracy: 0.7838 - val_loss: 0.3004 - val_accuracy: 0.9235\n",
      "\n",
      "Epoch 00070: saving model to model/keypoint_classifier\\keypoint_classifier.hdf5\n",
      "Epoch 71/1000\n",
      "35/35 [==============================] - 0s 1ms/step - loss: 0.5739 - accuracy: 0.7818 - val_loss: 0.2941 - val_accuracy: 0.9351\n",
      "\n",
      "Epoch 00071: saving model to model/keypoint_classifier\\keypoint_classifier.hdf5\n",
      "Epoch 72/1000\n",
      "35/35 [==============================] - 0s 1ms/step - loss: 0.5496 - accuracy: 0.7850 - val_loss: 0.2987 - val_accuracy: 0.9255\n",
      "\n",
      "Epoch 00072: saving model to model/keypoint_classifier\\keypoint_classifier.hdf5\n",
      "Epoch 73/1000\n",
      "35/35 [==============================] - 0s 1ms/step - loss: 0.5710 - accuracy: 0.7888 - val_loss: 0.2917 - val_accuracy: 0.9290\n",
      "\n",
      "Epoch 00073: saving model to model/keypoint_classifier\\keypoint_classifier.hdf5\n",
      "Epoch 74/1000\n"
     ]
    },
    {
     "name": "stdout",
     "output_type": "stream",
     "text": [
      "35/35 [==============================] - 0s 1ms/step - loss: 0.5526 - accuracy: 0.7916 - val_loss: 0.2899 - val_accuracy: 0.9283\n",
      "\n",
      "Epoch 00074: saving model to model/keypoint_classifier\\keypoint_classifier.hdf5\n",
      "Epoch 75/1000\n",
      "35/35 [==============================] - 0s 1ms/step - loss: 0.5556 - accuracy: 0.7938 - val_loss: 0.2926 - val_accuracy: 0.9276\n",
      "\n",
      "Epoch 00075: saving model to model/keypoint_classifier\\keypoint_classifier.hdf5\n",
      "Epoch 76/1000\n",
      "35/35 [==============================] - 0s 1ms/step - loss: 0.5415 - accuracy: 0.7913 - val_loss: 0.3006 - val_accuracy: 0.9208\n",
      "\n",
      "Epoch 00076: saving model to model/keypoint_classifier\\keypoint_classifier.hdf5\n",
      "Epoch 77/1000\n",
      "35/35 [==============================] - 0s 1ms/step - loss: 0.5599 - accuracy: 0.7861 - val_loss: 0.3020 - val_accuracy: 0.9228\n",
      "\n",
      "Epoch 00077: saving model to model/keypoint_classifier\\keypoint_classifier.hdf5\n",
      "Epoch 78/1000\n",
      "35/35 [==============================] - 0s 1ms/step - loss: 0.5584 - accuracy: 0.7925 - val_loss: 0.2920 - val_accuracy: 0.9269\n",
      "\n",
      "Epoch 00078: saving model to model/keypoint_classifier\\keypoint_classifier.hdf5\n",
      "Epoch 79/1000\n",
      "35/35 [==============================] - 0s 1ms/step - loss: 0.5496 - accuracy: 0.7838 - val_loss: 0.2806 - val_accuracy: 0.9351\n",
      "\n",
      "Epoch 00079: saving model to model/keypoint_classifier\\keypoint_classifier.hdf5\n",
      "Epoch 80/1000\n",
      "35/35 [==============================] - 0s 1ms/step - loss: 0.5705 - accuracy: 0.7770 - val_loss: 0.2888 - val_accuracy: 0.9358\n",
      "\n",
      "Epoch 00080: saving model to model/keypoint_classifier\\keypoint_classifier.hdf5\n",
      "Epoch 81/1000\n",
      "35/35 [==============================] - 0s 1ms/step - loss: 0.5399 - accuracy: 0.8023 - val_loss: 0.2867 - val_accuracy: 0.9235\n",
      "\n",
      "Epoch 00081: saving model to model/keypoint_classifier\\keypoint_classifier.hdf5\n",
      "Epoch 82/1000\n",
      "35/35 [==============================] - 0s 1ms/step - loss: 0.5107 - accuracy: 0.8059 - val_loss: 0.2785 - val_accuracy: 0.9303\n",
      "\n",
      "Epoch 00082: saving model to model/keypoint_classifier\\keypoint_classifier.hdf5\n",
      "Epoch 83/1000\n",
      "35/35 [==============================] - 0s 1ms/step - loss: 0.5323 - accuracy: 0.8027 - val_loss: 0.2822 - val_accuracy: 0.9310\n",
      "\n",
      "Epoch 00083: saving model to model/keypoint_classifier\\keypoint_classifier.hdf5\n",
      "Epoch 84/1000\n",
      "35/35 [==============================] - 0s 1ms/step - loss: 0.5296 - accuracy: 0.7923 - val_loss: 0.2834 - val_accuracy: 0.9283\n",
      "\n",
      "Epoch 00084: saving model to model/keypoint_classifier\\keypoint_classifier.hdf5\n",
      "Epoch 85/1000\n",
      "35/35 [==============================] - 0s 1ms/step - loss: 0.5492 - accuracy: 0.7900 - val_loss: 0.2780 - val_accuracy: 0.9413\n",
      "\n",
      "Epoch 00085: saving model to model/keypoint_classifier\\keypoint_classifier.hdf5\n",
      "Epoch 86/1000\n",
      "35/35 [==============================] - 0s 1ms/step - loss: 0.5349 - accuracy: 0.7973 - val_loss: 0.2817 - val_accuracy: 0.9344\n",
      "\n",
      "Epoch 00086: saving model to model/keypoint_classifier\\keypoint_classifier.hdf5\n",
      "Epoch 87/1000\n",
      "35/35 [==============================] - 0s 1ms/step - loss: 0.5586 - accuracy: 0.7911 - val_loss: 0.2866 - val_accuracy: 0.9344\n",
      "\n",
      "Epoch 00087: saving model to model/keypoint_classifier\\keypoint_classifier.hdf5\n",
      "Epoch 88/1000\n",
      "35/35 [==============================] - 0s 1ms/step - loss: 0.5684 - accuracy: 0.7879 - val_loss: 0.2914 - val_accuracy: 0.9317\n",
      "\n",
      "Epoch 00088: saving model to model/keypoint_classifier\\keypoint_classifier.hdf5\n",
      "Epoch 89/1000\n",
      "35/35 [==============================] - 0s 1ms/step - loss: 0.5205 - accuracy: 0.8089 - val_loss: 0.2839 - val_accuracy: 0.9337\n",
      "\n",
      "Epoch 00089: saving model to model/keypoint_classifier\\keypoint_classifier.hdf5\n",
      "Epoch 90/1000\n",
      "35/35 [==============================] - 0s 1ms/step - loss: 0.5527 - accuracy: 0.7973 - val_loss: 0.2905 - val_accuracy: 0.9269\n",
      "\n",
      "Epoch 00090: saving model to model/keypoint_classifier\\keypoint_classifier.hdf5\n",
      "Epoch 91/1000\n",
      "35/35 [==============================] - 0s 1ms/step - loss: 0.5458 - accuracy: 0.7888 - val_loss: 0.2847 - val_accuracy: 0.9351\n",
      "\n",
      "Epoch 00091: saving model to model/keypoint_classifier\\keypoint_classifier.hdf5\n",
      "Epoch 92/1000\n",
      "35/35 [==============================] - 0s 1ms/step - loss: 0.5335 - accuracy: 0.7989 - val_loss: 0.2876 - val_accuracy: 0.9303\n",
      "\n",
      "Epoch 00092: saving model to model/keypoint_classifier\\keypoint_classifier.hdf5\n",
      "Epoch 93/1000\n",
      "35/35 [==============================] - 0s 2ms/step - loss: 0.5437 - accuracy: 0.7932 - val_loss: 0.2812 - val_accuracy: 0.9337\n",
      "\n",
      "Epoch 00093: saving model to model/keypoint_classifier\\keypoint_classifier.hdf5\n",
      "Epoch 94/1000\n",
      "35/35 [==============================] - 0s 1ms/step - loss: 0.5158 - accuracy: 0.8062 - val_loss: 0.2779 - val_accuracy: 0.9351\n",
      "\n",
      "Epoch 00094: saving model to model/keypoint_classifier\\keypoint_classifier.hdf5\n",
      "Epoch 95/1000\n",
      "35/35 [==============================] - 0s 1ms/step - loss: 0.5221 - accuracy: 0.8096 - val_loss: 0.2832 - val_accuracy: 0.9283\n",
      "\n",
      "Epoch 00095: saving model to model/keypoint_classifier\\keypoint_classifier.hdf5\n",
      "Epoch 96/1000\n",
      "35/35 [==============================] - 0s 1ms/step - loss: 0.5309 - accuracy: 0.8011 - val_loss: 0.2824 - val_accuracy: 0.9303\n",
      "\n",
      "Epoch 00096: saving model to model/keypoint_classifier\\keypoint_classifier.hdf5\n",
      "Epoch 97/1000\n",
      "35/35 [==============================] - 0s 1ms/step - loss: 0.5159 - accuracy: 0.8018 - val_loss: 0.2809 - val_accuracy: 0.9296\n",
      "\n",
      "Epoch 00097: saving model to model/keypoint_classifier\\keypoint_classifier.hdf5\n",
      "Epoch 98/1000\n",
      "35/35 [==============================] - 0s 1ms/step - loss: 0.5180 - accuracy: 0.8080 - val_loss: 0.2661 - val_accuracy: 0.9372\n",
      "\n",
      "Epoch 00098: saving model to model/keypoint_classifier\\keypoint_classifier.hdf5\n",
      "Epoch 99/1000\n",
      "35/35 [==============================] - 0s 1ms/step - loss: 0.5215 - accuracy: 0.8048 - val_loss: 0.2734 - val_accuracy: 0.9303\n",
      "\n",
      "Epoch 00099: saving model to model/keypoint_classifier\\keypoint_classifier.hdf5\n",
      "Epoch 100/1000\n",
      "35/35 [==============================] - 0s 1ms/step - loss: 0.5198 - accuracy: 0.8007 - val_loss: 0.2800 - val_accuracy: 0.9276\n",
      "\n",
      "Epoch 00100: saving model to model/keypoint_classifier\\keypoint_classifier.hdf5\n",
      "Epoch 101/1000\n",
      "35/35 [==============================] - 0s 1ms/step - loss: 0.5368 - accuracy: 0.7989 - val_loss: 0.2897 - val_accuracy: 0.9214\n",
      "\n",
      "Epoch 00101: saving model to model/keypoint_classifier\\keypoint_classifier.hdf5\n",
      "Epoch 102/1000\n",
      "35/35 [==============================] - 0s 1ms/step - loss: 0.5129 - accuracy: 0.8148 - val_loss: 0.2739 - val_accuracy: 0.9344\n",
      "\n",
      "Epoch 00102: saving model to model/keypoint_classifier\\keypoint_classifier.hdf5\n",
      "Epoch 103/1000\n",
      "35/35 [==============================] - 0s 1ms/step - loss: 0.5214 - accuracy: 0.7991 - val_loss: 0.2712 - val_accuracy: 0.9331\n",
      "\n",
      "Epoch 00103: saving model to model/keypoint_classifier\\keypoint_classifier.hdf5\n",
      "Epoch 104/1000\n",
      "35/35 [==============================] - 0s 2ms/step - loss: 0.5101 - accuracy: 0.8075 - val_loss: 0.2761 - val_accuracy: 0.9303\n",
      "\n",
      "Epoch 00104: saving model to model/keypoint_classifier\\keypoint_classifier.hdf5\n",
      "Epoch 105/1000\n",
      "35/35 [==============================] - 0s 2ms/step - loss: 0.5119 - accuracy: 0.8084 - val_loss: 0.2858 - val_accuracy: 0.9262\n",
      "\n",
      "Epoch 00105: saving model to model/keypoint_classifier\\keypoint_classifier.hdf5\n",
      "Epoch 106/1000\n",
      "35/35 [==============================] - 0s 2ms/step - loss: 0.5150 - accuracy: 0.8089 - val_loss: 0.2771 - val_accuracy: 0.9276\n",
      "\n",
      "Epoch 00106: saving model to model/keypoint_classifier\\keypoint_classifier.hdf5\n",
      "Epoch 107/1000\n",
      "35/35 [==============================] - 0s 2ms/step - loss: 0.5122 - accuracy: 0.8103 - val_loss: 0.2781 - val_accuracy: 0.9303\n",
      "\n",
      "Epoch 00107: saving model to model/keypoint_classifier\\keypoint_classifier.hdf5\n",
      "Epoch 108/1000\n",
      "35/35 [==============================] - 0s 1ms/step - loss: 0.5027 - accuracy: 0.8121 - val_loss: 0.2730 - val_accuracy: 0.9337\n",
      "\n",
      "Epoch 00108: saving model to model/keypoint_classifier\\keypoint_classifier.hdf5\n",
      "Epoch 109/1000\n",
      "35/35 [==============================] - 0s 1ms/step - loss: 0.5281 - accuracy: 0.8064 - val_loss: 0.2817 - val_accuracy: 0.9303\n",
      "\n",
      "Epoch 00109: saving model to model/keypoint_classifier\\keypoint_classifier.hdf5\n",
      "Epoch 110/1000\n",
      "35/35 [==============================] - 0s 1ms/step - loss: 0.5035 - accuracy: 0.8148 - val_loss: 0.2812 - val_accuracy: 0.9249\n"
     ]
    },
    {
     "name": "stdout",
     "output_type": "stream",
     "text": [
      "\n",
      "Epoch 00110: saving model to model/keypoint_classifier\\keypoint_classifier.hdf5\n",
      "Epoch 111/1000\n",
      "35/35 [==============================] - 0s 1ms/step - loss: 0.5109 - accuracy: 0.8139 - val_loss: 0.2801 - val_accuracy: 0.9296\n",
      "\n",
      "Epoch 00111: saving model to model/keypoint_classifier\\keypoint_classifier.hdf5\n",
      "Epoch 112/1000\n",
      "35/35 [==============================] - 0s 1ms/step - loss: 0.5001 - accuracy: 0.8118 - val_loss: 0.2678 - val_accuracy: 0.9358\n",
      "\n",
      "Epoch 00112: saving model to model/keypoint_classifier\\keypoint_classifier.hdf5\n",
      "Epoch 113/1000\n",
      "35/35 [==============================] - 0s 1ms/step - loss: 0.5257 - accuracy: 0.8091 - val_loss: 0.2756 - val_accuracy: 0.9344\n",
      "\n",
      "Epoch 00113: saving model to model/keypoint_classifier\\keypoint_classifier.hdf5\n",
      "Epoch 114/1000\n",
      "35/35 [==============================] - 0s 2ms/step - loss: 0.5022 - accuracy: 0.8112 - val_loss: 0.2654 - val_accuracy: 0.9358\n",
      "\n",
      "Epoch 00114: saving model to model/keypoint_classifier\\keypoint_classifier.hdf5\n",
      "Epoch 115/1000\n",
      "35/35 [==============================] - 0s 2ms/step - loss: 0.4989 - accuracy: 0.8155 - val_loss: 0.2701 - val_accuracy: 0.9351\n",
      "\n",
      "Epoch 00115: saving model to model/keypoint_classifier\\keypoint_classifier.hdf5\n",
      "Epoch 116/1000\n",
      "35/35 [==============================] - 0s 1ms/step - loss: 0.5286 - accuracy: 0.7982 - val_loss: 0.2796 - val_accuracy: 0.9255\n",
      "\n",
      "Epoch 00116: saving model to model/keypoint_classifier\\keypoint_classifier.hdf5\n",
      "Epoch 117/1000\n",
      "35/35 [==============================] - 0s 1ms/step - loss: 0.5031 - accuracy: 0.8105 - val_loss: 0.2672 - val_accuracy: 0.9372\n",
      "\n",
      "Epoch 00117: saving model to model/keypoint_classifier\\keypoint_classifier.hdf5\n",
      "Epoch 118/1000\n",
      "35/35 [==============================] - 0s 1ms/step - loss: 0.5178 - accuracy: 0.8034 - val_loss: 0.2727 - val_accuracy: 0.9276\n",
      "\n",
      "Epoch 00118: saving model to model/keypoint_classifier\\keypoint_classifier.hdf5\n",
      "Epoch 119/1000\n",
      "35/35 [==============================] - 0s 1ms/step - loss: 0.5166 - accuracy: 0.8098 - val_loss: 0.2745 - val_accuracy: 0.9331\n",
      "\n",
      "Epoch 00119: saving model to model/keypoint_classifier\\keypoint_classifier.hdf5\n",
      "Epoch 120/1000\n",
      "35/35 [==============================] - 0s 1ms/step - loss: 0.4941 - accuracy: 0.8144 - val_loss: 0.2545 - val_accuracy: 0.9454\n",
      "\n",
      "Epoch 00120: saving model to model/keypoint_classifier\\keypoint_classifier.hdf5\n",
      "Epoch 121/1000\n",
      "35/35 [==============================] - 0s 1ms/step - loss: 0.5164 - accuracy: 0.8091 - val_loss: 0.2706 - val_accuracy: 0.9317\n",
      "\n",
      "Epoch 00121: saving model to model/keypoint_classifier\\keypoint_classifier.hdf5\n",
      "Epoch 122/1000\n",
      "35/35 [==============================] - 0s 1ms/step - loss: 0.5243 - accuracy: 0.8073 - val_loss: 0.2732 - val_accuracy: 0.9303\n",
      "\n",
      "Epoch 00122: saving model to model/keypoint_classifier\\keypoint_classifier.hdf5\n",
      "Epoch 123/1000\n",
      "35/35 [==============================] - 0s 1ms/step - loss: 0.5104 - accuracy: 0.8146 - val_loss: 0.2578 - val_accuracy: 0.9399\n",
      "\n",
      "Epoch 00123: saving model to model/keypoint_classifier\\keypoint_classifier.hdf5\n",
      "Epoch 124/1000\n",
      "35/35 [==============================] - 0s 1ms/step - loss: 0.5079 - accuracy: 0.8075 - val_loss: 0.2649 - val_accuracy: 0.9372\n",
      "\n",
      "Epoch 00124: saving model to model/keypoint_classifier\\keypoint_classifier.hdf5\n",
      "Epoch 125/1000\n",
      "35/35 [==============================] - 0s 1ms/step - loss: 0.4919 - accuracy: 0.8146 - val_loss: 0.2572 - val_accuracy: 0.9406\n",
      "\n",
      "Epoch 00125: saving model to model/keypoint_classifier\\keypoint_classifier.hdf5\n",
      "Epoch 126/1000\n",
      "35/35 [==============================] - 0s 1ms/step - loss: 0.5137 - accuracy: 0.8052 - val_loss: 0.2704 - val_accuracy: 0.9303\n",
      "\n",
      "Epoch 00126: saving model to model/keypoint_classifier\\keypoint_classifier.hdf5\n",
      "Epoch 127/1000\n",
      "35/35 [==============================] - 0s 1ms/step - loss: 0.4908 - accuracy: 0.8175 - val_loss: 0.2552 - val_accuracy: 0.9406\n",
      "\n",
      "Epoch 00127: saving model to model/keypoint_classifier\\keypoint_classifier.hdf5\n",
      "Epoch 128/1000\n",
      "35/35 [==============================] - 0s 1ms/step - loss: 0.4956 - accuracy: 0.8091 - val_loss: 0.2647 - val_accuracy: 0.9365\n",
      "\n",
      "Epoch 00128: saving model to model/keypoint_classifier\\keypoint_classifier.hdf5\n",
      "Epoch 129/1000\n",
      "35/35 [==============================] - 0s 1ms/step - loss: 0.4827 - accuracy: 0.8214 - val_loss: 0.2608 - val_accuracy: 0.9406\n",
      "\n",
      "Epoch 00129: saving model to model/keypoint_classifier\\keypoint_classifier.hdf5\n",
      "Epoch 130/1000\n",
      "35/35 [==============================] - 0s 1ms/step - loss: 0.4856 - accuracy: 0.8166 - val_loss: 0.2608 - val_accuracy: 0.9372\n",
      "\n",
      "Epoch 00130: saving model to model/keypoint_classifier\\keypoint_classifier.hdf5\n",
      "Epoch 131/1000\n",
      "35/35 [==============================] - 0s 1ms/step - loss: 0.4934 - accuracy: 0.8212 - val_loss: 0.2698 - val_accuracy: 0.9344\n",
      "\n",
      "Epoch 00131: saving model to model/keypoint_classifier\\keypoint_classifier.hdf5\n",
      "Epoch 132/1000\n",
      "35/35 [==============================] - 0s 1ms/step - loss: 0.4934 - accuracy: 0.8105 - val_loss: 0.2555 - val_accuracy: 0.9406\n",
      "\n",
      "Epoch 00132: saving model to model/keypoint_classifier\\keypoint_classifier.hdf5\n",
      "Epoch 133/1000\n",
      "35/35 [==============================] - 0s 1ms/step - loss: 0.4942 - accuracy: 0.8121 - val_loss: 0.2563 - val_accuracy: 0.9406\n",
      "\n",
      "Epoch 00133: saving model to model/keypoint_classifier\\keypoint_classifier.hdf5\n",
      "Epoch 134/1000\n",
      "35/35 [==============================] - 0s 1ms/step - loss: 0.4981 - accuracy: 0.8178 - val_loss: 0.2610 - val_accuracy: 0.9365\n",
      "\n",
      "Epoch 00134: saving model to model/keypoint_classifier\\keypoint_classifier.hdf5\n",
      "Epoch 135/1000\n",
      "35/35 [==============================] - 0s 1ms/step - loss: 0.5215 - accuracy: 0.8050 - val_loss: 0.2780 - val_accuracy: 0.9228\n",
      "\n",
      "Epoch 00135: saving model to model/keypoint_classifier\\keypoint_classifier.hdf5\n",
      "Epoch 136/1000\n",
      "35/35 [==============================] - 0s 1ms/step - loss: 0.4909 - accuracy: 0.8180 - val_loss: 0.2662 - val_accuracy: 0.9365\n",
      "\n",
      "Epoch 00136: saving model to model/keypoint_classifier\\keypoint_classifier.hdf5\n",
      "Epoch 137/1000\n",
      "35/35 [==============================] - 0s 1ms/step - loss: 0.4904 - accuracy: 0.8210 - val_loss: 0.2653 - val_accuracy: 0.9296\n",
      "\n",
      "Epoch 00137: saving model to model/keypoint_classifier\\keypoint_classifier.hdf5\n",
      "Epoch 138/1000\n",
      "35/35 [==============================] - 0s 1ms/step - loss: 0.4909 - accuracy: 0.8203 - val_loss: 0.2557 - val_accuracy: 0.9419\n",
      "\n",
      "Epoch 00138: saving model to model/keypoint_classifier\\keypoint_classifier.hdf5\n",
      "Epoch 139/1000\n",
      "35/35 [==============================] - 0s 1ms/step - loss: 0.4769 - accuracy: 0.8162 - val_loss: 0.2618 - val_accuracy: 0.9358\n",
      "\n",
      "Epoch 00139: saving model to model/keypoint_classifier\\keypoint_classifier.hdf5\n",
      "Epoch 140/1000\n",
      "35/35 [==============================] - 0s 1ms/step - loss: 0.4845 - accuracy: 0.8162 - val_loss: 0.2586 - val_accuracy: 0.9399\n",
      "\n",
      "Epoch 00140: saving model to model/keypoint_classifier\\keypoint_classifier.hdf5\n",
      "Epoch 00140: early stopping\n"
     ]
    },
    {
     "data": {
      "text/plain": [
       "<tensorflow.python.keras.callbacks.History at 0x1eeb4ccd430>"
      ]
     },
     "execution_count": 12,
     "metadata": {},
     "output_type": "execute_result"
    }
   ],
   "source": [
    "model.fit(\n",
    "    X_train,\n",
    "    y_train,\n",
    "    epochs=1000,\n",
    "    batch_size=128,\n",
    "    validation_data=(X_test, y_test),\n",
    "    callbacks=[cp_callback, es_callback]\n",
    ")"
   ]
  },
  {
   "cell_type": "code",
   "execution_count": 13,
   "metadata": {
    "colab": {
     "base_uri": "https://localhost:8080/"
    },
    "id": "pxvb2Y299hE3",
    "outputId": "59eb3185-2e37-4b9e-bc9d-ab1b8ac29b7f"
   },
   "outputs": [
    {
     "name": "stdout",
     "output_type": "stream",
     "text": [
      "12/12 [==============================] - 0s 546us/step - loss: 0.2586 - accuracy: 0.9399\n"
     ]
    }
   ],
   "source": [
    "# Model evaluation\n",
    "val_loss, val_acc = model.evaluate(X_test, y_test, batch_size=128)"
   ]
  },
  {
   "cell_type": "code",
   "execution_count": 14,
   "metadata": {
    "id": "RBkmDeUW9hE4"
   },
   "outputs": [],
   "source": [
    "# Loading the saved model\n",
    "model = tf.keras.models.load_model(model_save_path)"
   ]
  },
  {
   "cell_type": "code",
   "execution_count": 15,
   "metadata": {
    "colab": {
     "base_uri": "https://localhost:8080/"
    },
    "id": "tFz9Tb0I9hE4",
    "outputId": "1c3b3528-54ae-4ee2-ab04-77429211cbef"
   },
   "outputs": [
    {
     "name": "stdout",
     "output_type": "stream",
     "text": [
      "[2.3057997e-02 8.8740475e-02 8.8813692e-01 3.5643723e-05 2.8849727e-05\n",
      " 6.9499592e-08]\n",
      "2\n"
     ]
    }
   ],
   "source": [
    "# Inference test\n",
    "predict_result = model.predict(np.array([X_test[0]]))\n",
    "print(np.squeeze(predict_result))\n",
    "print(np.argmax(np.squeeze(predict_result)))"
   ]
  },
  {
   "cell_type": "markdown",
   "metadata": {
    "id": "S3U4yNWx9hE4"
   },
   "source": [
    "# Confusion matrix"
   ]
  },
  {
   "cell_type": "code",
   "execution_count": 16,
   "metadata": {
    "colab": {
     "base_uri": "https://localhost:8080/",
     "height": 582
    },
    "id": "AP1V6SCk9hE5",
    "outputId": "08e41a80-7a4a-4619-8125-ecc371368d19"
   },
   "outputs": [
    {
     "data": {
      "image/png": "[encoded data removed]",
      "text/plain": [
       "<Figure size 504x432 with 2 Axes>"
      ]
     },
     "metadata": {
      "needs_background": "light"
     },
     "output_type": "display_data"
    },
    {
     "name": "stdout",
     "output_type": "stream",
     "text": [
      "Classification Report\n",
      "              precision    recall  f1-score   support\n",
      "\n",
      "           0       0.97      0.99      0.98       400\n",
      "           1       1.00      0.82      0.90       385\n",
      "           2       0.82      0.97      0.89       319\n",
      "           3       1.00      1.00      1.00        93\n",
      "           4       0.96      1.00      0.98       266\n",
      "           5       0.00      0.00      0.00         1\n",
      "\n",
      "    accuracy                           0.94      1464\n",
      "   macro avg       0.79      0.79      0.79      1464\n",
      "weighted avg       0.95      0.94      0.94      1464\n",
      "\n"
     ]
    },
    {
     "name": "stderr",
     "output_type": "stream",
     "text": [
      "C:\\Users\\offic\\anaconda3\\envs\\py39\\lib\\site-packages\\sklearn\\metrics\\_classification.py:1248: UndefinedMetricWarning: Precision and F-score are ill-defined and being set to 0.0 in labels with no predicted samples. Use `zero_division` parameter to control this behavior.\n",
      "  _warn_prf(average, modifier, msg_start, len(result))\n",
      "C:\\Users\\offic\\anaconda3\\envs\\py39\\lib\\site-packages\\sklearn\\metrics\\_classification.py:1248: UndefinedMetricWarning: Precision and F-score are ill-defined and being set to 0.0 in labels with no predicted samples. Use `zero_division` parameter to control this behavior.\n",
      "  _warn_prf(average, modifier, msg_start, len(result))\n",
      "C:\\Users\\offic\\anaconda3\\envs\\py39\\lib\\site-packages\\sklearn\\metrics\\_classification.py:1248: UndefinedMetricWarning: Precision and F-score are ill-defined and being set to 0.0 in labels with no predicted samples. Use `zero_division` parameter to control this behavior.\n",
      "  _warn_prf(average, modifier, msg_start, len(result))\n"
     ]
    }
   ],
   "source": [
    "import pandas as pd\n",
    "import seaborn as sns\n",
    "import matplotlib.pyplot as plt\n",
    "from sklearn.metrics import confusion_matrix, classification_report\n",
    "\n",
    "def print_confusion_matrix(y_true, y_pred, report=True):\n",
    "    labels = sorted(list(set(y_true)))\n",
    "    cmx_data = confusion_matrix(y_true, y_pred, labels=labels)\n",
    "    \n",
    "    df_cmx = pd.DataFrame(cmx_data, index=labels, columns=labels)\n",
    " \n",
    "    fig, ax = plt.subplots(figsize=(7, 6))\n",
    "    sns.heatmap(df_cmx, annot=True, fmt='g' ,square=False)\n",
    "    ax.set_ylim(len(set(y_true)), 0)\n",
    "    plt.show()\n",
    "    \n",
    "    if report:\n",
    "        print('Classification Report')\n",
    "        print(classification_report(y_test, y_pred))\n",
    "\n",
    "Y_pred = model.predict(X_test)\n",
    "y_pred = np.argmax(Y_pred, axis=1)\n",
    "\n",
    "print_confusion_matrix(y_test, y_pred)"
   ]
  },
  {
   "cell_type": "markdown",
   "metadata": {
    "id": "FNP6aqzc9hE5"
   },
   "source": [
    "# Convert to model for Tensorflow-Lite"
   ]
  },
  {
   "cell_type": "code",
   "execution_count": 17,
   "metadata": {
    "id": "ODjnYyld9hE6"
   },
   "outputs": [],
   "source": [
    "# Save as a model dedicated to inference\n",
    "model.save(model_save_path, include_optimizer=False)"
   ]
  },
  {
   "cell_type": "code",
   "execution_count": 18,
   "metadata": {
    "colab": {
     "base_uri": "https://localhost:8080/"
    },
    "id": "zRfuK8Y59hE6",
    "outputId": "a4ca585c-b5d5-4244-8291-8674063209bb"
   },
   "outputs": [
    {
     "name": "stdout",
     "output_type": "stream",
     "text": [
      "INFO:tensorflow:Assets written to: C:\\Users\\offic\\AppData\\Local\\Temp\\tmprn4kjmpq\\assets\n"
     ]
    },
    {
     "data": {
      "text/plain": [
       "6448"
      ]
     },
     "execution_count": 18,
     "metadata": {},
     "output_type": "execute_result"
    }
   ],
   "source": [
    "# Transform model (quantization)\n",
    "\n",
    "converter = tf.lite.TFLiteConverter.from_keras_model(model)\n",
    "converter.optimizations = [tf.lite.Optimize.DEFAULT]\n",
    "tflite_quantized_model = converter.convert()\n",
    "\n",
    "open(tflite_save_path, 'wb').write(tflite_quantized_model)"
   ]
  },
  {
   "cell_type": "markdown",
   "metadata": {
    "id": "CHBPBXdx9hE6"
   },
   "source": [
    "# Inference test"
   ]
  },
  {
   "cell_type": "code",
   "execution_count": 19,
   "metadata": {
    "id": "mGAzLocO9hE7"
   },
   "outputs": [],
   "source": [
    "interpreter = tf.lite.Interpreter(model_path=tflite_save_path)\n",
    "interpreter.allocate_tensors()"
   ]
  },
  {
   "cell_type": "code",
   "execution_count": 20,
   "metadata": {
    "id": "oQuDK8YS9hE7"
   },
   "outputs": [],
   "source": [
    "# Get I / O tensor\n",
    "input_details = interpreter.get_input_details()\n",
    "output_details = interpreter.get_output_details()"
   ]
  },
  {
   "cell_type": "code",
   "execution_count": 21,
   "metadata": {
    "id": "2_ixAf_l9hE7"
   },
   "outputs": [],
   "source": [
    "interpreter.set_tensor(input_details[0]['index'], np.array([X_test[0]]))"
   ]
  },
  {
   "cell_type": "code",
   "execution_count": 22,
   "metadata": {
    "colab": {
     "base_uri": "https://localhost:8080/"
    },
    "id": "s4FoAnuc9hE7",
    "outputId": "91f18257-8d8b-4ef3-c558-e9b5f94fabbf",
    "scrolled": true
   },
   "outputs": [
    {
     "name": "stdout",
     "output_type": "stream",
     "text": [
      "Wall time: 0 ns\n"
     ]
    }
   ],
   "source": [
    "%%time\n",
    "# Inference implementation\n",
    "interpreter.invoke()\n",
    "tflite_results = interpreter.get_tensor(output_details[0]['index'])"
   ]
  },
  {
   "cell_type": "code",
   "execution_count": 23,
   "metadata": {
    "colab": {
     "base_uri": "https://localhost:8080/"
    },
    "id": "vONjp19J9hE8",
    "outputId": "77205e24-fd00-42c4-f7b6-e06e527c2cba"
   },
   "outputs": [
    {
     "name": "stdout",
     "output_type": "stream",
     "text": [
      "[2.3057979e-02 8.8740557e-02 8.8813686e-01 3.5643756e-05 2.8849754e-05\n",
      " 6.9499592e-08]\n",
      "2\n"
     ]
    }
   ],
   "source": [
    "print(np.squeeze(tflite_results))\n",
    "print(np.argmax(np.squeeze(tflite_results)))"
   ]
  }
 ],
 "metadata": {
  "accelerator": "GPU",
  "colab": {
   "collapsed_sections": [],
   "name": "keypoint_classification_EN.ipynb",
   "provenance": [],
   "toc_visible": true
  },
  "kernelspec": {
   "display_name": "Python 3",
   "language": "python",
   "name": "python3"
  },
  "language_info": {
   "codemirror_mode": {
    "name": "ipython",
    "version": 3
   },
   "file_extension": ".py",
   "mimetype": "text/x-python",
   "name": "python",
   "nbconvert_exporter": "python",
   "pygments_lexer": "ipython3",
   "version": "3.9.5"
  }
 },
 "nbformat": 4,
 "nbformat_minor": 1
}
